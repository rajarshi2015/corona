{
 "cells": [
  {
   "cell_type": "markdown",
   "metadata": {},
   "source": [
    "# CORONAVIRUS AND ITS EFFECT ON AIR POLLUTION IN INDIA"
   ]
  },
  {
   "cell_type": "markdown",
   "metadata": {
    "colab_type": "text",
    "id": "w12cj7dYoHru"
   },
   "source": [
    "\n",
    "Importing librarys"
   ]
  },
  {
   "cell_type": "code",
   "execution_count": 1,
   "metadata": {
    "colab": {
     "base_uri": "https://localhost:8080/",
     "height": 74
    },
    "colab_type": "code",
    "id": "gJBiH5PyaEG2",
    "outputId": "6480e97c-2690-4cbe-8090-b0c9133fd231",
    "scrolled": true
   },
   "outputs": [
    {
     "name": "stderr",
     "output_type": "stream",
     "text": [
      "/usr/local/lib/python3.6/dist-packages/statsmodels/tools/_testing.py:19: FutureWarning: pandas.util.testing is deprecated. Use the functions in the public API at pandas.testing instead.\n",
      "  import pandas.util.testing as tm\n"
     ]
    }
   ],
   "source": [
    "import pandas as pd\n",
    "import numpy as np\n",
    "import datetime\n",
    "import matplotlib.pyplot as plt\n",
    "import matplotlib\n",
    "import matplotlib.dates as mdates\n",
    "import seaborn as sns"
   ]
  },
  {
   "cell_type": "markdown",
   "metadata": {
    "colab_type": "text",
    "id": "1wbMvikwoLSn"
   },
   "source": [
    "Loading the datasets"
   ]
  },
  {
   "cell_type": "code",
   "execution_count": 0,
   "metadata": {
    "colab": {},
    "colab_type": "code",
    "id": "ynugJRGTaNqT"
   },
   "outputs": [],
   "source": [
    "confirmed = pd.read_csv('https://raw.githubusercontent.com/CSSEGISandData/COVID-19/master/csse_covid_19_data/csse_covid_19_time_series/time_series_covid19_confirmed_global.csv')"
   ]
  },
  {
   "cell_type": "code",
   "execution_count": 0,
   "metadata": {
    "colab": {},
    "colab_type": "code",
    "id": "i4hjsdkyd47H"
   },
   "outputs": [],
   "source": [
    "deaths = pd.read_csv('https://raw.githubusercontent.com/CSSEGISandData/COVID-19/master/csse_covid_19_data/csse_covid_19_time_series/time_series_covid19_deaths_global.csv')"
   ]
  },
  {
   "cell_type": "code",
   "execution_count": 0,
   "metadata": {
    "colab": {},
    "colab_type": "code",
    "id": "3bei8Li4d-mZ"
   },
   "outputs": [],
   "source": [
    "recovered = pd.read_csv('https://raw.githubusercontent.com/CSSEGISandData/COVID-19/master/csse_covid_19_data/csse_covid_19_time_series/time_series_covid19_recovered_global.csv')"
   ]
  },
  {
   "cell_type": "markdown",
   "metadata": {
    "colab_type": "text",
    "id": "6zmF36JvdHF5"
   },
   "source": [
    "Cheking heads"
   ]
  },
  {
   "cell_type": "code",
   "execution_count": 6,
   "metadata": {
    "colab": {
     "base_uri": "https://localhost:8080/",
     "height": 256
    },
    "colab_type": "code",
    "id": "1za3sk81bFva",
    "outputId": "36b89875-01b5-45ec-884d-93d02cfad509"
   },
   "outputs": [
    {
     "data": {
      "text/html": [
       "<div>\n",
       "<style scoped>\n",
       "    .dataframe tbody tr th:only-of-type {\n",
       "        vertical-align: middle;\n",
       "    }\n",
       "\n",
       "    .dataframe tbody tr th {\n",
       "        vertical-align: top;\n",
       "    }\n",
       "\n",
       "    .dataframe thead th {\n",
       "        text-align: right;\n",
       "    }\n",
       "</style>\n",
       "<table border=\"1\" class=\"dataframe\">\n",
       "  <thead>\n",
       "    <tr style=\"text-align: right;\">\n",
       "      <th></th>\n",
       "      <th>Province/State</th>\n",
       "      <th>Country/Region</th>\n",
       "      <th>Lat</th>\n",
       "      <th>Long</th>\n",
       "      <th>1/22/20</th>\n",
       "      <th>1/23/20</th>\n",
       "      <th>1/24/20</th>\n",
       "      <th>1/25/20</th>\n",
       "      <th>1/26/20</th>\n",
       "      <th>1/27/20</th>\n",
       "      <th>1/28/20</th>\n",
       "      <th>1/29/20</th>\n",
       "      <th>1/30/20</th>\n",
       "      <th>1/31/20</th>\n",
       "      <th>2/1/20</th>\n",
       "      <th>2/2/20</th>\n",
       "      <th>2/3/20</th>\n",
       "      <th>2/4/20</th>\n",
       "      <th>2/5/20</th>\n",
       "      <th>2/6/20</th>\n",
       "      <th>2/7/20</th>\n",
       "      <th>2/8/20</th>\n",
       "      <th>2/9/20</th>\n",
       "      <th>2/10/20</th>\n",
       "      <th>2/11/20</th>\n",
       "      <th>2/12/20</th>\n",
       "      <th>2/13/20</th>\n",
       "      <th>2/14/20</th>\n",
       "      <th>2/15/20</th>\n",
       "      <th>2/16/20</th>\n",
       "      <th>2/17/20</th>\n",
       "      <th>2/18/20</th>\n",
       "      <th>2/19/20</th>\n",
       "      <th>2/20/20</th>\n",
       "      <th>2/21/20</th>\n",
       "      <th>2/22/20</th>\n",
       "      <th>2/23/20</th>\n",
       "      <th>2/24/20</th>\n",
       "      <th>2/25/20</th>\n",
       "      <th>2/26/20</th>\n",
       "      <th>...</th>\n",
       "      <th>4/19/20</th>\n",
       "      <th>4/20/20</th>\n",
       "      <th>4/21/20</th>\n",
       "      <th>4/22/20</th>\n",
       "      <th>4/23/20</th>\n",
       "      <th>4/24/20</th>\n",
       "      <th>4/25/20</th>\n",
       "      <th>4/26/20</th>\n",
       "      <th>4/27/20</th>\n",
       "      <th>4/28/20</th>\n",
       "      <th>4/29/20</th>\n",
       "      <th>4/30/20</th>\n",
       "      <th>5/1/20</th>\n",
       "      <th>5/2/20</th>\n",
       "      <th>5/3/20</th>\n",
       "      <th>5/4/20</th>\n",
       "      <th>5/5/20</th>\n",
       "      <th>5/6/20</th>\n",
       "      <th>5/7/20</th>\n",
       "      <th>5/8/20</th>\n",
       "      <th>5/9/20</th>\n",
       "      <th>5/10/20</th>\n",
       "      <th>5/11/20</th>\n",
       "      <th>5/12/20</th>\n",
       "      <th>5/13/20</th>\n",
       "      <th>5/14/20</th>\n",
       "      <th>5/15/20</th>\n",
       "      <th>5/16/20</th>\n",
       "      <th>5/17/20</th>\n",
       "      <th>5/18/20</th>\n",
       "      <th>5/19/20</th>\n",
       "      <th>5/20/20</th>\n",
       "      <th>5/21/20</th>\n",
       "      <th>5/22/20</th>\n",
       "      <th>5/23/20</th>\n",
       "      <th>5/24/20</th>\n",
       "      <th>5/25/20</th>\n",
       "      <th>5/26/20</th>\n",
       "      <th>5/27/20</th>\n",
       "      <th>5/28/20</th>\n",
       "    </tr>\n",
       "  </thead>\n",
       "  <tbody>\n",
       "    <tr>\n",
       "      <th>0</th>\n",
       "      <td>NaN</td>\n",
       "      <td>Afghanistan</td>\n",
       "      <td>33.0000</td>\n",
       "      <td>65.0000</td>\n",
       "      <td>0</td>\n",
       "      <td>0</td>\n",
       "      <td>0</td>\n",
       "      <td>0</td>\n",
       "      <td>0</td>\n",
       "      <td>0</td>\n",
       "      <td>0</td>\n",
       "      <td>0</td>\n",
       "      <td>0</td>\n",
       "      <td>0</td>\n",
       "      <td>0</td>\n",
       "      <td>0</td>\n",
       "      <td>0</td>\n",
       "      <td>0</td>\n",
       "      <td>0</td>\n",
       "      <td>0</td>\n",
       "      <td>0</td>\n",
       "      <td>0</td>\n",
       "      <td>0</td>\n",
       "      <td>0</td>\n",
       "      <td>0</td>\n",
       "      <td>0</td>\n",
       "      <td>0</td>\n",
       "      <td>0</td>\n",
       "      <td>0</td>\n",
       "      <td>0</td>\n",
       "      <td>0</td>\n",
       "      <td>0</td>\n",
       "      <td>0</td>\n",
       "      <td>0</td>\n",
       "      <td>0</td>\n",
       "      <td>0</td>\n",
       "      <td>0</td>\n",
       "      <td>1</td>\n",
       "      <td>1</td>\n",
       "      <td>1</td>\n",
       "      <td>...</td>\n",
       "      <td>996</td>\n",
       "      <td>1026</td>\n",
       "      <td>1092</td>\n",
       "      <td>1176</td>\n",
       "      <td>1279</td>\n",
       "      <td>1351</td>\n",
       "      <td>1463</td>\n",
       "      <td>1531</td>\n",
       "      <td>1703</td>\n",
       "      <td>1828</td>\n",
       "      <td>1939</td>\n",
       "      <td>2171</td>\n",
       "      <td>2335</td>\n",
       "      <td>2469</td>\n",
       "      <td>2704</td>\n",
       "      <td>2894</td>\n",
       "      <td>3224</td>\n",
       "      <td>3392</td>\n",
       "      <td>3563</td>\n",
       "      <td>3778</td>\n",
       "      <td>4033</td>\n",
       "      <td>4402</td>\n",
       "      <td>4687</td>\n",
       "      <td>4963</td>\n",
       "      <td>5226</td>\n",
       "      <td>5639</td>\n",
       "      <td>6053</td>\n",
       "      <td>6402</td>\n",
       "      <td>6664</td>\n",
       "      <td>7072</td>\n",
       "      <td>7653</td>\n",
       "      <td>8145</td>\n",
       "      <td>8676</td>\n",
       "      <td>9216</td>\n",
       "      <td>9998</td>\n",
       "      <td>10582</td>\n",
       "      <td>11173</td>\n",
       "      <td>11831</td>\n",
       "      <td>12456</td>\n",
       "      <td>13036</td>\n",
       "    </tr>\n",
       "    <tr>\n",
       "      <th>1</th>\n",
       "      <td>NaN</td>\n",
       "      <td>Albania</td>\n",
       "      <td>41.1533</td>\n",
       "      <td>20.1683</td>\n",
       "      <td>0</td>\n",
       "      <td>0</td>\n",
       "      <td>0</td>\n",
       "      <td>0</td>\n",
       "      <td>0</td>\n",
       "      <td>0</td>\n",
       "      <td>0</td>\n",
       "      <td>0</td>\n",
       "      <td>0</td>\n",
       "      <td>0</td>\n",
       "      <td>0</td>\n",
       "      <td>0</td>\n",
       "      <td>0</td>\n",
       "      <td>0</td>\n",
       "      <td>0</td>\n",
       "      <td>0</td>\n",
       "      <td>0</td>\n",
       "      <td>0</td>\n",
       "      <td>0</td>\n",
       "      <td>0</td>\n",
       "      <td>0</td>\n",
       "      <td>0</td>\n",
       "      <td>0</td>\n",
       "      <td>0</td>\n",
       "      <td>0</td>\n",
       "      <td>0</td>\n",
       "      <td>0</td>\n",
       "      <td>0</td>\n",
       "      <td>0</td>\n",
       "      <td>0</td>\n",
       "      <td>0</td>\n",
       "      <td>0</td>\n",
       "      <td>0</td>\n",
       "      <td>0</td>\n",
       "      <td>0</td>\n",
       "      <td>0</td>\n",
       "      <td>...</td>\n",
       "      <td>562</td>\n",
       "      <td>584</td>\n",
       "      <td>609</td>\n",
       "      <td>634</td>\n",
       "      <td>663</td>\n",
       "      <td>678</td>\n",
       "      <td>712</td>\n",
       "      <td>726</td>\n",
       "      <td>736</td>\n",
       "      <td>750</td>\n",
       "      <td>766</td>\n",
       "      <td>773</td>\n",
       "      <td>782</td>\n",
       "      <td>789</td>\n",
       "      <td>795</td>\n",
       "      <td>803</td>\n",
       "      <td>820</td>\n",
       "      <td>832</td>\n",
       "      <td>842</td>\n",
       "      <td>850</td>\n",
       "      <td>856</td>\n",
       "      <td>868</td>\n",
       "      <td>872</td>\n",
       "      <td>876</td>\n",
       "      <td>880</td>\n",
       "      <td>898</td>\n",
       "      <td>916</td>\n",
       "      <td>933</td>\n",
       "      <td>946</td>\n",
       "      <td>948</td>\n",
       "      <td>949</td>\n",
       "      <td>964</td>\n",
       "      <td>969</td>\n",
       "      <td>981</td>\n",
       "      <td>989</td>\n",
       "      <td>998</td>\n",
       "      <td>1004</td>\n",
       "      <td>1029</td>\n",
       "      <td>1050</td>\n",
       "      <td>1076</td>\n",
       "    </tr>\n",
       "    <tr>\n",
       "      <th>2</th>\n",
       "      <td>NaN</td>\n",
       "      <td>Algeria</td>\n",
       "      <td>28.0339</td>\n",
       "      <td>1.6596</td>\n",
       "      <td>0</td>\n",
       "      <td>0</td>\n",
       "      <td>0</td>\n",
       "      <td>0</td>\n",
       "      <td>0</td>\n",
       "      <td>0</td>\n",
       "      <td>0</td>\n",
       "      <td>0</td>\n",
       "      <td>0</td>\n",
       "      <td>0</td>\n",
       "      <td>0</td>\n",
       "      <td>0</td>\n",
       "      <td>0</td>\n",
       "      <td>0</td>\n",
       "      <td>0</td>\n",
       "      <td>0</td>\n",
       "      <td>0</td>\n",
       "      <td>0</td>\n",
       "      <td>0</td>\n",
       "      <td>0</td>\n",
       "      <td>0</td>\n",
       "      <td>0</td>\n",
       "      <td>0</td>\n",
       "      <td>0</td>\n",
       "      <td>0</td>\n",
       "      <td>0</td>\n",
       "      <td>0</td>\n",
       "      <td>0</td>\n",
       "      <td>0</td>\n",
       "      <td>0</td>\n",
       "      <td>0</td>\n",
       "      <td>0</td>\n",
       "      <td>0</td>\n",
       "      <td>0</td>\n",
       "      <td>1</td>\n",
       "      <td>1</td>\n",
       "      <td>...</td>\n",
       "      <td>2629</td>\n",
       "      <td>2718</td>\n",
       "      <td>2811</td>\n",
       "      <td>2910</td>\n",
       "      <td>3007</td>\n",
       "      <td>3127</td>\n",
       "      <td>3256</td>\n",
       "      <td>3382</td>\n",
       "      <td>3517</td>\n",
       "      <td>3649</td>\n",
       "      <td>3848</td>\n",
       "      <td>4006</td>\n",
       "      <td>4154</td>\n",
       "      <td>4295</td>\n",
       "      <td>4474</td>\n",
       "      <td>4648</td>\n",
       "      <td>4838</td>\n",
       "      <td>4997</td>\n",
       "      <td>5182</td>\n",
       "      <td>5369</td>\n",
       "      <td>5558</td>\n",
       "      <td>5723</td>\n",
       "      <td>5891</td>\n",
       "      <td>6067</td>\n",
       "      <td>6253</td>\n",
       "      <td>6442</td>\n",
       "      <td>6629</td>\n",
       "      <td>6821</td>\n",
       "      <td>7019</td>\n",
       "      <td>7201</td>\n",
       "      <td>7377</td>\n",
       "      <td>7542</td>\n",
       "      <td>7728</td>\n",
       "      <td>7918</td>\n",
       "      <td>8113</td>\n",
       "      <td>8306</td>\n",
       "      <td>8503</td>\n",
       "      <td>8697</td>\n",
       "      <td>8857</td>\n",
       "      <td>8997</td>\n",
       "    </tr>\n",
       "    <tr>\n",
       "      <th>3</th>\n",
       "      <td>NaN</td>\n",
       "      <td>Andorra</td>\n",
       "      <td>42.5063</td>\n",
       "      <td>1.5218</td>\n",
       "      <td>0</td>\n",
       "      <td>0</td>\n",
       "      <td>0</td>\n",
       "      <td>0</td>\n",
       "      <td>0</td>\n",
       "      <td>0</td>\n",
       "      <td>0</td>\n",
       "      <td>0</td>\n",
       "      <td>0</td>\n",
       "      <td>0</td>\n",
       "      <td>0</td>\n",
       "      <td>0</td>\n",
       "      <td>0</td>\n",
       "      <td>0</td>\n",
       "      <td>0</td>\n",
       "      <td>0</td>\n",
       "      <td>0</td>\n",
       "      <td>0</td>\n",
       "      <td>0</td>\n",
       "      <td>0</td>\n",
       "      <td>0</td>\n",
       "      <td>0</td>\n",
       "      <td>0</td>\n",
       "      <td>0</td>\n",
       "      <td>0</td>\n",
       "      <td>0</td>\n",
       "      <td>0</td>\n",
       "      <td>0</td>\n",
       "      <td>0</td>\n",
       "      <td>0</td>\n",
       "      <td>0</td>\n",
       "      <td>0</td>\n",
       "      <td>0</td>\n",
       "      <td>0</td>\n",
       "      <td>0</td>\n",
       "      <td>0</td>\n",
       "      <td>...</td>\n",
       "      <td>713</td>\n",
       "      <td>717</td>\n",
       "      <td>717</td>\n",
       "      <td>723</td>\n",
       "      <td>723</td>\n",
       "      <td>731</td>\n",
       "      <td>738</td>\n",
       "      <td>738</td>\n",
       "      <td>743</td>\n",
       "      <td>743</td>\n",
       "      <td>743</td>\n",
       "      <td>745</td>\n",
       "      <td>745</td>\n",
       "      <td>747</td>\n",
       "      <td>748</td>\n",
       "      <td>750</td>\n",
       "      <td>751</td>\n",
       "      <td>751</td>\n",
       "      <td>752</td>\n",
       "      <td>752</td>\n",
       "      <td>754</td>\n",
       "      <td>755</td>\n",
       "      <td>755</td>\n",
       "      <td>758</td>\n",
       "      <td>760</td>\n",
       "      <td>761</td>\n",
       "      <td>761</td>\n",
       "      <td>761</td>\n",
       "      <td>761</td>\n",
       "      <td>761</td>\n",
       "      <td>761</td>\n",
       "      <td>762</td>\n",
       "      <td>762</td>\n",
       "      <td>762</td>\n",
       "      <td>762</td>\n",
       "      <td>762</td>\n",
       "      <td>763</td>\n",
       "      <td>763</td>\n",
       "      <td>763</td>\n",
       "      <td>763</td>\n",
       "    </tr>\n",
       "    <tr>\n",
       "      <th>4</th>\n",
       "      <td>NaN</td>\n",
       "      <td>Angola</td>\n",
       "      <td>-11.2027</td>\n",
       "      <td>17.8739</td>\n",
       "      <td>0</td>\n",
       "      <td>0</td>\n",
       "      <td>0</td>\n",
       "      <td>0</td>\n",
       "      <td>0</td>\n",
       "      <td>0</td>\n",
       "      <td>0</td>\n",
       "      <td>0</td>\n",
       "      <td>0</td>\n",
       "      <td>0</td>\n",
       "      <td>0</td>\n",
       "      <td>0</td>\n",
       "      <td>0</td>\n",
       "      <td>0</td>\n",
       "      <td>0</td>\n",
       "      <td>0</td>\n",
       "      <td>0</td>\n",
       "      <td>0</td>\n",
       "      <td>0</td>\n",
       "      <td>0</td>\n",
       "      <td>0</td>\n",
       "      <td>0</td>\n",
       "      <td>0</td>\n",
       "      <td>0</td>\n",
       "      <td>0</td>\n",
       "      <td>0</td>\n",
       "      <td>0</td>\n",
       "      <td>0</td>\n",
       "      <td>0</td>\n",
       "      <td>0</td>\n",
       "      <td>0</td>\n",
       "      <td>0</td>\n",
       "      <td>0</td>\n",
       "      <td>0</td>\n",
       "      <td>0</td>\n",
       "      <td>0</td>\n",
       "      <td>...</td>\n",
       "      <td>24</td>\n",
       "      <td>24</td>\n",
       "      <td>24</td>\n",
       "      <td>25</td>\n",
       "      <td>25</td>\n",
       "      <td>25</td>\n",
       "      <td>25</td>\n",
       "      <td>26</td>\n",
       "      <td>27</td>\n",
       "      <td>27</td>\n",
       "      <td>27</td>\n",
       "      <td>27</td>\n",
       "      <td>30</td>\n",
       "      <td>35</td>\n",
       "      <td>35</td>\n",
       "      <td>35</td>\n",
       "      <td>36</td>\n",
       "      <td>36</td>\n",
       "      <td>36</td>\n",
       "      <td>43</td>\n",
       "      <td>43</td>\n",
       "      <td>45</td>\n",
       "      <td>45</td>\n",
       "      <td>45</td>\n",
       "      <td>45</td>\n",
       "      <td>48</td>\n",
       "      <td>48</td>\n",
       "      <td>48</td>\n",
       "      <td>48</td>\n",
       "      <td>50</td>\n",
       "      <td>52</td>\n",
       "      <td>52</td>\n",
       "      <td>58</td>\n",
       "      <td>60</td>\n",
       "      <td>61</td>\n",
       "      <td>69</td>\n",
       "      <td>70</td>\n",
       "      <td>70</td>\n",
       "      <td>71</td>\n",
       "      <td>74</td>\n",
       "    </tr>\n",
       "  </tbody>\n",
       "</table>\n",
       "<p>5 rows × 132 columns</p>\n",
       "</div>"
      ],
      "text/plain": [
       "  Province/State Country/Region      Lat  ...  5/26/20  5/27/20  5/28/20\n",
       "0            NaN    Afghanistan  33.0000  ...    11831    12456    13036\n",
       "1            NaN        Albania  41.1533  ...     1029     1050     1076\n",
       "2            NaN        Algeria  28.0339  ...     8697     8857     8997\n",
       "3            NaN        Andorra  42.5063  ...      763      763      763\n",
       "4            NaN         Angola -11.2027  ...       70       71       74\n",
       "\n",
       "[5 rows x 132 columns]"
      ]
     },
     "execution_count": 6,
     "metadata": {
      "tags": []
     },
     "output_type": "execute_result"
    }
   ],
   "source": [
    "confirmed.head()"
   ]
  },
  {
   "cell_type": "code",
   "execution_count": 7,
   "metadata": {
    "colab": {
     "base_uri": "https://localhost:8080/",
     "height": 256
    },
    "colab_type": "code",
    "id": "oPH4JsTxeJJe",
    "outputId": "6ba7ab59-a701-4645-88c6-81e7cc8aab3f"
   },
   "outputs": [
    {
     "data": {
      "text/html": [
       "<div>\n",
       "<style scoped>\n",
       "    .dataframe tbody tr th:only-of-type {\n",
       "        vertical-align: middle;\n",
       "    }\n",
       "\n",
       "    .dataframe tbody tr th {\n",
       "        vertical-align: top;\n",
       "    }\n",
       "\n",
       "    .dataframe thead th {\n",
       "        text-align: right;\n",
       "    }\n",
       "</style>\n",
       "<table border=\"1\" class=\"dataframe\">\n",
       "  <thead>\n",
       "    <tr style=\"text-align: right;\">\n",
       "      <th></th>\n",
       "      <th>Province/State</th>\n",
       "      <th>Country/Region</th>\n",
       "      <th>Lat</th>\n",
       "      <th>Long</th>\n",
       "      <th>1/22/20</th>\n",
       "      <th>1/23/20</th>\n",
       "      <th>1/24/20</th>\n",
       "      <th>1/25/20</th>\n",
       "      <th>1/26/20</th>\n",
       "      <th>1/27/20</th>\n",
       "      <th>1/28/20</th>\n",
       "      <th>1/29/20</th>\n",
       "      <th>1/30/20</th>\n",
       "      <th>1/31/20</th>\n",
       "      <th>2/1/20</th>\n",
       "      <th>2/2/20</th>\n",
       "      <th>2/3/20</th>\n",
       "      <th>2/4/20</th>\n",
       "      <th>2/5/20</th>\n",
       "      <th>2/6/20</th>\n",
       "      <th>2/7/20</th>\n",
       "      <th>2/8/20</th>\n",
       "      <th>2/9/20</th>\n",
       "      <th>2/10/20</th>\n",
       "      <th>2/11/20</th>\n",
       "      <th>2/12/20</th>\n",
       "      <th>2/13/20</th>\n",
       "      <th>2/14/20</th>\n",
       "      <th>2/15/20</th>\n",
       "      <th>2/16/20</th>\n",
       "      <th>2/17/20</th>\n",
       "      <th>2/18/20</th>\n",
       "      <th>2/19/20</th>\n",
       "      <th>2/20/20</th>\n",
       "      <th>2/21/20</th>\n",
       "      <th>2/22/20</th>\n",
       "      <th>2/23/20</th>\n",
       "      <th>2/24/20</th>\n",
       "      <th>2/25/20</th>\n",
       "      <th>2/26/20</th>\n",
       "      <th>...</th>\n",
       "      <th>4/19/20</th>\n",
       "      <th>4/20/20</th>\n",
       "      <th>4/21/20</th>\n",
       "      <th>4/22/20</th>\n",
       "      <th>4/23/20</th>\n",
       "      <th>4/24/20</th>\n",
       "      <th>4/25/20</th>\n",
       "      <th>4/26/20</th>\n",
       "      <th>4/27/20</th>\n",
       "      <th>4/28/20</th>\n",
       "      <th>4/29/20</th>\n",
       "      <th>4/30/20</th>\n",
       "      <th>5/1/20</th>\n",
       "      <th>5/2/20</th>\n",
       "      <th>5/3/20</th>\n",
       "      <th>5/4/20</th>\n",
       "      <th>5/5/20</th>\n",
       "      <th>5/6/20</th>\n",
       "      <th>5/7/20</th>\n",
       "      <th>5/8/20</th>\n",
       "      <th>5/9/20</th>\n",
       "      <th>5/10/20</th>\n",
       "      <th>5/11/20</th>\n",
       "      <th>5/12/20</th>\n",
       "      <th>5/13/20</th>\n",
       "      <th>5/14/20</th>\n",
       "      <th>5/15/20</th>\n",
       "      <th>5/16/20</th>\n",
       "      <th>5/17/20</th>\n",
       "      <th>5/18/20</th>\n",
       "      <th>5/19/20</th>\n",
       "      <th>5/20/20</th>\n",
       "      <th>5/21/20</th>\n",
       "      <th>5/22/20</th>\n",
       "      <th>5/23/20</th>\n",
       "      <th>5/24/20</th>\n",
       "      <th>5/25/20</th>\n",
       "      <th>5/26/20</th>\n",
       "      <th>5/27/20</th>\n",
       "      <th>5/28/20</th>\n",
       "    </tr>\n",
       "  </thead>\n",
       "  <tbody>\n",
       "    <tr>\n",
       "      <th>0</th>\n",
       "      <td>NaN</td>\n",
       "      <td>Afghanistan</td>\n",
       "      <td>33.0000</td>\n",
       "      <td>65.0000</td>\n",
       "      <td>0</td>\n",
       "      <td>0</td>\n",
       "      <td>0</td>\n",
       "      <td>0</td>\n",
       "      <td>0</td>\n",
       "      <td>0</td>\n",
       "      <td>0</td>\n",
       "      <td>0</td>\n",
       "      <td>0</td>\n",
       "      <td>0</td>\n",
       "      <td>0</td>\n",
       "      <td>0</td>\n",
       "      <td>0</td>\n",
       "      <td>0</td>\n",
       "      <td>0</td>\n",
       "      <td>0</td>\n",
       "      <td>0</td>\n",
       "      <td>0</td>\n",
       "      <td>0</td>\n",
       "      <td>0</td>\n",
       "      <td>0</td>\n",
       "      <td>0</td>\n",
       "      <td>0</td>\n",
       "      <td>0</td>\n",
       "      <td>0</td>\n",
       "      <td>0</td>\n",
       "      <td>0</td>\n",
       "      <td>0</td>\n",
       "      <td>0</td>\n",
       "      <td>0</td>\n",
       "      <td>0</td>\n",
       "      <td>0</td>\n",
       "      <td>0</td>\n",
       "      <td>0</td>\n",
       "      <td>0</td>\n",
       "      <td>0</td>\n",
       "      <td>...</td>\n",
       "      <td>131</td>\n",
       "      <td>135</td>\n",
       "      <td>150</td>\n",
       "      <td>166</td>\n",
       "      <td>179</td>\n",
       "      <td>188</td>\n",
       "      <td>188</td>\n",
       "      <td>207</td>\n",
       "      <td>220</td>\n",
       "      <td>228</td>\n",
       "      <td>252</td>\n",
       "      <td>260</td>\n",
       "      <td>310</td>\n",
       "      <td>331</td>\n",
       "      <td>345</td>\n",
       "      <td>397</td>\n",
       "      <td>421</td>\n",
       "      <td>458</td>\n",
       "      <td>468</td>\n",
       "      <td>472</td>\n",
       "      <td>502</td>\n",
       "      <td>558</td>\n",
       "      <td>558</td>\n",
       "      <td>610</td>\n",
       "      <td>648</td>\n",
       "      <td>691</td>\n",
       "      <td>745</td>\n",
       "      <td>745</td>\n",
       "      <td>778</td>\n",
       "      <td>801</td>\n",
       "      <td>850</td>\n",
       "      <td>930</td>\n",
       "      <td>938</td>\n",
       "      <td>996</td>\n",
       "      <td>1040</td>\n",
       "      <td>1075</td>\n",
       "      <td>1097</td>\n",
       "      <td>1128</td>\n",
       "      <td>1138</td>\n",
       "      <td>1209</td>\n",
       "    </tr>\n",
       "    <tr>\n",
       "      <th>1</th>\n",
       "      <td>NaN</td>\n",
       "      <td>Albania</td>\n",
       "      <td>41.1533</td>\n",
       "      <td>20.1683</td>\n",
       "      <td>0</td>\n",
       "      <td>0</td>\n",
       "      <td>0</td>\n",
       "      <td>0</td>\n",
       "      <td>0</td>\n",
       "      <td>0</td>\n",
       "      <td>0</td>\n",
       "      <td>0</td>\n",
       "      <td>0</td>\n",
       "      <td>0</td>\n",
       "      <td>0</td>\n",
       "      <td>0</td>\n",
       "      <td>0</td>\n",
       "      <td>0</td>\n",
       "      <td>0</td>\n",
       "      <td>0</td>\n",
       "      <td>0</td>\n",
       "      <td>0</td>\n",
       "      <td>0</td>\n",
       "      <td>0</td>\n",
       "      <td>0</td>\n",
       "      <td>0</td>\n",
       "      <td>0</td>\n",
       "      <td>0</td>\n",
       "      <td>0</td>\n",
       "      <td>0</td>\n",
       "      <td>0</td>\n",
       "      <td>0</td>\n",
       "      <td>0</td>\n",
       "      <td>0</td>\n",
       "      <td>0</td>\n",
       "      <td>0</td>\n",
       "      <td>0</td>\n",
       "      <td>0</td>\n",
       "      <td>0</td>\n",
       "      <td>0</td>\n",
       "      <td>...</td>\n",
       "      <td>314</td>\n",
       "      <td>327</td>\n",
       "      <td>345</td>\n",
       "      <td>356</td>\n",
       "      <td>385</td>\n",
       "      <td>394</td>\n",
       "      <td>403</td>\n",
       "      <td>410</td>\n",
       "      <td>422</td>\n",
       "      <td>431</td>\n",
       "      <td>455</td>\n",
       "      <td>470</td>\n",
       "      <td>488</td>\n",
       "      <td>519</td>\n",
       "      <td>531</td>\n",
       "      <td>543</td>\n",
       "      <td>570</td>\n",
       "      <td>595</td>\n",
       "      <td>605</td>\n",
       "      <td>620</td>\n",
       "      <td>627</td>\n",
       "      <td>650</td>\n",
       "      <td>654</td>\n",
       "      <td>682</td>\n",
       "      <td>688</td>\n",
       "      <td>694</td>\n",
       "      <td>705</td>\n",
       "      <td>714</td>\n",
       "      <td>715</td>\n",
       "      <td>727</td>\n",
       "      <td>742</td>\n",
       "      <td>758</td>\n",
       "      <td>771</td>\n",
       "      <td>777</td>\n",
       "      <td>783</td>\n",
       "      <td>789</td>\n",
       "      <td>795</td>\n",
       "      <td>803</td>\n",
       "      <td>812</td>\n",
       "      <td>823</td>\n",
       "    </tr>\n",
       "    <tr>\n",
       "      <th>2</th>\n",
       "      <td>NaN</td>\n",
       "      <td>Algeria</td>\n",
       "      <td>28.0339</td>\n",
       "      <td>1.6596</td>\n",
       "      <td>0</td>\n",
       "      <td>0</td>\n",
       "      <td>0</td>\n",
       "      <td>0</td>\n",
       "      <td>0</td>\n",
       "      <td>0</td>\n",
       "      <td>0</td>\n",
       "      <td>0</td>\n",
       "      <td>0</td>\n",
       "      <td>0</td>\n",
       "      <td>0</td>\n",
       "      <td>0</td>\n",
       "      <td>0</td>\n",
       "      <td>0</td>\n",
       "      <td>0</td>\n",
       "      <td>0</td>\n",
       "      <td>0</td>\n",
       "      <td>0</td>\n",
       "      <td>0</td>\n",
       "      <td>0</td>\n",
       "      <td>0</td>\n",
       "      <td>0</td>\n",
       "      <td>0</td>\n",
       "      <td>0</td>\n",
       "      <td>0</td>\n",
       "      <td>0</td>\n",
       "      <td>0</td>\n",
       "      <td>0</td>\n",
       "      <td>0</td>\n",
       "      <td>0</td>\n",
       "      <td>0</td>\n",
       "      <td>0</td>\n",
       "      <td>0</td>\n",
       "      <td>0</td>\n",
       "      <td>0</td>\n",
       "      <td>0</td>\n",
       "      <td>...</td>\n",
       "      <td>1047</td>\n",
       "      <td>1099</td>\n",
       "      <td>1152</td>\n",
       "      <td>1204</td>\n",
       "      <td>1355</td>\n",
       "      <td>1408</td>\n",
       "      <td>1479</td>\n",
       "      <td>1508</td>\n",
       "      <td>1558</td>\n",
       "      <td>1651</td>\n",
       "      <td>1702</td>\n",
       "      <td>1779</td>\n",
       "      <td>1821</td>\n",
       "      <td>1872</td>\n",
       "      <td>1936</td>\n",
       "      <td>1998</td>\n",
       "      <td>2067</td>\n",
       "      <td>2197</td>\n",
       "      <td>2323</td>\n",
       "      <td>2467</td>\n",
       "      <td>2546</td>\n",
       "      <td>2678</td>\n",
       "      <td>2841</td>\n",
       "      <td>2998</td>\n",
       "      <td>3058</td>\n",
       "      <td>3158</td>\n",
       "      <td>3271</td>\n",
       "      <td>3409</td>\n",
       "      <td>3507</td>\n",
       "      <td>3625</td>\n",
       "      <td>3746</td>\n",
       "      <td>3968</td>\n",
       "      <td>4062</td>\n",
       "      <td>4256</td>\n",
       "      <td>4426</td>\n",
       "      <td>4784</td>\n",
       "      <td>4747</td>\n",
       "      <td>4918</td>\n",
       "      <td>5129</td>\n",
       "      <td>5277</td>\n",
       "    </tr>\n",
       "    <tr>\n",
       "      <th>3</th>\n",
       "      <td>NaN</td>\n",
       "      <td>Andorra</td>\n",
       "      <td>42.5063</td>\n",
       "      <td>1.5218</td>\n",
       "      <td>0</td>\n",
       "      <td>0</td>\n",
       "      <td>0</td>\n",
       "      <td>0</td>\n",
       "      <td>0</td>\n",
       "      <td>0</td>\n",
       "      <td>0</td>\n",
       "      <td>0</td>\n",
       "      <td>0</td>\n",
       "      <td>0</td>\n",
       "      <td>0</td>\n",
       "      <td>0</td>\n",
       "      <td>0</td>\n",
       "      <td>0</td>\n",
       "      <td>0</td>\n",
       "      <td>0</td>\n",
       "      <td>0</td>\n",
       "      <td>0</td>\n",
       "      <td>0</td>\n",
       "      <td>0</td>\n",
       "      <td>0</td>\n",
       "      <td>0</td>\n",
       "      <td>0</td>\n",
       "      <td>0</td>\n",
       "      <td>0</td>\n",
       "      <td>0</td>\n",
       "      <td>0</td>\n",
       "      <td>0</td>\n",
       "      <td>0</td>\n",
       "      <td>0</td>\n",
       "      <td>0</td>\n",
       "      <td>0</td>\n",
       "      <td>0</td>\n",
       "      <td>0</td>\n",
       "      <td>0</td>\n",
       "      <td>0</td>\n",
       "      <td>...</td>\n",
       "      <td>235</td>\n",
       "      <td>248</td>\n",
       "      <td>282</td>\n",
       "      <td>309</td>\n",
       "      <td>333</td>\n",
       "      <td>344</td>\n",
       "      <td>344</td>\n",
       "      <td>344</td>\n",
       "      <td>385</td>\n",
       "      <td>398</td>\n",
       "      <td>423</td>\n",
       "      <td>468</td>\n",
       "      <td>468</td>\n",
       "      <td>472</td>\n",
       "      <td>493</td>\n",
       "      <td>499</td>\n",
       "      <td>514</td>\n",
       "      <td>521</td>\n",
       "      <td>526</td>\n",
       "      <td>537</td>\n",
       "      <td>545</td>\n",
       "      <td>550</td>\n",
       "      <td>550</td>\n",
       "      <td>568</td>\n",
       "      <td>576</td>\n",
       "      <td>596</td>\n",
       "      <td>604</td>\n",
       "      <td>615</td>\n",
       "      <td>617</td>\n",
       "      <td>624</td>\n",
       "      <td>628</td>\n",
       "      <td>639</td>\n",
       "      <td>639</td>\n",
       "      <td>652</td>\n",
       "      <td>653</td>\n",
       "      <td>653</td>\n",
       "      <td>663</td>\n",
       "      <td>676</td>\n",
       "      <td>676</td>\n",
       "      <td>681</td>\n",
       "    </tr>\n",
       "    <tr>\n",
       "      <th>4</th>\n",
       "      <td>NaN</td>\n",
       "      <td>Angola</td>\n",
       "      <td>-11.2027</td>\n",
       "      <td>17.8739</td>\n",
       "      <td>0</td>\n",
       "      <td>0</td>\n",
       "      <td>0</td>\n",
       "      <td>0</td>\n",
       "      <td>0</td>\n",
       "      <td>0</td>\n",
       "      <td>0</td>\n",
       "      <td>0</td>\n",
       "      <td>0</td>\n",
       "      <td>0</td>\n",
       "      <td>0</td>\n",
       "      <td>0</td>\n",
       "      <td>0</td>\n",
       "      <td>0</td>\n",
       "      <td>0</td>\n",
       "      <td>0</td>\n",
       "      <td>0</td>\n",
       "      <td>0</td>\n",
       "      <td>0</td>\n",
       "      <td>0</td>\n",
       "      <td>0</td>\n",
       "      <td>0</td>\n",
       "      <td>0</td>\n",
       "      <td>0</td>\n",
       "      <td>0</td>\n",
       "      <td>0</td>\n",
       "      <td>0</td>\n",
       "      <td>0</td>\n",
       "      <td>0</td>\n",
       "      <td>0</td>\n",
       "      <td>0</td>\n",
       "      <td>0</td>\n",
       "      <td>0</td>\n",
       "      <td>0</td>\n",
       "      <td>0</td>\n",
       "      <td>0</td>\n",
       "      <td>...</td>\n",
       "      <td>6</td>\n",
       "      <td>6</td>\n",
       "      <td>6</td>\n",
       "      <td>6</td>\n",
       "      <td>6</td>\n",
       "      <td>6</td>\n",
       "      <td>6</td>\n",
       "      <td>6</td>\n",
       "      <td>6</td>\n",
       "      <td>6</td>\n",
       "      <td>7</td>\n",
       "      <td>7</td>\n",
       "      <td>11</td>\n",
       "      <td>11</td>\n",
       "      <td>11</td>\n",
       "      <td>11</td>\n",
       "      <td>11</td>\n",
       "      <td>11</td>\n",
       "      <td>11</td>\n",
       "      <td>11</td>\n",
       "      <td>13</td>\n",
       "      <td>13</td>\n",
       "      <td>13</td>\n",
       "      <td>13</td>\n",
       "      <td>14</td>\n",
       "      <td>14</td>\n",
       "      <td>17</td>\n",
       "      <td>17</td>\n",
       "      <td>17</td>\n",
       "      <td>17</td>\n",
       "      <td>17</td>\n",
       "      <td>17</td>\n",
       "      <td>17</td>\n",
       "      <td>17</td>\n",
       "      <td>18</td>\n",
       "      <td>18</td>\n",
       "      <td>18</td>\n",
       "      <td>18</td>\n",
       "      <td>18</td>\n",
       "      <td>18</td>\n",
       "    </tr>\n",
       "  </tbody>\n",
       "</table>\n",
       "<p>5 rows × 132 columns</p>\n",
       "</div>"
      ],
      "text/plain": [
       "  Province/State Country/Region      Lat  ...  5/26/20  5/27/20  5/28/20\n",
       "0            NaN    Afghanistan  33.0000  ...     1128     1138     1209\n",
       "1            NaN        Albania  41.1533  ...      803      812      823\n",
       "2            NaN        Algeria  28.0339  ...     4918     5129     5277\n",
       "3            NaN        Andorra  42.5063  ...      676      676      681\n",
       "4            NaN         Angola -11.2027  ...       18       18       18\n",
       "\n",
       "[5 rows x 132 columns]"
      ]
     },
     "execution_count": 7,
     "metadata": {
      "tags": []
     },
     "output_type": "execute_result"
    }
   ],
   "source": [
    "recovered.head()"
   ]
  },
  {
   "cell_type": "code",
   "execution_count": 8,
   "metadata": {
    "colab": {
     "base_uri": "https://localhost:8080/",
     "height": 256
    },
    "colab_type": "code",
    "id": "lDrQ5UcteQkx",
    "outputId": "e340b623-32e3-4fde-efef-b703ba89f214"
   },
   "outputs": [
    {
     "data": {
      "text/html": [
       "<div>\n",
       "<style scoped>\n",
       "    .dataframe tbody tr th:only-of-type {\n",
       "        vertical-align: middle;\n",
       "    }\n",
       "\n",
       "    .dataframe tbody tr th {\n",
       "        vertical-align: top;\n",
       "    }\n",
       "\n",
       "    .dataframe thead th {\n",
       "        text-align: right;\n",
       "    }\n",
       "</style>\n",
       "<table border=\"1\" class=\"dataframe\">\n",
       "  <thead>\n",
       "    <tr style=\"text-align: right;\">\n",
       "      <th></th>\n",
       "      <th>Province/State</th>\n",
       "      <th>Country/Region</th>\n",
       "      <th>Lat</th>\n",
       "      <th>Long</th>\n",
       "      <th>1/22/20</th>\n",
       "      <th>1/23/20</th>\n",
       "      <th>1/24/20</th>\n",
       "      <th>1/25/20</th>\n",
       "      <th>1/26/20</th>\n",
       "      <th>1/27/20</th>\n",
       "      <th>1/28/20</th>\n",
       "      <th>1/29/20</th>\n",
       "      <th>1/30/20</th>\n",
       "      <th>1/31/20</th>\n",
       "      <th>2/1/20</th>\n",
       "      <th>2/2/20</th>\n",
       "      <th>2/3/20</th>\n",
       "      <th>2/4/20</th>\n",
       "      <th>2/5/20</th>\n",
       "      <th>2/6/20</th>\n",
       "      <th>2/7/20</th>\n",
       "      <th>2/8/20</th>\n",
       "      <th>2/9/20</th>\n",
       "      <th>2/10/20</th>\n",
       "      <th>2/11/20</th>\n",
       "      <th>2/12/20</th>\n",
       "      <th>2/13/20</th>\n",
       "      <th>2/14/20</th>\n",
       "      <th>2/15/20</th>\n",
       "      <th>2/16/20</th>\n",
       "      <th>2/17/20</th>\n",
       "      <th>2/18/20</th>\n",
       "      <th>2/19/20</th>\n",
       "      <th>2/20/20</th>\n",
       "      <th>2/21/20</th>\n",
       "      <th>2/22/20</th>\n",
       "      <th>2/23/20</th>\n",
       "      <th>2/24/20</th>\n",
       "      <th>2/25/20</th>\n",
       "      <th>2/26/20</th>\n",
       "      <th>...</th>\n",
       "      <th>4/19/20</th>\n",
       "      <th>4/20/20</th>\n",
       "      <th>4/21/20</th>\n",
       "      <th>4/22/20</th>\n",
       "      <th>4/23/20</th>\n",
       "      <th>4/24/20</th>\n",
       "      <th>4/25/20</th>\n",
       "      <th>4/26/20</th>\n",
       "      <th>4/27/20</th>\n",
       "      <th>4/28/20</th>\n",
       "      <th>4/29/20</th>\n",
       "      <th>4/30/20</th>\n",
       "      <th>5/1/20</th>\n",
       "      <th>5/2/20</th>\n",
       "      <th>5/3/20</th>\n",
       "      <th>5/4/20</th>\n",
       "      <th>5/5/20</th>\n",
       "      <th>5/6/20</th>\n",
       "      <th>5/7/20</th>\n",
       "      <th>5/8/20</th>\n",
       "      <th>5/9/20</th>\n",
       "      <th>5/10/20</th>\n",
       "      <th>5/11/20</th>\n",
       "      <th>5/12/20</th>\n",
       "      <th>5/13/20</th>\n",
       "      <th>5/14/20</th>\n",
       "      <th>5/15/20</th>\n",
       "      <th>5/16/20</th>\n",
       "      <th>5/17/20</th>\n",
       "      <th>5/18/20</th>\n",
       "      <th>5/19/20</th>\n",
       "      <th>5/20/20</th>\n",
       "      <th>5/21/20</th>\n",
       "      <th>5/22/20</th>\n",
       "      <th>5/23/20</th>\n",
       "      <th>5/24/20</th>\n",
       "      <th>5/25/20</th>\n",
       "      <th>5/26/20</th>\n",
       "      <th>5/27/20</th>\n",
       "      <th>5/28/20</th>\n",
       "    </tr>\n",
       "  </thead>\n",
       "  <tbody>\n",
       "    <tr>\n",
       "      <th>0</th>\n",
       "      <td>NaN</td>\n",
       "      <td>Afghanistan</td>\n",
       "      <td>33.0000</td>\n",
       "      <td>65.0000</td>\n",
       "      <td>0</td>\n",
       "      <td>0</td>\n",
       "      <td>0</td>\n",
       "      <td>0</td>\n",
       "      <td>0</td>\n",
       "      <td>0</td>\n",
       "      <td>0</td>\n",
       "      <td>0</td>\n",
       "      <td>0</td>\n",
       "      <td>0</td>\n",
       "      <td>0</td>\n",
       "      <td>0</td>\n",
       "      <td>0</td>\n",
       "      <td>0</td>\n",
       "      <td>0</td>\n",
       "      <td>0</td>\n",
       "      <td>0</td>\n",
       "      <td>0</td>\n",
       "      <td>0</td>\n",
       "      <td>0</td>\n",
       "      <td>0</td>\n",
       "      <td>0</td>\n",
       "      <td>0</td>\n",
       "      <td>0</td>\n",
       "      <td>0</td>\n",
       "      <td>0</td>\n",
       "      <td>0</td>\n",
       "      <td>0</td>\n",
       "      <td>0</td>\n",
       "      <td>0</td>\n",
       "      <td>0</td>\n",
       "      <td>0</td>\n",
       "      <td>0</td>\n",
       "      <td>0</td>\n",
       "      <td>0</td>\n",
       "      <td>0</td>\n",
       "      <td>...</td>\n",
       "      <td>33</td>\n",
       "      <td>36</td>\n",
       "      <td>36</td>\n",
       "      <td>40</td>\n",
       "      <td>42</td>\n",
       "      <td>43</td>\n",
       "      <td>47</td>\n",
       "      <td>50</td>\n",
       "      <td>57</td>\n",
       "      <td>58</td>\n",
       "      <td>60</td>\n",
       "      <td>64</td>\n",
       "      <td>68</td>\n",
       "      <td>72</td>\n",
       "      <td>85</td>\n",
       "      <td>90</td>\n",
       "      <td>95</td>\n",
       "      <td>104</td>\n",
       "      <td>106</td>\n",
       "      <td>109</td>\n",
       "      <td>115</td>\n",
       "      <td>120</td>\n",
       "      <td>122</td>\n",
       "      <td>127</td>\n",
       "      <td>132</td>\n",
       "      <td>136</td>\n",
       "      <td>153</td>\n",
       "      <td>168</td>\n",
       "      <td>169</td>\n",
       "      <td>173</td>\n",
       "      <td>178</td>\n",
       "      <td>187</td>\n",
       "      <td>193</td>\n",
       "      <td>205</td>\n",
       "      <td>216</td>\n",
       "      <td>218</td>\n",
       "      <td>219</td>\n",
       "      <td>220</td>\n",
       "      <td>227</td>\n",
       "      <td>235</td>\n",
       "    </tr>\n",
       "    <tr>\n",
       "      <th>1</th>\n",
       "      <td>NaN</td>\n",
       "      <td>Albania</td>\n",
       "      <td>41.1533</td>\n",
       "      <td>20.1683</td>\n",
       "      <td>0</td>\n",
       "      <td>0</td>\n",
       "      <td>0</td>\n",
       "      <td>0</td>\n",
       "      <td>0</td>\n",
       "      <td>0</td>\n",
       "      <td>0</td>\n",
       "      <td>0</td>\n",
       "      <td>0</td>\n",
       "      <td>0</td>\n",
       "      <td>0</td>\n",
       "      <td>0</td>\n",
       "      <td>0</td>\n",
       "      <td>0</td>\n",
       "      <td>0</td>\n",
       "      <td>0</td>\n",
       "      <td>0</td>\n",
       "      <td>0</td>\n",
       "      <td>0</td>\n",
       "      <td>0</td>\n",
       "      <td>0</td>\n",
       "      <td>0</td>\n",
       "      <td>0</td>\n",
       "      <td>0</td>\n",
       "      <td>0</td>\n",
       "      <td>0</td>\n",
       "      <td>0</td>\n",
       "      <td>0</td>\n",
       "      <td>0</td>\n",
       "      <td>0</td>\n",
       "      <td>0</td>\n",
       "      <td>0</td>\n",
       "      <td>0</td>\n",
       "      <td>0</td>\n",
       "      <td>0</td>\n",
       "      <td>0</td>\n",
       "      <td>...</td>\n",
       "      <td>26</td>\n",
       "      <td>26</td>\n",
       "      <td>26</td>\n",
       "      <td>27</td>\n",
       "      <td>27</td>\n",
       "      <td>27</td>\n",
       "      <td>27</td>\n",
       "      <td>28</td>\n",
       "      <td>28</td>\n",
       "      <td>30</td>\n",
       "      <td>30</td>\n",
       "      <td>31</td>\n",
       "      <td>31</td>\n",
       "      <td>31</td>\n",
       "      <td>31</td>\n",
       "      <td>31</td>\n",
       "      <td>31</td>\n",
       "      <td>31</td>\n",
       "      <td>31</td>\n",
       "      <td>31</td>\n",
       "      <td>31</td>\n",
       "      <td>31</td>\n",
       "      <td>31</td>\n",
       "      <td>31</td>\n",
       "      <td>31</td>\n",
       "      <td>31</td>\n",
       "      <td>31</td>\n",
       "      <td>31</td>\n",
       "      <td>31</td>\n",
       "      <td>31</td>\n",
       "      <td>31</td>\n",
       "      <td>31</td>\n",
       "      <td>31</td>\n",
       "      <td>31</td>\n",
       "      <td>31</td>\n",
       "      <td>32</td>\n",
       "      <td>32</td>\n",
       "      <td>33</td>\n",
       "      <td>33</td>\n",
       "      <td>33</td>\n",
       "    </tr>\n",
       "    <tr>\n",
       "      <th>2</th>\n",
       "      <td>NaN</td>\n",
       "      <td>Algeria</td>\n",
       "      <td>28.0339</td>\n",
       "      <td>1.6596</td>\n",
       "      <td>0</td>\n",
       "      <td>0</td>\n",
       "      <td>0</td>\n",
       "      <td>0</td>\n",
       "      <td>0</td>\n",
       "      <td>0</td>\n",
       "      <td>0</td>\n",
       "      <td>0</td>\n",
       "      <td>0</td>\n",
       "      <td>0</td>\n",
       "      <td>0</td>\n",
       "      <td>0</td>\n",
       "      <td>0</td>\n",
       "      <td>0</td>\n",
       "      <td>0</td>\n",
       "      <td>0</td>\n",
       "      <td>0</td>\n",
       "      <td>0</td>\n",
       "      <td>0</td>\n",
       "      <td>0</td>\n",
       "      <td>0</td>\n",
       "      <td>0</td>\n",
       "      <td>0</td>\n",
       "      <td>0</td>\n",
       "      <td>0</td>\n",
       "      <td>0</td>\n",
       "      <td>0</td>\n",
       "      <td>0</td>\n",
       "      <td>0</td>\n",
       "      <td>0</td>\n",
       "      <td>0</td>\n",
       "      <td>0</td>\n",
       "      <td>0</td>\n",
       "      <td>0</td>\n",
       "      <td>0</td>\n",
       "      <td>0</td>\n",
       "      <td>...</td>\n",
       "      <td>375</td>\n",
       "      <td>384</td>\n",
       "      <td>392</td>\n",
       "      <td>402</td>\n",
       "      <td>407</td>\n",
       "      <td>415</td>\n",
       "      <td>419</td>\n",
       "      <td>425</td>\n",
       "      <td>432</td>\n",
       "      <td>437</td>\n",
       "      <td>444</td>\n",
       "      <td>450</td>\n",
       "      <td>453</td>\n",
       "      <td>459</td>\n",
       "      <td>463</td>\n",
       "      <td>465</td>\n",
       "      <td>470</td>\n",
       "      <td>476</td>\n",
       "      <td>483</td>\n",
       "      <td>488</td>\n",
       "      <td>494</td>\n",
       "      <td>502</td>\n",
       "      <td>507</td>\n",
       "      <td>515</td>\n",
       "      <td>522</td>\n",
       "      <td>529</td>\n",
       "      <td>536</td>\n",
       "      <td>542</td>\n",
       "      <td>548</td>\n",
       "      <td>555</td>\n",
       "      <td>561</td>\n",
       "      <td>568</td>\n",
       "      <td>575</td>\n",
       "      <td>582</td>\n",
       "      <td>592</td>\n",
       "      <td>600</td>\n",
       "      <td>609</td>\n",
       "      <td>617</td>\n",
       "      <td>623</td>\n",
       "      <td>630</td>\n",
       "    </tr>\n",
       "    <tr>\n",
       "      <th>3</th>\n",
       "      <td>NaN</td>\n",
       "      <td>Andorra</td>\n",
       "      <td>42.5063</td>\n",
       "      <td>1.5218</td>\n",
       "      <td>0</td>\n",
       "      <td>0</td>\n",
       "      <td>0</td>\n",
       "      <td>0</td>\n",
       "      <td>0</td>\n",
       "      <td>0</td>\n",
       "      <td>0</td>\n",
       "      <td>0</td>\n",
       "      <td>0</td>\n",
       "      <td>0</td>\n",
       "      <td>0</td>\n",
       "      <td>0</td>\n",
       "      <td>0</td>\n",
       "      <td>0</td>\n",
       "      <td>0</td>\n",
       "      <td>0</td>\n",
       "      <td>0</td>\n",
       "      <td>0</td>\n",
       "      <td>0</td>\n",
       "      <td>0</td>\n",
       "      <td>0</td>\n",
       "      <td>0</td>\n",
       "      <td>0</td>\n",
       "      <td>0</td>\n",
       "      <td>0</td>\n",
       "      <td>0</td>\n",
       "      <td>0</td>\n",
       "      <td>0</td>\n",
       "      <td>0</td>\n",
       "      <td>0</td>\n",
       "      <td>0</td>\n",
       "      <td>0</td>\n",
       "      <td>0</td>\n",
       "      <td>0</td>\n",
       "      <td>0</td>\n",
       "      <td>0</td>\n",
       "      <td>...</td>\n",
       "      <td>36</td>\n",
       "      <td>37</td>\n",
       "      <td>37</td>\n",
       "      <td>37</td>\n",
       "      <td>37</td>\n",
       "      <td>40</td>\n",
       "      <td>40</td>\n",
       "      <td>40</td>\n",
       "      <td>40</td>\n",
       "      <td>41</td>\n",
       "      <td>42</td>\n",
       "      <td>42</td>\n",
       "      <td>43</td>\n",
       "      <td>44</td>\n",
       "      <td>45</td>\n",
       "      <td>45</td>\n",
       "      <td>46</td>\n",
       "      <td>46</td>\n",
       "      <td>47</td>\n",
       "      <td>47</td>\n",
       "      <td>48</td>\n",
       "      <td>48</td>\n",
       "      <td>48</td>\n",
       "      <td>48</td>\n",
       "      <td>49</td>\n",
       "      <td>49</td>\n",
       "      <td>49</td>\n",
       "      <td>51</td>\n",
       "      <td>51</td>\n",
       "      <td>51</td>\n",
       "      <td>51</td>\n",
       "      <td>51</td>\n",
       "      <td>51</td>\n",
       "      <td>51</td>\n",
       "      <td>51</td>\n",
       "      <td>51</td>\n",
       "      <td>51</td>\n",
       "      <td>51</td>\n",
       "      <td>51</td>\n",
       "      <td>51</td>\n",
       "    </tr>\n",
       "    <tr>\n",
       "      <th>4</th>\n",
       "      <td>NaN</td>\n",
       "      <td>Angola</td>\n",
       "      <td>-11.2027</td>\n",
       "      <td>17.8739</td>\n",
       "      <td>0</td>\n",
       "      <td>0</td>\n",
       "      <td>0</td>\n",
       "      <td>0</td>\n",
       "      <td>0</td>\n",
       "      <td>0</td>\n",
       "      <td>0</td>\n",
       "      <td>0</td>\n",
       "      <td>0</td>\n",
       "      <td>0</td>\n",
       "      <td>0</td>\n",
       "      <td>0</td>\n",
       "      <td>0</td>\n",
       "      <td>0</td>\n",
       "      <td>0</td>\n",
       "      <td>0</td>\n",
       "      <td>0</td>\n",
       "      <td>0</td>\n",
       "      <td>0</td>\n",
       "      <td>0</td>\n",
       "      <td>0</td>\n",
       "      <td>0</td>\n",
       "      <td>0</td>\n",
       "      <td>0</td>\n",
       "      <td>0</td>\n",
       "      <td>0</td>\n",
       "      <td>0</td>\n",
       "      <td>0</td>\n",
       "      <td>0</td>\n",
       "      <td>0</td>\n",
       "      <td>0</td>\n",
       "      <td>0</td>\n",
       "      <td>0</td>\n",
       "      <td>0</td>\n",
       "      <td>0</td>\n",
       "      <td>0</td>\n",
       "      <td>...</td>\n",
       "      <td>2</td>\n",
       "      <td>2</td>\n",
       "      <td>2</td>\n",
       "      <td>2</td>\n",
       "      <td>2</td>\n",
       "      <td>2</td>\n",
       "      <td>2</td>\n",
       "      <td>2</td>\n",
       "      <td>2</td>\n",
       "      <td>2</td>\n",
       "      <td>2</td>\n",
       "      <td>2</td>\n",
       "      <td>2</td>\n",
       "      <td>2</td>\n",
       "      <td>2</td>\n",
       "      <td>2</td>\n",
       "      <td>2</td>\n",
       "      <td>2</td>\n",
       "      <td>2</td>\n",
       "      <td>2</td>\n",
       "      <td>2</td>\n",
       "      <td>2</td>\n",
       "      <td>2</td>\n",
       "      <td>2</td>\n",
       "      <td>2</td>\n",
       "      <td>2</td>\n",
       "      <td>2</td>\n",
       "      <td>2</td>\n",
       "      <td>2</td>\n",
       "      <td>3</td>\n",
       "      <td>3</td>\n",
       "      <td>3</td>\n",
       "      <td>3</td>\n",
       "      <td>3</td>\n",
       "      <td>4</td>\n",
       "      <td>4</td>\n",
       "      <td>4</td>\n",
       "      <td>4</td>\n",
       "      <td>4</td>\n",
       "      <td>4</td>\n",
       "    </tr>\n",
       "  </tbody>\n",
       "</table>\n",
       "<p>5 rows × 132 columns</p>\n",
       "</div>"
      ],
      "text/plain": [
       "  Province/State Country/Region      Lat  ...  5/26/20  5/27/20  5/28/20\n",
       "0            NaN    Afghanistan  33.0000  ...      220      227      235\n",
       "1            NaN        Albania  41.1533  ...       33       33       33\n",
       "2            NaN        Algeria  28.0339  ...      617      623      630\n",
       "3            NaN        Andorra  42.5063  ...       51       51       51\n",
       "4            NaN         Angola -11.2027  ...        4        4        4\n",
       "\n",
       "[5 rows x 132 columns]"
      ]
     },
     "execution_count": 8,
     "metadata": {
      "tags": []
     },
     "output_type": "execute_result"
    }
   ],
   "source": [
    "deaths.head()"
   ]
  },
  {
   "cell_type": "code",
   "execution_count": 0,
   "metadata": {
    "colab": {},
    "colab_type": "code",
    "id": "LNG4jK8IapwM"
   },
   "outputs": [],
   "source": [
    "dates = list(confirmed.columns[4:])\n",
    "dates = list(pd.to_datetime(dates))\n",
    "dates_india = dates[8:]"
   ]
  },
  {
   "cell_type": "code",
   "execution_count": 0,
   "metadata": {
    "colab": {},
    "colab_type": "code",
    "id": "OrSOrX3fbDq2"
   },
   "outputs": [],
   "source": [
    "df1 = confirmed.groupby('Country/Region').sum().reset_index()\n",
    "df2 = deaths.groupby('Country/Region').sum().reset_index()\n",
    "df3 = recovered.groupby('Country/Region').sum().reset_index()"
   ]
  },
  {
   "cell_type": "markdown",
   "metadata": {
    "colab_type": "text",
    "id": "0IPECVzxojlx"
   },
   "source": [
    "Confining to India"
   ]
  },
  {
   "cell_type": "code",
   "execution_count": 0,
   "metadata": {
    "colab": {},
    "colab_type": "code",
    "id": "-ioRtk0_ej4J"
   },
   "outputs": [],
   "source": [
    "k = df1[df1['Country/Region']=='India'].loc[:,'1/30/20':]\n",
    "india_confirmed = k.values.tolist()[0] \n",
    "\n",
    "k = df2[df2['Country/Region']=='India'].loc[:,'1/30/20':]\n",
    "india_deaths = k.values.tolist()[0] \n",
    "\n",
    "k = df3[df3['Country/Region']=='India'].loc[:,'1/30/20':]\n",
    "india_recovered = k.values.tolist()[0]"
   ]
  },
  {
   "cell_type": "markdown",
   "metadata": {
    "colab_type": "text",
    "id": "ymvtYWBhv8oL"
   },
   "source": [
    "Plotting the scenario in India"
   ]
  },
  {
   "cell_type": "code",
   "execution_count": 15,
   "metadata": {
    "colab": {
     "base_uri": "https://localhost:8080/",
     "height": 689
    },
    "colab_type": "code",
    "id": "uuXmfY0Pelbc",
    "outputId": "4c3ab3ae-9bc0-4e5d-b02f-3a079561fd1b"
   },
   "outputs": [
    {
     "data": {
      "image/png": "[encoded data removed]",
      "text/plain": [
       "<Figure size 1080x720 with 1 Axes>"
      ]
     },
     "metadata": {
      "needs_background": "light",
      "tags": []
     },
     "output_type": "display_data"
    }
   ],
   "source": [
    "plt.figure(figsize= (15,10))\n",
    "plt.xticks(rotation = 90 ,fontsize = 11)\n",
    "plt.yticks(fontsize = 10)\n",
    "plt.xlabel(\"Dates\",fontsize = 20)\n",
    "plt.ylabel('Total cases',fontsize = 20)\n",
    "plt.title(\"Total Confirmed, Active, Death in India\" , fontsize = 20)\n",
    "ax1 = plt.plot_date(y= india_confirmed,x= dates_india,label = 'Confirmed',linestyle ='-.',color = 'c')\n",
    "ax2 = plt.plot_date(y= india_recovered,x= dates_india,label = 'Recovered',linestyle ='--',color = 'm')\n",
    "ax3 = plt.plot_date(y= india_deaths,x= dates_india,label = 'Death',linestyle ='-',color = 'y')\n",
    "plt.legend();"
   ]
  },
  {
   "cell_type": "markdown",
   "metadata": {
    "colab_type": "text",
    "id": "aNVKfilwwoL3"
   },
   "source": [
    "Where does India stand among the others?"
   ]
  },
  {
   "cell_type": "code",
   "execution_count": 0,
   "metadata": {
    "colab": {
     "base_uri": "https://localhost:8080/",
     "height": 689
    },
    "colab_type": "code",
    "id": "frnewngbe9sZ",
    "outputId": "8cccaeec-35aa-43dd-edbb-2db544958ac5"
   },
   "outputs": [
    {
     "data": {
      "image/png": "[encoded data removed]",
      "text/plain": [
       "<Figure size 1080x720 with 1 Axes>"
      ]
     },
     "metadata": {
      "needs_background": "light",
      "tags": []
     },
     "output_type": "display_data"
    }
   ],
   "source": [
    "countries = ['China','US', 'Italy', 'Spain', 'France','India']\n",
    "\n",
    "global_confirmed = []\n",
    "global_recovered = []\n",
    "global_deaths = []\n",
    "global_active = []\n",
    "\n",
    "for country in countries:\n",
    "    k =df1[df1['Country/Region'] == country].loc[:,'1/30/20':]\n",
    "    global_confirmed.append(k.values.tolist()[0]) \n",
    "\n",
    "    k =df2[df2['Country/Region'] == country].loc[:,'1/30/20':]\n",
    "    global_deaths.append(k.values.tolist()[0]) \n",
    "\n",
    "    k =df3[df3['Country/Region'] == country].loc[:,'1/30/20':]\n",
    "    global_deaths.append(k.values.tolist()[0])  \n",
    "\n",
    "plt.figure(figsize= (15,10))\n",
    "plt.xticks(rotation = 90 ,fontsize = 11)\n",
    "plt.yticks(fontsize = 10)\n",
    "plt.xlabel(\"Dates\",fontsize = 20)\n",
    "plt.ylabel('Total cases',fontsize = 20)\n",
    "plt.title(\"Comparison with other Countries\" , fontsize = 20)\n",
    "\n",
    "for i in range(len(countries)):\n",
    "    plt.plot_date(y= global_confirmed[i],x= dates_india,label = countries[i],linestyle ='-')\n",
    "plt.legend();"
   ]
  },
  {
   "cell_type": "markdown",
   "metadata": {
    "colab_type": "text",
    "id": "SLhRdA0QxaRG"
   },
   "source": [
    "Finding the growth factor in india covid cases\n"
   ]
  },
  {
   "cell_type": "code",
   "execution_count": 0,
   "metadata": {
    "colab": {
     "base_uri": "https://localhost:8080/",
     "height": 35
    },
    "colab_type": "code",
    "id": "Wush6JTOfA_t",
    "outputId": "34b88d09-029c-492c-f665-772a441a2647"
   },
   "outputs": [
    {
     "name": "stdout",
     "output_type": "stream",
     "text": [
      "Average growth factor 1.129914482388571\n"
     ]
    }
   ],
   "source": [
    "df1 = confirmed_df.groupby('Country/Region').sum().reset_index()\n",
    "df2 = deaths_df.groupby('Country/Region').sum().reset_index()\n",
    "df3 = recovered_df.groupby('Country/Region').sum().reset_index()\n",
    "\n",
    "k =df1[df1['Country/Region']=='India'].loc[:,'2/4/20':]\n",
    "india_confirmed = k.values.tolist()[0] \n",
    "\n",
    "growth_diff = []\n",
    "\n",
    "for i in range(1,len(india_confirmed)):\n",
    "    growth_diff.append(india_confirmed[i] / india_confirmed[i-1])\n",
    "\n",
    "growth_factor = sum(growth_diff)/len(growth_diff)\n",
    "print('Average growth factor',growth_factor)"
   ]
  },
  {
   "cell_type": "markdown",
   "metadata": {
    "colab_type": "text",
    "id": "ETCwBRPCy5j0"
   },
   "source": [
    "Lets predict with this growth factor for the coming 15 days"
   ]
  },
  {
   "cell_type": "code",
   "execution_count": 0,
   "metadata": {
    "colab": {
     "base_uri": "https://localhost:8080/",
     "height": 689
    },
    "colab_type": "code",
    "id": "4hl6CbqSfUjx",
    "outputId": "8b880a90-f6e5-420d-f069-e4c87f60074d"
   },
   "outputs": [
    {
     "data": {
      "image/png": "[encoded data removed]",
      "text/plain": [
       "<Figure size 1080x720 with 1 Axes>"
      ]
     },
     "metadata": {
      "needs_background": "light",
      "tags": []
     },
     "output_type": "display_data"
    }
   ],
   "source": [
    "prediction_dates = []\n",
    "start_date = dates_india[len(dates_india) - 1]\n",
    "for i in range(15):\n",
    "    date = start_date + datetime.timedelta(days=1)\n",
    "    prediction_dates.append(date)\n",
    "    start_date = date\n",
    "previous_day_cases = global_confirmed[5][len(dates_india) - 1]\n",
    "predicted_cases = []\n",
    "\n",
    "for i in range(15):\n",
    "    predicted_value = previous_day_cases *  growth_factor\n",
    "    predicted_cases.append(predicted_value)\n",
    "    previous_day_cases = predicted_value\n",
    "\n",
    "plt.figure(figsize= (15,10))\n",
    "plt.xticks(rotation = 90 ,fontsize = 11)\n",
    "plt.yticks(fontsize = 10)\n",
    "plt.xlabel(\"Dates\",fontsize = 20)\n",
    "plt.ylabel('Total cases',fontsize = 20)\n",
    "plt.title(\"Predicted Values for the next 15 Days\" , fontsize = 20)\n",
    "ax1 = plt.plot_date(y= predicted_cases,x= prediction_dates,linestyle ='-',color = 'c')"
   ]
  },
  {
   "cell_type": "markdown",
   "metadata": {
    "colab_type": "text",
    "id": "MaNJltVapLVZ"
   },
   "source": [
    "\n",
    "Prediction using Prophet Model "
   ]
  },
  {
   "cell_type": "code",
   "execution_count": 0,
   "metadata": {
    "colab": {},
    "colab_type": "code",
    "id": "tsgRG6vhn623"
   },
   "outputs": [],
   "source": [
    "from fbprophet import Prophet\n",
    "from fbprophet.plot import plot_plotly, add_changepoints_to_plot\n"
   ]
  },
  {
   "cell_type": "code",
   "execution_count": 0,
   "metadata": {
    "colab": {
     "base_uri": "https://localhost:8080/",
     "height": 496
    },
    "colab_type": "code",
    "id": "c-2SX6wtmqtn",
    "outputId": "c30b8cb8-4988-44ae-97e6-83e9733505e7"
   },
   "outputs": [
    {
     "name": "stderr",
     "output_type": "stream",
     "text": [
      "INFO:numexpr.utils:NumExpr defaulting to 2 threads.\n",
      "INFO:fbprophet:Disabling yearly seasonality. Run prophet with yearly_seasonality=True to override this.\n",
      "INFO:fbprophet:Disabling daily seasonality. Run prophet with daily_seasonality=True to override this.\n"
     ]
    },
    {
     "data": {
      "image/png": "[encoded data removed]",
      "text/plain": [
       "<Figure size 720x432 with 1 Axes>"
      ]
     },
     "metadata": {
      "tags": []
     },
     "output_type": "display_data"
    }
   ],
   "source": [
    "k = df1[df1['Country/Region']=='India'].loc[:,'1/22/20':]\n",
    "india_confirmed = k.values.tolist()[0] \n",
    "data = pd.DataFrame(columns = ['ds','y'])\n",
    "data['ds'] = dates\n",
    "data['y'] = india_confirmed\n",
    "\n",
    "prop=Prophet()\n",
    "prop.fit(data)\n",
    "future=prop.make_future_dataframe(periods=30)\n",
    "prop_forecast=prop.predict(future)\n",
    "forecast = prop_forecast[['ds','yhat']].tail(30)\n",
    "\n",
    "fig = plot_plotly(prop, prop_forecast)\n",
    "fig = prop.plot(prop_forecast,xlabel='Date',ylabel='Confirmed Cases')"
   ]
  },
  {
   "cell_type": "markdown",
   "metadata": {
    "colab_type": "text",
    "id": "060eyUsqs8jV"
   },
   "source": [
    "Using XGB regressor"
   ]
  },
  {
   "cell_type": "code",
   "execution_count": 0,
   "metadata": {
    "colab": {},
    "colab_type": "code",
    "id": "uUrad6zKo5D8"
   },
   "outputs": [],
   "source": [
    "from xgboost import XGBRegressor"
   ]
  },
  {
   "cell_type": "code",
   "execution_count": 0,
   "metadata": {
    "colab": {},
    "colab_type": "code",
    "id": "ihvSdKc2pYyP"
   },
   "outputs": [],
   "source": [
    "train = pd.read_csv('train.csv')\n",
    "test = pd.read_csv('test.csv')\n",
    "train['Date'] = pd.to_datetime(train['Date'])\n",
    "test['Date'] = pd.to_datetime(test['Date'])"
   ]
  },
  {
   "cell_type": "code",
   "execution_count": 0,
   "metadata": {
    "colab": {},
    "colab_type": "code",
    "id": "dqtj2HA62m7X"
   },
   "outputs": [],
   "source": [
    "from sklearn.preprocessing import OrdinalEncoder"
   ]
  },
  {
   "cell_type": "code",
   "execution_count": 0,
   "metadata": {
    "colab": {},
    "colab_type": "code",
    "id": "qmdNDajn2bqE"
   },
   "outputs": [],
   "source": [
    "train['day'] = train['Date'].dt.day"
   ]
  },
  {
   "cell_type": "code",
   "execution_count": 0,
   "metadata": {
    "colab": {},
    "colab_type": "code",
    "id": "z4SzqDv-Gd7X"
   },
   "outputs": [],
   "source": [
    "train['month'] = train['Date'].dt.month\n",
    "train['dayofweek'] = train['Date'].dt.dayofweek\n",
    "train['dayofyear'] = train['Date'].dt.dayofyear\n",
    "train['quarter'] = train['Date'].dt.quarter\n",
    "train['weekofyear'] = train['Date'].dt.weekofyear\n",
    "test['day'] = test['Date'].dt.day\n",
    "test['month'] = test['Date'].dt.month\n",
    "test['dayofweek'] = test['Date'].dt.dayofweek\n",
    "test['dayofyear'] = test['Date'].dt.dayofyear\n",
    "test['quarter'] = test['Date'].dt.quarter\n",
    "test['weekofyear'] = test['Date'].dt.weekofyear\n",
    "countries = list(train['Country_Region'].unique())\n",
    "india_code = countries.index('India')\n",
    "train = train.drop(['Date','Id'],1)\n",
    "test =  test.drop(['Date'],1)\n",
    "\n",
    "train.Province_State.fillna('NaN', inplace=True)\n",
    "oe = OrdinalEncoder()\n",
    "train[['Province_State','Country_Region']] = oe.fit_transform(train.loc[:,['Province_State','Country_Region']])\n",
    "\n",
    "test.Province_State.fillna('NaN', inplace=True)\n",
    "oe = OrdinalEncoder()\n",
    "test[['Province_State','Country_Region']] = oe.fit_transform(test.loc[:,['Province_State','Country_Region']])"
   ]
  },
  {
   "cell_type": "code",
   "execution_count": 0,
   "metadata": {
    "colab": {
     "base_uri": "https://localhost:8080/",
     "height": 206
    },
    "colab_type": "code",
    "id": "bEh6p1eCJ8cA",
    "outputId": "f6320a14-7940-40ea-c339-ec0de9362ed5"
   },
   "outputs": [
    {
     "data": {
      "text/html": [
       "<div>\n",
       "<style scoped>\n",
       "    .dataframe tbody tr th:only-of-type {\n",
       "        vertical-align: middle;\n",
       "    }\n",
       "\n",
       "    .dataframe tbody tr th {\n",
       "        vertical-align: top;\n",
       "    }\n",
       "\n",
       "    .dataframe thead th {\n",
       "        text-align: right;\n",
       "    }\n",
       "</style>\n",
       "<table border=\"1\" class=\"dataframe\">\n",
       "  <thead>\n",
       "    <tr style=\"text-align: right;\">\n",
       "      <th></th>\n",
       "      <th>Province_State</th>\n",
       "      <th>Country_Region</th>\n",
       "      <th>ConfirmedCases</th>\n",
       "      <th>Fatalities</th>\n",
       "      <th>day</th>\n",
       "      <th>month</th>\n",
       "      <th>dayofweek</th>\n",
       "      <th>dayofyear</th>\n",
       "      <th>quarter</th>\n",
       "      <th>weekofyear</th>\n",
       "    </tr>\n",
       "  </thead>\n",
       "  <tbody>\n",
       "    <tr>\n",
       "      <th>0</th>\n",
       "      <td>72.0</td>\n",
       "      <td>0.0</td>\n",
       "      <td>0.0</td>\n",
       "      <td>0.0</td>\n",
       "      <td>22</td>\n",
       "      <td>1</td>\n",
       "      <td>2</td>\n",
       "      <td>22</td>\n",
       "      <td>1</td>\n",
       "      <td>4</td>\n",
       "    </tr>\n",
       "    <tr>\n",
       "      <th>1</th>\n",
       "      <td>72.0</td>\n",
       "      <td>0.0</td>\n",
       "      <td>0.0</td>\n",
       "      <td>0.0</td>\n",
       "      <td>23</td>\n",
       "      <td>1</td>\n",
       "      <td>3</td>\n",
       "      <td>23</td>\n",
       "      <td>1</td>\n",
       "      <td>4</td>\n",
       "    </tr>\n",
       "    <tr>\n",
       "      <th>2</th>\n",
       "      <td>72.0</td>\n",
       "      <td>0.0</td>\n",
       "      <td>0.0</td>\n",
       "      <td>0.0</td>\n",
       "      <td>24</td>\n",
       "      <td>1</td>\n",
       "      <td>4</td>\n",
       "      <td>24</td>\n",
       "      <td>1</td>\n",
       "      <td>4</td>\n",
       "    </tr>\n",
       "    <tr>\n",
       "      <th>3</th>\n",
       "      <td>72.0</td>\n",
       "      <td>0.0</td>\n",
       "      <td>0.0</td>\n",
       "      <td>0.0</td>\n",
       "      <td>25</td>\n",
       "      <td>1</td>\n",
       "      <td>5</td>\n",
       "      <td>25</td>\n",
       "      <td>1</td>\n",
       "      <td>4</td>\n",
       "    </tr>\n",
       "    <tr>\n",
       "      <th>4</th>\n",
       "      <td>72.0</td>\n",
       "      <td>0.0</td>\n",
       "      <td>0.0</td>\n",
       "      <td>0.0</td>\n",
       "      <td>26</td>\n",
       "      <td>1</td>\n",
       "      <td>6</td>\n",
       "      <td>26</td>\n",
       "      <td>1</td>\n",
       "      <td>4</td>\n",
       "    </tr>\n",
       "  </tbody>\n",
       "</table>\n",
       "</div>"
      ],
      "text/plain": [
       "   Province_State  Country_Region  ...  quarter  weekofyear\n",
       "0            72.0             0.0  ...        1           4\n",
       "1            72.0             0.0  ...        1           4\n",
       "2            72.0             0.0  ...        1           4\n",
       "3            72.0             0.0  ...        1           4\n",
       "4            72.0             0.0  ...        1           4\n",
       "\n",
       "[5 rows x 10 columns]"
      ]
     },
     "execution_count": 22,
     "metadata": {
      "tags": []
     },
     "output_type": "execute_result"
    }
   ],
   "source": [
    "train.head()"
   ]
  },
  {
   "cell_type": "code",
   "execution_count": 0,
   "metadata": {
    "colab": {},
    "colab_type": "code",
    "id": "QwS5bRO0iaij"
   },
   "outputs": [],
   "source": [
    "from sklearn.model_selection import train_test_split"
   ]
  },
  {
   "cell_type": "code",
   "execution_count": 0,
   "metadata": {
    "colab": {},
    "colab_type": "code",
    "id": "bcHeSbRCHJek"
   },
   "outputs": [],
   "source": [
    "columns = ['day','month','dayofweek','dayofyear','quarter','weekofyear','Province_State', 'Country_Region','ConfirmedCases','Fatalities']\n",
    "test_columns = ['day','month','dayofweek','dayofyear','quarter','weekofyear','Province_State','Country_Region']\n",
    "train = train[columns]\n",
    "x = train.drop(['Fatalities','ConfirmedCases'], 1)\n",
    "y = train['ConfirmedCases']\n",
    "x_train,x_test,y_train,y_test=train_test_split(x,y,test_size=0.2,random_state=0)\n",
    "test = test[test_columns]\n",
    "test_india = test[test['Country_Region'] == india_code]"
   ]
  },
  {
   "cell_type": "code",
   "execution_count": 0,
   "metadata": {
    "colab": {},
    "colab_type": "code",
    "id": "FQO35QQ_rMTz"
   },
   "outputs": [],
   "source": [
    "models = []\n",
    "mse = []\n",
    "mae = []\n",
    "rmse = []"
   ]
  },
  {
   "cell_type": "code",
   "execution_count": 0,
   "metadata": {
    "colab": {},
    "colab_type": "code",
    "id": "krMWUloNrUYg"
   },
   "outputs": [],
   "source": [
    "from sklearn.metrics import mean_squared_error, mean_absolute_error"
   ]
  },
  {
   "cell_type": "code",
   "execution_count": 0,
   "metadata": {
    "colab": {
     "base_uri": "https://localhost:8080/",
     "height": 55
    },
    "colab_type": "code",
    "id": "8G61PFzooxe4",
    "outputId": "56b3bc32-5ad4-4e6e-a714-99d9fb473fe5"
   },
   "outputs": [
    {
     "name": "stdout",
     "output_type": "stream",
     "text": [
      "[18:45:19] WARNING: /workspace/src/objective/regression_obj.cu:152: reg:linear is now deprecated in favor of reg:squarederror.\n"
     ]
    }
   ],
   "source": [
    "xgb = XGBRegressor(n_estimators=100)\n",
    "xgb.fit(x_train,y_train)\n",
    "pred = xgb.predict(x_test)\n",
    "xgb_forecast = xgb.predict(test_india)\n",
    "models.append('XGBoost')\n",
    "mse.append(round(mean_squared_error(pred, y_test),2))\n",
    "mae.append(round(mean_absolute_error(pred, y_test),2))\n",
    "rmse.append(round(np.sqrt(mean_squared_error(pred, y_test)),2))"
   ]
  },
  {
   "cell_type": "code",
   "execution_count": 0,
   "metadata": {
    "colab": {
     "base_uri": "https://localhost:8080/",
     "height": 444
    },
    "colab_type": "code",
    "id": "XyJicXBDrwrX",
    "outputId": "cf97ca89-eb2e-46bc-b71a-2cd545e2849d"
   },
   "outputs": [
    {
     "data": {
      "image/png": "[encoded data removed]",
      "text/plain": [
       "<Figure size 504x504 with 1 Axes>"
      ]
     },
     "metadata": {
      "needs_background": "light",
      "tags": []
     },
     "output_type": "display_data"
    }
   ],
   "source": [
    "plt.figure(figsize=(7,7))\n",
    "plt.plot(xgb_forecast,linestyle='dashdot', color='blue')\n",
    "plt.title('num of Coronavirus Cases Over Time', size=12)\n",
    "plt.ylabel('num of Cases', size=12)\n",
    "plt.xticks(size=10)\n",
    "plt.yticks(size=10)\n",
    "plt.show()"
   ]
  },
  {
   "cell_type": "code",
   "execution_count": 0,
   "metadata": {
    "colab": {
     "base_uri": "https://localhost:8080/",
     "height": 35
    },
    "colab_type": "code",
    "id": "PhKJE1-91nDQ",
    "outputId": "91d8bf72-c19e-4261-9363-26c88ab2f444"
   },
   "outputs": [
    {
     "data": {
      "text/plain": [
       "[157416419.57]"
      ]
     },
     "execution_count": 29,
     "metadata": {
      "tags": []
     },
     "output_type": "execute_result"
    }
   ],
   "source": [
    "mse"
   ]
  },
  {
   "cell_type": "code",
   "execution_count": 0,
   "metadata": {
    "colab": {
     "base_uri": "https://localhost:8080/",
     "height": 35
    },
    "colab_type": "code",
    "id": "rgKn7Mf3rsjd",
    "outputId": "711625a1-2b2a-4ecf-bf26-19bc065bdc44"
   },
   "outputs": [
    {
     "data": {
      "text/plain": [
       "[12546.57]"
      ]
     },
     "execution_count": 30,
     "metadata": {
      "tags": []
     },
     "output_type": "execute_result"
    }
   ],
   "source": [
    "rmse"
   ]
  },
  {
   "cell_type": "code",
   "execution_count": 0,
   "metadata": {
    "colab": {
     "base_uri": "https://localhost:8080/",
     "height": 35
    },
    "colab_type": "code",
    "id": "ohxGyRmwruDd",
    "outputId": "5cf1e671-a66a-48dc-cb54-a6ae50bb054e"
   },
   "outputs": [
    {
     "data": {
      "text/plain": [
       "[4134.78]"
      ]
     },
     "execution_count": 31,
     "metadata": {
      "tags": []
     },
     "output_type": "execute_result"
    }
   ],
   "source": [
    "mae"
   ]
  },
  {
   "cell_type": "markdown",
   "metadata": {
    "colab_type": "text",
    "id": "rNUelcEUtJqr"
   },
   "source": [
    "#Part 2\n",
    "Effect on air pollution"
   ]
  },
  {
   "cell_type": "markdown",
   "metadata": {
    "colab_type": "text",
    "id": "_5VmfTNx657o"
   },
   "source": [
    "Adding some more library's"
   ]
  },
  {
   "cell_type": "code",
   "execution_count": 0,
   "metadata": {
    "colab": {},
    "colab_type": "code",
    "id": "9gDU6M43KsHu"
   },
   "outputs": [],
   "source": [
    "import seaborn as sns\n",
    "import datetime\n",
    "import pandas as pd\n",
    "import numpy as np"
   ]
  },
  {
   "cell_type": "markdown",
   "metadata": {
    "colab_type": "text",
    "id": "qmZsSqs-JTwE"
   },
   "source": [
    "Loading pollution data"
   ]
  },
  {
   "cell_type": "code",
   "execution_count": 0,
   "metadata": {
    "colab": {},
    "colab_type": "code",
    "id": "1qKJrQw7La7F"
   },
   "outputs": [],
   "source": [
    "df = pd.read_csv(\"city_day.csv\",parse_dates=True)"
   ]
  },
  {
   "cell_type": "code",
   "execution_count": 17,
   "metadata": {
    "colab": {
     "base_uri": "https://localhost:8080/",
     "height": 226
    },
    "colab_type": "code",
    "id": "ZtQeOFrkLeNo",
    "outputId": "10caadeb-8db3-45b7-9b6b-39931b41239c"
   },
   "outputs": [
    {
     "data": {
      "text/html": [
       "<div>\n",
       "<style scoped>\n",
       "    .dataframe tbody tr th:only-of-type {\n",
       "        vertical-align: middle;\n",
       "    }\n",
       "\n",
       "    .dataframe tbody tr th {\n",
       "        vertical-align: top;\n",
       "    }\n",
       "\n",
       "    .dataframe thead th {\n",
       "        text-align: right;\n",
       "    }\n",
       "</style>\n",
       "<table border=\"1\" class=\"dataframe\">\n",
       "  <thead>\n",
       "    <tr style=\"text-align: right;\">\n",
       "      <th></th>\n",
       "      <th>City</th>\n",
       "      <th>Date</th>\n",
       "      <th>PM2.5</th>\n",
       "      <th>PM10</th>\n",
       "      <th>NO</th>\n",
       "      <th>NO2</th>\n",
       "      <th>NOx</th>\n",
       "      <th>NH3</th>\n",
       "      <th>CO</th>\n",
       "      <th>SO2</th>\n",
       "      <th>O3</th>\n",
       "      <th>Benzene</th>\n",
       "      <th>Toluene</th>\n",
       "      <th>Xylene</th>\n",
       "      <th>AQI</th>\n",
       "      <th>AQI_Bucket</th>\n",
       "    </tr>\n",
       "  </thead>\n",
       "  <tbody>\n",
       "    <tr>\n",
       "      <th>0</th>\n",
       "      <td>Ahmedabad</td>\n",
       "      <td>2015-01-01</td>\n",
       "      <td>NaN</td>\n",
       "      <td>NaN</td>\n",
       "      <td>0.92</td>\n",
       "      <td>18.22</td>\n",
       "      <td>17.15</td>\n",
       "      <td>NaN</td>\n",
       "      <td>0.92</td>\n",
       "      <td>27.64</td>\n",
       "      <td>133.36</td>\n",
       "      <td>0.00</td>\n",
       "      <td>0.02</td>\n",
       "      <td>0.00</td>\n",
       "      <td>NaN</td>\n",
       "      <td>NaN</td>\n",
       "    </tr>\n",
       "    <tr>\n",
       "      <th>1</th>\n",
       "      <td>Ahmedabad</td>\n",
       "      <td>2015-01-02</td>\n",
       "      <td>NaN</td>\n",
       "      <td>NaN</td>\n",
       "      <td>0.97</td>\n",
       "      <td>15.69</td>\n",
       "      <td>16.46</td>\n",
       "      <td>NaN</td>\n",
       "      <td>0.97</td>\n",
       "      <td>24.55</td>\n",
       "      <td>34.06</td>\n",
       "      <td>3.68</td>\n",
       "      <td>5.50</td>\n",
       "      <td>3.77</td>\n",
       "      <td>NaN</td>\n",
       "      <td>NaN</td>\n",
       "    </tr>\n",
       "    <tr>\n",
       "      <th>2</th>\n",
       "      <td>Ahmedabad</td>\n",
       "      <td>2015-01-03</td>\n",
       "      <td>NaN</td>\n",
       "      <td>NaN</td>\n",
       "      <td>17.40</td>\n",
       "      <td>19.30</td>\n",
       "      <td>29.70</td>\n",
       "      <td>NaN</td>\n",
       "      <td>17.40</td>\n",
       "      <td>29.07</td>\n",
       "      <td>30.70</td>\n",
       "      <td>6.80</td>\n",
       "      <td>16.40</td>\n",
       "      <td>2.25</td>\n",
       "      <td>NaN</td>\n",
       "      <td>NaN</td>\n",
       "    </tr>\n",
       "    <tr>\n",
       "      <th>3</th>\n",
       "      <td>Ahmedabad</td>\n",
       "      <td>2015-01-04</td>\n",
       "      <td>NaN</td>\n",
       "      <td>NaN</td>\n",
       "      <td>1.70</td>\n",
       "      <td>18.48</td>\n",
       "      <td>17.97</td>\n",
       "      <td>NaN</td>\n",
       "      <td>1.70</td>\n",
       "      <td>18.59</td>\n",
       "      <td>36.08</td>\n",
       "      <td>4.43</td>\n",
       "      <td>10.14</td>\n",
       "      <td>1.00</td>\n",
       "      <td>NaN</td>\n",
       "      <td>NaN</td>\n",
       "    </tr>\n",
       "    <tr>\n",
       "      <th>4</th>\n",
       "      <td>Ahmedabad</td>\n",
       "      <td>2015-01-05</td>\n",
       "      <td>NaN</td>\n",
       "      <td>NaN</td>\n",
       "      <td>22.10</td>\n",
       "      <td>21.42</td>\n",
       "      <td>37.76</td>\n",
       "      <td>NaN</td>\n",
       "      <td>22.10</td>\n",
       "      <td>39.33</td>\n",
       "      <td>39.31</td>\n",
       "      <td>7.01</td>\n",
       "      <td>18.89</td>\n",
       "      <td>2.78</td>\n",
       "      <td>NaN</td>\n",
       "      <td>NaN</td>\n",
       "    </tr>\n",
       "  </tbody>\n",
       "</table>\n",
       "</div>"
      ],
      "text/plain": [
       "        City        Date  PM2.5  PM10  ...  Toluene  Xylene  AQI  AQI_Bucket\n",
       "0  Ahmedabad  2015-01-01    NaN   NaN  ...     0.02    0.00  NaN         NaN\n",
       "1  Ahmedabad  2015-01-02    NaN   NaN  ...     5.50    3.77  NaN         NaN\n",
       "2  Ahmedabad  2015-01-03    NaN   NaN  ...    16.40    2.25  NaN         NaN\n",
       "3  Ahmedabad  2015-01-04    NaN   NaN  ...    10.14    1.00  NaN         NaN\n",
       "4  Ahmedabad  2015-01-05    NaN   NaN  ...    18.89    2.78  NaN         NaN\n",
       "\n",
       "[5 rows x 16 columns]"
      ]
     },
     "execution_count": 17,
     "metadata": {
      "tags": []
     },
     "output_type": "execute_result"
    }
   ],
   "source": [
    "df.head()"
   ]
  },
  {
   "cell_type": "code",
   "execution_count": 0,
   "metadata": {
    "colab": {},
    "colab_type": "code",
    "id": "9LUQzM5TkZSV"
   },
   "outputs": [],
   "source": [
    "df['Date'] = pd.to_datetime(df['Date'])"
   ]
  },
  {
   "cell_type": "markdown",
   "metadata": {
    "colab_type": "text",
    "id": "ud59RkQJJpHl"
   },
   "source": [
    "Looking inside the data"
   ]
  },
  {
   "cell_type": "code",
   "execution_count": 19,
   "metadata": {
    "colab": {
     "base_uri": "https://localhost:8080/",
     "height": 320
    },
    "colab_type": "code",
    "id": "CgVP6x2Y1-qY",
    "outputId": "27e7ec2d-29e1-46db-96e6-fe1822d5eef5"
   },
   "outputs": [
    {
     "data": {
      "text/html": [
       "<div>\n",
       "<style scoped>\n",
       "    .dataframe tbody tr th:only-of-type {\n",
       "        vertical-align: middle;\n",
       "    }\n",
       "\n",
       "    .dataframe tbody tr th {\n",
       "        vertical-align: top;\n",
       "    }\n",
       "\n",
       "    .dataframe thead th {\n",
       "        text-align: right;\n",
       "    }\n",
       "</style>\n",
       "<table border=\"1\" class=\"dataframe\">\n",
       "  <thead>\n",
       "    <tr style=\"text-align: right;\">\n",
       "      <th></th>\n",
       "      <th>PM2.5</th>\n",
       "      <th>PM10</th>\n",
       "      <th>NO</th>\n",
       "      <th>NO2</th>\n",
       "      <th>NOx</th>\n",
       "      <th>NH3</th>\n",
       "      <th>CO</th>\n",
       "      <th>SO2</th>\n",
       "      <th>O3</th>\n",
       "      <th>Benzene</th>\n",
       "      <th>Toluene</th>\n",
       "      <th>Xylene</th>\n",
       "      <th>AQI</th>\n",
       "    </tr>\n",
       "  </thead>\n",
       "  <tbody>\n",
       "    <tr>\n",
       "      <th>count</th>\n",
       "      <td>21930.000000</td>\n",
       "      <td>15453.000000</td>\n",
       "      <td>22986.000000</td>\n",
       "      <td>23002.000000</td>\n",
       "      <td>22176.000000</td>\n",
       "      <td>16372.000000</td>\n",
       "      <td>24258.000000</td>\n",
       "      <td>22675.000000</td>\n",
       "      <td>22559.000000</td>\n",
       "      <td>20932.000000</td>\n",
       "      <td>18664.000000</td>\n",
       "      <td>9412.000000</td>\n",
       "      <td>21937.000000</td>\n",
       "    </tr>\n",
       "    <tr>\n",
       "      <th>mean</th>\n",
       "      <td>71.828907</td>\n",
       "      <td>125.492380</td>\n",
       "      <td>18.232528</td>\n",
       "      <td>29.009102</td>\n",
       "      <td>33.657667</td>\n",
       "      <td>25.336162</td>\n",
       "      <td>2.446235</td>\n",
       "      <td>14.988734</td>\n",
       "      <td>34.374248</td>\n",
       "      <td>3.300132</td>\n",
       "      <td>9.029794</td>\n",
       "      <td>3.155895</td>\n",
       "      <td>175.840908</td>\n",
       "    </tr>\n",
       "    <tr>\n",
       "      <th>std</th>\n",
       "      <td>67.161387</td>\n",
       "      <td>94.179918</td>\n",
       "      <td>23.081236</td>\n",
       "      <td>25.158322</td>\n",
       "      <td>32.695931</td>\n",
       "      <td>27.109244</td>\n",
       "      <td>7.385259</td>\n",
       "      <td>19.087561</td>\n",
       "      <td>21.388968</td>\n",
       "      <td>16.699933</td>\n",
       "      <td>21.137700</td>\n",
       "      <td>6.644018</td>\n",
       "      <td>146.143064</td>\n",
       "    </tr>\n",
       "    <tr>\n",
       "      <th>min</th>\n",
       "      <td>0.040000</td>\n",
       "      <td>0.010000</td>\n",
       "      <td>0.020000</td>\n",
       "      <td>0.010000</td>\n",
       "      <td>0.000000</td>\n",
       "      <td>0.010000</td>\n",
       "      <td>0.000000</td>\n",
       "      <td>0.010000</td>\n",
       "      <td>0.010000</td>\n",
       "      <td>0.000000</td>\n",
       "      <td>0.000000</td>\n",
       "      <td>0.000000</td>\n",
       "      <td>13.000000</td>\n",
       "    </tr>\n",
       "    <tr>\n",
       "      <th>25%</th>\n",
       "      <td>31.450000</td>\n",
       "      <td>60.990000</td>\n",
       "      <td>5.930000</td>\n",
       "      <td>11.850000</td>\n",
       "      <td>13.110000</td>\n",
       "      <td>9.197500</td>\n",
       "      <td>0.530000</td>\n",
       "      <td>5.560000</td>\n",
       "      <td>19.010000</td>\n",
       "      <td>0.130000</td>\n",
       "      <td>0.670000</td>\n",
       "      <td>0.120000</td>\n",
       "      <td>85.000000</td>\n",
       "    </tr>\n",
       "    <tr>\n",
       "      <th>50%</th>\n",
       "      <td>52.220000</td>\n",
       "      <td>100.950000</td>\n",
       "      <td>10.150000</td>\n",
       "      <td>21.830000</td>\n",
       "      <td>24.300000</td>\n",
       "      <td>17.820000</td>\n",
       "      <td>0.930000</td>\n",
       "      <td>9.120000</td>\n",
       "      <td>30.890000</td>\n",
       "      <td>0.980000</td>\n",
       "      <td>2.850000</td>\n",
       "      <td>0.820000</td>\n",
       "      <td>124.000000</td>\n",
       "    </tr>\n",
       "    <tr>\n",
       "      <th>75%</th>\n",
       "      <td>85.655000</td>\n",
       "      <td>158.460000</td>\n",
       "      <td>20.830000</td>\n",
       "      <td>37.890000</td>\n",
       "      <td>42.102500</td>\n",
       "      <td>32.600000</td>\n",
       "      <td>1.530000</td>\n",
       "      <td>15.595000</td>\n",
       "      <td>45.370000</td>\n",
       "      <td>2.850000</td>\n",
       "      <td>8.830000</td>\n",
       "      <td>3.232500</td>\n",
       "      <td>226.000000</td>\n",
       "    </tr>\n",
       "    <tr>\n",
       "      <th>max</th>\n",
       "      <td>949.990000</td>\n",
       "      <td>1000.000000</td>\n",
       "      <td>351.300000</td>\n",
       "      <td>362.210000</td>\n",
       "      <td>467.630000</td>\n",
       "      <td>352.890000</td>\n",
       "      <td>175.810000</td>\n",
       "      <td>193.860000</td>\n",
       "      <td>257.730000</td>\n",
       "      <td>455.030000</td>\n",
       "      <td>454.850000</td>\n",
       "      <td>170.370000</td>\n",
       "      <td>2049.000000</td>\n",
       "    </tr>\n",
       "  </tbody>\n",
       "</table>\n",
       "</div>"
      ],
      "text/plain": [
       "              PM2.5          PM10  ...       Xylene           AQI\n",
       "count  21930.000000  15453.000000  ...  9412.000000  21937.000000\n",
       "mean      71.828907    125.492380  ...     3.155895    175.840908\n",
       "std       67.161387     94.179918  ...     6.644018    146.143064\n",
       "min        0.040000      0.010000  ...     0.000000     13.000000\n",
       "25%       31.450000     60.990000  ...     0.120000     85.000000\n",
       "50%       52.220000    100.950000  ...     0.820000    124.000000\n",
       "75%       85.655000    158.460000  ...     3.232500    226.000000\n",
       "max      949.990000   1000.000000  ...   170.370000   2049.000000\n",
       "\n",
       "[8 rows x 13 columns]"
      ]
     },
     "execution_count": 19,
     "metadata": {
      "tags": []
     },
     "output_type": "execute_result"
    }
   ],
   "source": [
    "df.describe()"
   ]
  },
  {
   "cell_type": "markdown",
   "metadata": {
    "colab_type": "text",
    "id": "v5ku2kZSJuJO"
   },
   "source": [
    "Removing unused columns:\n",
    "\n",
    "Here we will keep the columns 'City', 'Date', 'AQI' and 'AQI_Bucket'."
   ]
  },
  {
   "cell_type": "code",
   "execution_count": 0,
   "metadata": {
    "colab": {},
    "colab_type": "code",
    "id": "RdEkhhtk2FXw"
   },
   "outputs": [],
   "source": [
    "df=df[['City','Date','AQI','AQI_Bucket']]"
   ]
  },
  {
   "cell_type": "markdown",
   "metadata": {
    "colab_type": "text",
    "id": "Og0zc0mAKEKl"
   },
   "source": [
    "\n",
    "Modifying dataset for our needs:\n",
    "\n",
    "Here,we will tranform the data with the columns as the cities AQI so as to compare AQI between states. The table after transforming is given below.\n"
   ]
  },
  {
   "cell_type": "code",
   "execution_count": 0,
   "metadata": {
    "colab": {},
    "colab_type": "code",
    "id": "fJyFU-Pt2F5y"
   },
   "outputs": [],
   "source": [
    "cities=pd.unique(df['City'])\n",
    "column1= cities+'_AQI'\n",
    "column2=cities+'_AQI_Bucket'\n",
    "columns=[*column1,*column2]"
   ]
  },
  {
   "cell_type": "code",
   "execution_count": 25,
   "metadata": {
    "colab": {
     "base_uri": "https://localhost:8080/",
     "height": 129
    },
    "colab_type": "code",
    "id": "k54NBa4p2Wha",
    "outputId": "e5ff17ad-8fd0-4920-d169-b7e96867f75e"
   },
   "outputs": [
    {
     "name": "stderr",
     "output_type": "stream",
     "text": [
      "/usr/local/lib/python3.6/dist-packages/ipykernel_launcher.py:4: SettingWithCopyWarning: \n",
      "A value is trying to be set on a copy of a slice from a DataFrame\n",
      "\n",
      "See the caveats in the documentation: https://pandas.pydata.org/pandas-docs/stable/user_guide/indexing.html#returning-a-view-versus-a-copy\n",
      "  after removing the cwd from sys.path.\n"
     ]
    }
   ],
   "source": [
    "final_df=pd.DataFrame(index=np.arange('2015-01-01','2020-05-02',dtype='datetime64[D]'),columns=column1)\n",
    "for city,i in zip(cities,final_df.columns):\n",
    "    n=len(np.array(df[df['City']==city]['AQI']))\n",
    "    final_df[i][-n:]=np.array(df[df['City']==city]['AQI'])"
   ]
  },
  {
   "cell_type": "markdown",
   "metadata": {
    "colab_type": "text",
    "id": "RXYu5YwVKOOX"
   },
   "source": [
    "convert it into monthly data"
   ]
  },
  {
   "cell_type": "code",
   "execution_count": 0,
   "metadata": {
    "colab": {},
    "colab_type": "code",
    "id": "0S8cbN4c2wVQ"
   },
   "outputs": [],
   "source": [
    "final_df=final_df.astype('float64')\n",
    "final_df=final_df.resample(rule='MS').mean()"
   ]
  },
  {
   "cell_type": "code",
   "execution_count": 28,
   "metadata": {
    "colab": {
     "base_uri": "https://localhost:8080/",
     "height": 226
    },
    "colab_type": "code",
    "id": "3D-noSCQ35vG",
    "outputId": "9edb83b2-1c4a-4ed5-8568-6c3b54de9d57"
   },
   "outputs": [
    {
     "data": {
      "text/html": [
       "<div>\n",
       "<style scoped>\n",
       "    .dataframe tbody tr th:only-of-type {\n",
       "        vertical-align: middle;\n",
       "    }\n",
       "\n",
       "    .dataframe tbody tr th {\n",
       "        vertical-align: top;\n",
       "    }\n",
       "\n",
       "    .dataframe thead th {\n",
       "        text-align: right;\n",
       "    }\n",
       "</style>\n",
       "<table border=\"1\" class=\"dataframe\">\n",
       "  <thead>\n",
       "    <tr style=\"text-align: right;\">\n",
       "      <th></th>\n",
       "      <th>Ahmedabad_AQI</th>\n",
       "      <th>Aizawl_AQI</th>\n",
       "      <th>Amaravati_AQI</th>\n",
       "      <th>Amritsar_AQI</th>\n",
       "      <th>Bengaluru_AQI</th>\n",
       "      <th>Bhopal_AQI</th>\n",
       "      <th>Brajrajnagar_AQI</th>\n",
       "      <th>Chandigarh_AQI</th>\n",
       "      <th>Chennai_AQI</th>\n",
       "      <th>Delhi_AQI</th>\n",
       "      <th>Ernakulam_AQI</th>\n",
       "      <th>Gurugram_AQI</th>\n",
       "      <th>Guwahati_AQI</th>\n",
       "      <th>Hyderabad_AQI</th>\n",
       "      <th>Jaipur_AQI</th>\n",
       "      <th>Jorapokhar_AQI</th>\n",
       "      <th>Kochi_AQI</th>\n",
       "      <th>Kolkata_AQI</th>\n",
       "      <th>Lucknow_AQI</th>\n",
       "      <th>Mumbai_AQI</th>\n",
       "      <th>Patna_AQI</th>\n",
       "      <th>Shillong_AQI</th>\n",
       "      <th>Talcher_AQI</th>\n",
       "      <th>Thiruvananthapuram_AQI</th>\n",
       "    </tr>\n",
       "  </thead>\n",
       "  <tbody>\n",
       "    <tr>\n",
       "      <th>2020-01-01</th>\n",
       "      <td>294.111111</td>\n",
       "      <td>NaN</td>\n",
       "      <td>88.032258</td>\n",
       "      <td>104.806452</td>\n",
       "      <td>95.322581</td>\n",
       "      <td>160.516129</td>\n",
       "      <td>155.518519</td>\n",
       "      <td>94.064516</td>\n",
       "      <td>87.516129</td>\n",
       "      <td>308.451613</td>\n",
       "      <td>136.857143</td>\n",
       "      <td>242.225806</td>\n",
       "      <td>291.645161</td>\n",
       "      <td>104.548387</td>\n",
       "      <td>112.451613</td>\n",
       "      <td>162.935484</td>\n",
       "      <td>156.111111</td>\n",
       "      <td>216.935484</td>\n",
       "      <td>272.645161</td>\n",
       "      <td>168.645161</td>\n",
       "      <td>262.838710</td>\n",
       "      <td>68.619048</td>\n",
       "      <td>301.413793</td>\n",
       "      <td>78.258065</td>\n",
       "    </tr>\n",
       "    <tr>\n",
       "      <th>2020-02-01</th>\n",
       "      <td>547.689655</td>\n",
       "      <td>NaN</td>\n",
       "      <td>67.103448</td>\n",
       "      <td>128.740741</td>\n",
       "      <td>96.482759</td>\n",
       "      <td>128.620690</td>\n",
       "      <td>136.370370</td>\n",
       "      <td>93.379310</td>\n",
       "      <td>78.137931</td>\n",
       "      <td>262.137931</td>\n",
       "      <td>96.172414</td>\n",
       "      <td>197.137931</td>\n",
       "      <td>266.620690</td>\n",
       "      <td>94.965517</td>\n",
       "      <td>125.241379</td>\n",
       "      <td>167.000000</td>\n",
       "      <td>121.068966</td>\n",
       "      <td>197.724138</td>\n",
       "      <td>216.655172</td>\n",
       "      <td>159.206897</td>\n",
       "      <td>201.206897</td>\n",
       "      <td>93.576923</td>\n",
       "      <td>192.321429</td>\n",
       "      <td>88.620690</td>\n",
       "    </tr>\n",
       "    <tr>\n",
       "      <th>2020-03-01</th>\n",
       "      <td>277.466667</td>\n",
       "      <td>65.350000</td>\n",
       "      <td>52.548387</td>\n",
       "      <td>83.733333</td>\n",
       "      <td>90.741935</td>\n",
       "      <td>109.714286</td>\n",
       "      <td>124.100000</td>\n",
       "      <td>55.419355</td>\n",
       "      <td>70.290323</td>\n",
       "      <td>135.838710</td>\n",
       "      <td>84.035714</td>\n",
       "      <td>122.032258</td>\n",
       "      <td>193.806452</td>\n",
       "      <td>78.741935</td>\n",
       "      <td>100.935484</td>\n",
       "      <td>163.166667</td>\n",
       "      <td>129.166667</td>\n",
       "      <td>122.838710</td>\n",
       "      <td>134.000000</td>\n",
       "      <td>104.645161</td>\n",
       "      <td>158.419355</td>\n",
       "      <td>67.870968</td>\n",
       "      <td>117.250000</td>\n",
       "      <td>74.741935</td>\n",
       "    </tr>\n",
       "    <tr>\n",
       "      <th>2020-04-01</th>\n",
       "      <td>120.733333</td>\n",
       "      <td>39.233333</td>\n",
       "      <td>44.400000</td>\n",
       "      <td>58.708333</td>\n",
       "      <td>68.533333</td>\n",
       "      <td>113.782609</td>\n",
       "      <td>137.923077</td>\n",
       "      <td>44.586207</td>\n",
       "      <td>63.500000</td>\n",
       "      <td>113.000000</td>\n",
       "      <td>70.100000</td>\n",
       "      <td>111.166667</td>\n",
       "      <td>127.833333</td>\n",
       "      <td>65.000000</td>\n",
       "      <td>86.200000</td>\n",
       "      <td>121.400000</td>\n",
       "      <td>77.033333</td>\n",
       "      <td>70.366667</td>\n",
       "      <td>106.733333</td>\n",
       "      <td>74.333333</td>\n",
       "      <td>131.166667</td>\n",
       "      <td>75.750000</td>\n",
       "      <td>132.137931</td>\n",
       "      <td>57.066667</td>\n",
       "    </tr>\n",
       "    <tr>\n",
       "      <th>2020-05-01</th>\n",
       "      <td>134.000000</td>\n",
       "      <td>20.000000</td>\n",
       "      <td>54.000000</td>\n",
       "      <td>109.000000</td>\n",
       "      <td>75.000000</td>\n",
       "      <td>121.000000</td>\n",
       "      <td>106.000000</td>\n",
       "      <td>59.000000</td>\n",
       "      <td>65.000000</td>\n",
       "      <td>144.000000</td>\n",
       "      <td>90.000000</td>\n",
       "      <td>164.000000</td>\n",
       "      <td>46.000000</td>\n",
       "      <td>71.000000</td>\n",
       "      <td>163.000000</td>\n",
       "      <td>110.000000</td>\n",
       "      <td>56.000000</td>\n",
       "      <td>69.000000</td>\n",
       "      <td>82.000000</td>\n",
       "      <td>64.000000</td>\n",
       "      <td>118.000000</td>\n",
       "      <td>NaN</td>\n",
       "      <td>101.000000</td>\n",
       "      <td>82.000000</td>\n",
       "    </tr>\n",
       "  </tbody>\n",
       "</table>\n",
       "</div>"
      ],
      "text/plain": [
       "            Ahmedabad_AQI  Aizawl_AQI  ...  Talcher_AQI  Thiruvananthapuram_AQI\n",
       "2020-01-01     294.111111         NaN  ...   301.413793               78.258065\n",
       "2020-02-01     547.689655         NaN  ...   192.321429               88.620690\n",
       "2020-03-01     277.466667   65.350000  ...   117.250000               74.741935\n",
       "2020-04-01     120.733333   39.233333  ...   132.137931               57.066667\n",
       "2020-05-01     134.000000   20.000000  ...   101.000000               82.000000\n",
       "\n",
       "[5 rows x 24 columns]"
      ]
     },
     "execution_count": 28,
     "metadata": {
      "tags": []
     },
     "output_type": "execute_result"
    }
   ],
   "source": [
    "final_df.tail()"
   ]
  },
  {
   "cell_type": "markdown",
   "metadata": {
    "colab_type": "text",
    "id": "wkaAsPlZKkiS"
   },
   "source": [
    "Adding a column 'India_AQI' which gives us the average of all the cities data across a row"
   ]
  },
  {
   "cell_type": "code",
   "execution_count": 0,
   "metadata": {
    "colab": {},
    "colab_type": "code",
    "id": "G8ubi3c137vw"
   },
   "outputs": [],
   "source": [
    "final_df['India_AQI']=final_df.mean(axis=1)"
   ]
  },
  {
   "cell_type": "markdown",
   "metadata": {
    "colab_type": "text",
    "id": "lQiMsOGWKvOn"
   },
   "source": [
    "Plotting India's AQI over the years"
   ]
  },
  {
   "cell_type": "code",
   "execution_count": 30,
   "metadata": {
    "colab": {
     "base_uri": "https://localhost:8080/",
     "height": 483
    },
    "colab_type": "code",
    "id": "ptyXTV9A4C_k",
    "outputId": "14942b86-4f53-4a53-8e1f-16bff0383b70"
   },
   "outputs": [
    {
     "data": {
      "image/png": "[encoded data removed]",
      "text/plain": [
       "<Figure size 864x576 with 1 Axes>"
      ]
     },
     "metadata": {
      "needs_background": "light",
      "tags": []
     },
     "output_type": "display_data"
    }
   ],
   "source": [
    "ax=final_df[['India_AQI']].plot(figsize=(12,8),grid=True,lw=2,color='Blue')\n",
    "ax.autoscale(enable=True, axis='both', tight=True)"
   ]
  },
  {
   "cell_type": "markdown",
   "metadata": {
    "colab_type": "text",
    "id": "tDiZ0idK4e2V"
   },
   "source": [
    "\n",
    "Air pollution by city for the year 2019\n",
    "\n",
    "Our aim of the section is to find level of pollution in the cities and compare them, we use the year 2019 as it is by far the most complete in terms of data and it is the most recent full year and hence rather apt to compare.\n",
    "\n",
    "We will start with forming a table with the data from 2019.\n"
   ]
  },
  {
   "cell_type": "code",
   "execution_count": 31,
   "metadata": {
    "colab": {
     "base_uri": "https://localhost:8080/",
     "height": 226
    },
    "colab_type": "code",
    "id": "Dt7MnfAd4LNw",
    "outputId": "87d9102a-aad7-4faf-ecbf-b24bd1ed7dc6"
   },
   "outputs": [
    {
     "data": {
      "text/html": [
       "<div>\n",
       "<style scoped>\n",
       "    .dataframe tbody tr th:only-of-type {\n",
       "        vertical-align: middle;\n",
       "    }\n",
       "\n",
       "    .dataframe tbody tr th {\n",
       "        vertical-align: top;\n",
       "    }\n",
       "\n",
       "    .dataframe thead th {\n",
       "        text-align: right;\n",
       "    }\n",
       "</style>\n",
       "<table border=\"1\" class=\"dataframe\">\n",
       "  <thead>\n",
       "    <tr style=\"text-align: right;\">\n",
       "      <th></th>\n",
       "      <th>Ahmedabad_AQI</th>\n",
       "      <th>Aizawl_AQI</th>\n",
       "      <th>Amaravati_AQI</th>\n",
       "      <th>Amritsar_AQI</th>\n",
       "      <th>Bengaluru_AQI</th>\n",
       "      <th>Bhopal_AQI</th>\n",
       "      <th>Brajrajnagar_AQI</th>\n",
       "      <th>Chandigarh_AQI</th>\n",
       "      <th>Chennai_AQI</th>\n",
       "      <th>Delhi_AQI</th>\n",
       "      <th>Ernakulam_AQI</th>\n",
       "      <th>Gurugram_AQI</th>\n",
       "      <th>Guwahati_AQI</th>\n",
       "      <th>Hyderabad_AQI</th>\n",
       "      <th>Jaipur_AQI</th>\n",
       "      <th>Jorapokhar_AQI</th>\n",
       "      <th>Kochi_AQI</th>\n",
       "      <th>Kolkata_AQI</th>\n",
       "      <th>Lucknow_AQI</th>\n",
       "      <th>Mumbai_AQI</th>\n",
       "      <th>Patna_AQI</th>\n",
       "      <th>Shillong_AQI</th>\n",
       "      <th>Talcher_AQI</th>\n",
       "      <th>Thiruvananthapuram_AQI</th>\n",
       "      <th>India_AQI</th>\n",
       "    </tr>\n",
       "  </thead>\n",
       "  <tbody>\n",
       "    <tr>\n",
       "      <th>2019-01-01</th>\n",
       "      <td>755.516129</td>\n",
       "      <td>NaN</td>\n",
       "      <td>218.612903</td>\n",
       "      <td>94.633333</td>\n",
       "      <td>116.806452</td>\n",
       "      <td>NaN</td>\n",
       "      <td>259.967742</td>\n",
       "      <td>NaN</td>\n",
       "      <td>131.000000</td>\n",
       "      <td>365.741935</td>\n",
       "      <td>NaN</td>\n",
       "      <td>291.419355</td>\n",
       "      <td>NaN</td>\n",
       "      <td>133.290323</td>\n",
       "      <td>150.290323</td>\n",
       "      <td>324.612903</td>\n",
       "      <td>NaN</td>\n",
       "      <td>360.838710</td>\n",
       "      <td>315.516129</td>\n",
       "      <td>165.516129</td>\n",
       "      <td>405.290323</td>\n",
       "      <td>NaN</td>\n",
       "      <td>289.400000</td>\n",
       "      <td>128.161290</td>\n",
       "      <td>265.094940</td>\n",
       "    </tr>\n",
       "    <tr>\n",
       "      <th>2019-02-01</th>\n",
       "      <td>560.535714</td>\n",
       "      <td>NaN</td>\n",
       "      <td>114.464286</td>\n",
       "      <td>94.892857</td>\n",
       "      <td>106.250000</td>\n",
       "      <td>NaN</td>\n",
       "      <td>208.259259</td>\n",
       "      <td>NaN</td>\n",
       "      <td>118.071429</td>\n",
       "      <td>258.178571</td>\n",
       "      <td>NaN</td>\n",
       "      <td>184.392857</td>\n",
       "      <td>168.545455</td>\n",
       "      <td>113.250000</td>\n",
       "      <td>118.714286</td>\n",
       "      <td>187.214286</td>\n",
       "      <td>NaN</td>\n",
       "      <td>266.071429</td>\n",
       "      <td>243.071429</td>\n",
       "      <td>149.821429</td>\n",
       "      <td>296.107143</td>\n",
       "      <td>NaN</td>\n",
       "      <td>322.555556</td>\n",
       "      <td>88.428571</td>\n",
       "      <td>199.934698</td>\n",
       "    </tr>\n",
       "    <tr>\n",
       "      <th>2019-03-01</th>\n",
       "      <td>601.741935</td>\n",
       "      <td>NaN</td>\n",
       "      <td>79.967742</td>\n",
       "      <td>99.733333</td>\n",
       "      <td>122.129032</td>\n",
       "      <td>NaN</td>\n",
       "      <td>186.870968</td>\n",
       "      <td>NaN</td>\n",
       "      <td>101.419355</td>\n",
       "      <td>197.354839</td>\n",
       "      <td>NaN</td>\n",
       "      <td>150.483871</td>\n",
       "      <td>223.290323</td>\n",
       "      <td>106.161290</td>\n",
       "      <td>106.774194</td>\n",
       "      <td>148.413793</td>\n",
       "      <td>NaN</td>\n",
       "      <td>157.774194</td>\n",
       "      <td>217.645161</td>\n",
       "      <td>123.483871</td>\n",
       "      <td>214.032258</td>\n",
       "      <td>NaN</td>\n",
       "      <td>189.888889</td>\n",
       "      <td>88.838710</td>\n",
       "      <td>173.111320</td>\n",
       "    </tr>\n",
       "    <tr>\n",
       "      <th>2019-04-01</th>\n",
       "      <td>633.518519</td>\n",
       "      <td>NaN</td>\n",
       "      <td>78.133333</td>\n",
       "      <td>112.000000</td>\n",
       "      <td>124.300000</td>\n",
       "      <td>NaN</td>\n",
       "      <td>190.562500</td>\n",
       "      <td>NaN</td>\n",
       "      <td>87.533333</td>\n",
       "      <td>219.400000</td>\n",
       "      <td>NaN</td>\n",
       "      <td>213.633333</td>\n",
       "      <td>105.933333</td>\n",
       "      <td>94.800000</td>\n",
       "      <td>151.000000</td>\n",
       "      <td>117.758621</td>\n",
       "      <td>NaN</td>\n",
       "      <td>86.800000</td>\n",
       "      <td>217.700000</td>\n",
       "      <td>98.066667</td>\n",
       "      <td>151.100000</td>\n",
       "      <td>NaN</td>\n",
       "      <td>142.160000</td>\n",
       "      <td>69.933333</td>\n",
       "      <td>160.796276</td>\n",
       "    </tr>\n",
       "    <tr>\n",
       "      <th>2019-05-01</th>\n",
       "      <td>412.769231</td>\n",
       "      <td>NaN</td>\n",
       "      <td>106.777778</td>\n",
       "      <td>113.258065</td>\n",
       "      <td>105.387097</td>\n",
       "      <td>NaN</td>\n",
       "      <td>130.464286</td>\n",
       "      <td>NaN</td>\n",
       "      <td>103.612903</td>\n",
       "      <td>235.838710</td>\n",
       "      <td>NaN</td>\n",
       "      <td>219.451613</td>\n",
       "      <td>110.896552</td>\n",
       "      <td>113.419355</td>\n",
       "      <td>142.161290</td>\n",
       "      <td>130.555556</td>\n",
       "      <td>NaN</td>\n",
       "      <td>88.548387</td>\n",
       "      <td>184.096774</td>\n",
       "      <td>87.870968</td>\n",
       "      <td>170.806452</td>\n",
       "      <td>NaN</td>\n",
       "      <td>130.413793</td>\n",
       "      <td>75.419355</td>\n",
       "      <td>147.874898</td>\n",
       "    </tr>\n",
       "  </tbody>\n",
       "</table>\n",
       "</div>"
      ],
      "text/plain": [
       "            Ahmedabad_AQI  Aizawl_AQI  ...  Thiruvananthapuram_AQI   India_AQI\n",
       "2019-01-01     755.516129         NaN  ...              128.161290  265.094940\n",
       "2019-02-01     560.535714         NaN  ...               88.428571  199.934698\n",
       "2019-03-01     601.741935         NaN  ...               88.838710  173.111320\n",
       "2019-04-01     633.518519         NaN  ...               69.933333  160.796276\n",
       "2019-05-01     412.769231         NaN  ...               75.419355  147.874898\n",
       "\n",
       "[5 rows x 25 columns]"
      ]
     },
     "execution_count": 31,
     "metadata": {
      "tags": []
     },
     "output_type": "execute_result"
    }
   ],
   "source": [
    "df_2019=final_df['2019-01-01':'2020-01-01']\n",
    "df_2019.head()"
   ]
  },
  {
   "cell_type": "code",
   "execution_count": 32,
   "metadata": {
    "colab": {
     "base_uri": "https://localhost:8080/",
     "height": 495
    },
    "colab_type": "code",
    "id": "sT5EH0tp4lMd",
    "outputId": "2a9fe460-e99d-4501-ea22-2dd7535b256f"
   },
   "outputs": [
    {
     "data": {
      "text/plain": [
       "Ahmedabad_AQI              0\n",
       "Aizawl_AQI                13\n",
       "Amaravati_AQI              1\n",
       "Amritsar_AQI               0\n",
       "Bengaluru_AQI              0\n",
       "Bhopal_AQI                 8\n",
       "Brajrajnagar_AQI           0\n",
       "Chandigarh_AQI             8\n",
       "Chennai_AQI                0\n",
       "Delhi_AQI                  0\n",
       "Ernakulam_AQI             12\n",
       "Gurugram_AQI               0\n",
       "Guwahati_AQI               1\n",
       "Hyderabad_AQI              0\n",
       "Jaipur_AQI                 0\n",
       "Jorapokhar_AQI             1\n",
       "Kochi_AQI                 12\n",
       "Kolkata_AQI                0\n",
       "Lucknow_AQI                0\n",
       "Mumbai_AQI                 0\n",
       "Patna_AQI                  0\n",
       "Shillong_AQI               8\n",
       "Talcher_AQI                0\n",
       "Thiruvananthapuram_AQI     0\n",
       "India_AQI                  0\n",
       "dtype: int64"
      ]
     },
     "execution_count": 32,
     "metadata": {
      "tags": []
     },
     "output_type": "execute_result"
    }
   ],
   "source": [
    "df_2019.isna().sum()"
   ]
  },
  {
   "cell_type": "markdown",
   "metadata": {
    "colab_type": "text",
    "id": "6nwGiScSLEXT"
   },
   "source": [
    "3 cities whose data is missing in its entirety, so removing it"
   ]
  },
  {
   "cell_type": "code",
   "execution_count": 0,
   "metadata": {
    "colab": {},
    "colab_type": "code",
    "id": "XrOEp6-94pJ6"
   },
   "outputs": [],
   "source": [
    "df_2019=df_2019.drop(['Aizawl_AQI','Ernakulam_AQI','Kochi_AQI'],axis=1)"
   ]
  },
  {
   "cell_type": "markdown",
   "metadata": {
    "colab_type": "text",
    "id": "t63tZwO1LOpC"
   },
   "source": [
    "Taking average of months"
   ]
  },
  {
   "cell_type": "code",
   "execution_count": 0,
   "metadata": {
    "colab": {},
    "colab_type": "code",
    "id": "l2ZdNRR862BE"
   },
   "outputs": [],
   "source": [
    "AQI_2019=df_2019.mean(axis=0)"
   ]
  },
  {
   "cell_type": "code",
   "execution_count": 0,
   "metadata": {
    "colab": {},
    "colab_type": "code",
    "id": "WFDCVkj57APt"
   },
   "outputs": [],
   "source": [
    "import matplotlib.pyplot as plt\n",
    "%matplotlib inline"
   ]
  },
  {
   "cell_type": "code",
   "execution_count": 36,
   "metadata": {
    "colab": {
     "base_uri": "https://localhost:8080/",
     "height": 485
    },
    "colab_type": "code",
    "id": "Qv-xO9ZH65HC",
    "outputId": "4c5e0e14-eef9-450c-d8be-8ea6e32cc431"
   },
   "outputs": [
    {
     "data": {
      "image/png": "[encoded data removed]",
      "text/plain": [
       "<Figure size 1440x576 with 1 Axes>"
      ]
     },
     "metadata": {
      "needs_background": "light",
      "tags": []
     },
     "output_type": "display_data"
    }
   ],
   "source": [
    "plt.figure(figsize=(20,8))\n",
    "plt.xticks(rotation=90)\n",
    "bplot = sns.boxplot( data=df_2019,  width=0.75,palette=\"BuGn_r\")\n",
    "plt.ylabel('AQI');"
   ]
  },
  {
   "cell_type": "markdown",
   "metadata": {
    "colab_type": "text",
    "id": "iYbLOSZRLgP-"
   },
   "source": [
    "Ahmedebad has easily the highest values of AQI in the country, followed by Delhi"
   ]
  },
  {
   "cell_type": "code",
   "execution_count": 37,
   "metadata": {
    "colab": {
     "base_uri": "https://localhost:8080/",
     "height": 485
    },
    "colab_type": "code",
    "id": "gYOiyyDw7L6_",
    "outputId": "1758aa57-8882-4e2d-bc4c-56b309e879fc"
   },
   "outputs": [
    {
     "data": {
      "image/png": "[encoded data removed]",
      "text/plain": [
       "<Figure size 1440x576 with 1 Axes>"
      ]
     },
     "metadata": {
      "needs_background": "light",
      "tags": []
     },
     "output_type": "display_data"
    }
   ],
   "source": [
    "plt.figure(figsize=(20,8))\n",
    "plt.xticks(rotation=90)\n",
    "plt.ylabel('AQI')\n",
    "bplot=sns.barplot(AQI_2019.index, AQI_2019.values,palette=\"husl\")"
   ]
  },
  {
   "cell_type": "markdown",
   "metadata": {
    "colab_type": "text",
    "id": "LUKKbdm6LwLa"
   },
   "source": [
    "Shillong is the least followed by trivandrum"
   ]
  },
  {
   "cell_type": "markdown",
   "metadata": {
    "colab_type": "text",
    "id": "FqFkkHuFMJCm"
   },
   "source": [
    "#Analysing and forecasting of AQI values:\n"
   ]
  },
  {
   "cell_type": "markdown",
   "metadata": {
    "colab_type": "text",
    "id": "PE3F57tZMR1m"
   },
   "source": [
    "Checking the seasonal decompose of the AQI values of india"
   ]
  },
  {
   "cell_type": "code",
   "execution_count": 0,
   "metadata": {
    "colab": {
     "base_uri": "https://localhost:8080/",
     "height": 297
    },
    "colab_type": "code",
    "id": "4sX__e3E6-Vj",
    "outputId": "e5badf23-aab8-45f1-d5de-fbb121814643"
   },
   "outputs": [
    {
     "data": {
      "image/png": "[encoded data removed]",
      "text/plain": [
       "<Figure size 432x288 with 4 Axes>"
      ]
     },
     "metadata": {
      "needs_background": "light",
      "tags": []
     },
     "output_type": "display_data"
    }
   ],
   "source": [
    "from statsmodels.tsa.seasonal import seasonal_decompose\n",
    "India_AQI=final_df['India_AQI']\n",
    "result=seasonal_decompose(India_AQI,model='multiplicative')\n",
    "result.plot();"
   ]
  },
  {
   "cell_type": "markdown",
   "metadata": {
    "colab_type": "text",
    "id": "WZFOblkXMYVR"
   },
   "source": [
    "Using sarima"
   ]
  },
  {
   "cell_type": "code",
   "execution_count": 0,
   "metadata": {
    "colab": {
     "base_uri": "https://localhost:8080/",
     "height": 276
    },
    "colab_type": "code",
    "id": "k57WMiui7gKN",
    "outputId": "122c2c3f-b6de-44c2-9841-78e1b1e13e6e"
   },
   "outputs": [
    {
     "name": "stdout",
     "output_type": "stream",
     "text": [
      "Requirement already satisfied: pmdarima in /usr/local/lib/python3.6/dist-packages (1.6.1)\n",
      "Requirement already satisfied: joblib>=0.11 in /usr/local/lib/python3.6/dist-packages (from pmdarima) (0.15.1)\n",
      "Requirement already satisfied: scipy>=1.3.2 in /usr/local/lib/python3.6/dist-packages (from pmdarima) (1.4.1)\n",
      "Requirement already satisfied: Cython<0.29.18,>=0.29 in /usr/local/lib/python3.6/dist-packages (from pmdarima) (0.29.17)\n",
      "Requirement already satisfied: statsmodels>=0.11 in /usr/local/lib/python3.6/dist-packages (from pmdarima) (0.11.1)\n",
      "Requirement already satisfied: scikit-learn>=0.22 in /usr/local/lib/python3.6/dist-packages (from pmdarima) (0.22.2.post1)\n",
      "Requirement already satisfied: urllib3 in /usr/local/lib/python3.6/dist-packages (from pmdarima) (1.24.3)\n",
      "Requirement already satisfied: pandas>=0.19 in /usr/local/lib/python3.6/dist-packages (from pmdarima) (1.0.3)\n",
      "Requirement already satisfied: numpy>=1.17.3 in /usr/local/lib/python3.6/dist-packages (from pmdarima) (1.18.4)\n",
      "Requirement already satisfied: patsy>=0.5 in /usr/local/lib/python3.6/dist-packages (from statsmodels>=0.11->pmdarima) (0.5.1)\n",
      "Requirement already satisfied: pytz>=2017.2 in /usr/local/lib/python3.6/dist-packages (from pandas>=0.19->pmdarima) (2018.9)\n",
      "Requirement already satisfied: python-dateutil>=2.6.1 in /usr/local/lib/python3.6/dist-packages (from pandas>=0.19->pmdarima) (2.8.1)\n",
      "Requirement already satisfied: six in /usr/local/lib/python3.6/dist-packages (from patsy>=0.5->statsmodels>=0.11->pmdarima) (1.12.0)\n"
     ]
    }
   ],
   "source": [
    "from statsmodels.tsa.statespace.sarimax import SARIMAX\n",
    "!pip install pmdarima;\n",
    "from pmdarima import auto_arima;"
   ]
  },
  {
   "cell_type": "code",
   "execution_count": 0,
   "metadata": {
    "colab": {
     "base_uri": "https://localhost:8080/",
     "height": 1000
    },
    "colab_type": "code",
    "id": "pjiZg6II9CRC",
    "outputId": "5fe97121-68eb-4b36-fcdf-30209cf8b527"
   },
   "outputs": [
    {
     "name": "stderr",
     "output_type": "stream",
     "text": [
      "/usr/local/lib/python3.6/dist-packages/statsmodels/tsa/statespace/sarimax.py:868: UserWarning:\n",
      "\n",
      "Too few observations to estimate starting parameters for seasonal ARMA. All parameters except for variances will be set to zeros.\n",
      "\n",
      "/usr/local/lib/python3.6/dist-packages/statsmodels/tsa/statespace/sarimax.py:868: UserWarning:\n",
      "\n",
      "Too few observations to estimate starting parameters for seasonal ARMA. All parameters except for variances will be set to zeros.\n",
      "\n",
      "/usr/local/lib/python3.6/dist-packages/statsmodels/tsa/statespace/sarimax.py:868: UserWarning:\n",
      "\n",
      "Too few observations to estimate starting parameters for seasonal ARMA. All parameters except for variances will be set to zeros.\n",
      "\n",
      "/usr/local/lib/python3.6/dist-packages/statsmodels/base/model.py:568: ConvergenceWarning:\n",
      "\n",
      "Maximum Likelihood optimization failed to converge. Check mle_retvals\n",
      "\n",
      "/usr/local/lib/python3.6/dist-packages/statsmodels/tsa/statespace/sarimax.py:868: UserWarning:\n",
      "\n",
      "Too few observations to estimate starting parameters for seasonal ARMA. All parameters except for variances will be set to zeros.\n",
      "\n",
      "/usr/local/lib/python3.6/dist-packages/statsmodels/tsa/statespace/sarimax.py:868: UserWarning:\n",
      "\n",
      "Too few observations to estimate starting parameters for seasonal ARMA. All parameters except for variances will be set to zeros.\n",
      "\n",
      "/usr/local/lib/python3.6/dist-packages/statsmodels/tsa/statespace/sarimax.py:868: UserWarning:\n",
      "\n",
      "Too few observations to estimate starting parameters for seasonal ARMA. All parameters except for variances will be set to zeros.\n",
      "\n"
     ]
    },
    {
     "data": {
      "text/html": [
       "<table class=\"simpletable\">\n",
       "<caption>SARIMAX Results</caption>\n",
       "<tr>\n",
       "  <th>Dep. Variable:</th>                  <td>y</td>               <th>  No. Observations:  </th>    <td>65</td>   \n",
       "</tr>\n",
       "<tr>\n",
       "  <th>Model:</th>           <td>SARIMAX(1, 1, 1)x(1, 0, 1, 12)</td> <th>  Log Likelihood     </th> <td>-314.846</td>\n",
       "</tr>\n",
       "<tr>\n",
       "  <th>Date:</th>                   <td>Wed, 27 May 2020</td>        <th>  AIC                </th>  <td>641.691</td>\n",
       "</tr>\n",
       "<tr>\n",
       "  <th>Time:</th>                       <td>18:45:39</td>            <th>  BIC                </th>  <td>654.644</td>\n",
       "</tr>\n",
       "<tr>\n",
       "  <th>Sample:</th>                         <td>0</td>               <th>  HQIC               </th>  <td>646.794</td>\n",
       "</tr>\n",
       "<tr>\n",
       "  <th></th>                              <td> - 65</td>             <th>                     </th>     <td> </td>   \n",
       "</tr>\n",
       "<tr>\n",
       "  <th>Covariance Type:</th>               <td>opg</td>              <th>                     </th>     <td> </td>   \n",
       "</tr>\n",
       "</table>\n",
       "<table class=\"simpletable\">\n",
       "<tr>\n",
       "      <td></td>         <th>coef</th>     <th>std err</th>      <th>z</th>      <th>P>|z|</th>  <th>[0.025</th>    <th>0.975]</th>  \n",
       "</tr>\n",
       "<tr>\n",
       "  <th>intercept</th> <td>   -0.2162</td> <td>    0.792</td> <td>   -0.273</td> <td> 0.785</td> <td>   -1.769</td> <td>    1.337</td>\n",
       "</tr>\n",
       "<tr>\n",
       "  <th>ar.L1</th>     <td>   -0.7919</td> <td>    0.120</td> <td>   -6.609</td> <td> 0.000</td> <td>   -1.027</td> <td>   -0.557</td>\n",
       "</tr>\n",
       "<tr>\n",
       "  <th>ma.L1</th>     <td>    0.9998</td> <td>    3.377</td> <td>    0.296</td> <td> 0.767</td> <td>   -5.619</td> <td>    7.618</td>\n",
       "</tr>\n",
       "<tr>\n",
       "  <th>ar.S.L12</th>  <td>    0.9563</td> <td>    0.076</td> <td>   12.624</td> <td> 0.000</td> <td>    0.808</td> <td>    1.105</td>\n",
       "</tr>\n",
       "<tr>\n",
       "  <th>ma.S.L12</th>  <td>   -0.6662</td> <td>    0.278</td> <td>   -2.395</td> <td> 0.017</td> <td>   -1.211</td> <td>   -0.121</td>\n",
       "</tr>\n",
       "<tr>\n",
       "  <th>sigma2</th>    <td>  907.2585</td> <td> 3026.658</td> <td>    0.300</td> <td> 0.764</td> <td>-5024.882</td> <td> 6839.399</td>\n",
       "</tr>\n",
       "</table>\n",
       "<table class=\"simpletable\">\n",
       "<tr>\n",
       "  <th>Ljung-Box (Q):</th>          <td>29.49</td> <th>  Jarque-Bera (JB):  </th> <td>22.21</td>\n",
       "</tr>\n",
       "<tr>\n",
       "  <th>Prob(Q):</th>                <td>0.89</td>  <th>  Prob(JB):          </th> <td>0.00</td> \n",
       "</tr>\n",
       "<tr>\n",
       "  <th>Heteroskedasticity (H):</th> <td>0.23</td>  <th>  Skew:              </th> <td>-0.53</td>\n",
       "</tr>\n",
       "<tr>\n",
       "  <th>Prob(H) (two-sided):</th>    <td>0.00</td>  <th>  Kurtosis:          </th> <td>5.68</td> \n",
       "</tr>\n",
       "</table><br/><br/>Warnings:<br/>[1] Covariance matrix calculated using the outer product of gradients (complex-step)."
      ],
      "text/plain": [
       "<class 'statsmodels.iolib.summary.Summary'>\n",
       "\"\"\"\n",
       "                                     SARIMAX Results                                      \n",
       "==========================================================================================\n",
       "Dep. Variable:                                  y   No. Observations:                   65\n",
       "Model:             SARIMAX(1, 1, 1)x(1, 0, 1, 12)   Log Likelihood                -314.846\n",
       "Date:                            Wed, 27 May 2020   AIC                            641.691\n",
       "Time:                                    18:45:39   BIC                            654.644\n",
       "Sample:                                         0   HQIC                           646.794\n",
       "                                             - 65                                         \n",
       "Covariance Type:                              opg                                         \n",
       "==============================================================================\n",
       "                 coef    std err          z      P>|z|      [0.025      0.975]\n",
       "------------------------------------------------------------------------------\n",
       "intercept     -0.2162      0.792     -0.273      0.785      -1.769       1.337\n",
       "ar.L1         -0.7919      0.120     -6.609      0.000      -1.027      -0.557\n",
       "ma.L1          0.9998      3.377      0.296      0.767      -5.619       7.618\n",
       "ar.S.L12       0.9563      0.076     12.624      0.000       0.808       1.105\n",
       "ma.S.L12      -0.6662      0.278     -2.395      0.017      -1.211      -0.121\n",
       "sigma2       907.2585   3026.658      0.300      0.764   -5024.882    6839.399\n",
       "===================================================================================\n",
       "Ljung-Box (Q):                       29.49   Jarque-Bera (JB):                22.21\n",
       "Prob(Q):                              0.89   Prob(JB):                         0.00\n",
       "Heteroskedasticity (H):               0.23   Skew:                            -0.53\n",
       "Prob(H) (two-sided):                  0.00   Kurtosis:                         5.68\n",
       "===================================================================================\n",
       "\n",
       "Warnings:\n",
       "[1] Covariance matrix calculated using the outer product of gradients (complex-step).\n",
       "\"\"\""
      ]
     },
     "execution_count": 54,
     "metadata": {
      "tags": []
     },
     "output_type": "execute_result"
    }
   ],
   "source": [
    "auto_arima(y=India_AQI,start_p=0,start_P=0,start_q=0,start_Q=0,seasonal=True, m=12).summary()"
   ]
  },
  {
   "cell_type": "code",
   "execution_count": 0,
   "metadata": {
    "colab": {
     "base_uri": "https://localhost:8080/",
     "height": 35
    },
    "colab_type": "code",
    "id": "y55iZ8RG9Ra_",
    "outputId": "cd1b25e2-076d-401e-e6c6-583f273e9ba6"
   },
   "outputs": [
    {
     "data": {
      "text/plain": [
       "65"
      ]
     },
     "execution_count": 55,
     "metadata": {
      "tags": []
     },
     "output_type": "execute_result"
    }
   ],
   "source": [
    "len(India_AQI)"
   ]
  },
  {
   "cell_type": "markdown",
   "metadata": {
    "colab_type": "text",
    "id": "Xt79M432MrZ5"
   },
   "source": [
    "dividing into train and test:"
   ]
  },
  {
   "cell_type": "code",
   "execution_count": 0,
   "metadata": {
    "colab": {},
    "colab_type": "code",
    "id": "msN213U-9TLw"
   },
   "outputs": [],
   "source": [
    "train=India_AQI[:41]\n",
    "test=India_AQI[42:54]"
   ]
  },
  {
   "cell_type": "markdown",
   "metadata": {
    "colab_type": "text",
    "id": "SOXH8FraMt0s"
   },
   "source": [
    "Forming the model:"
   ]
  },
  {
   "cell_type": "code",
   "execution_count": 0,
   "metadata": {
    "colab": {
     "base_uri": "https://localhost:8080/",
     "height": 547
    },
    "colab_type": "code",
    "id": "8o6EH1Q09ZGK",
    "outputId": "cc1b3afb-2a9c-4ab6-995d-485ac1164587"
   },
   "outputs": [
    {
     "name": "stderr",
     "output_type": "stream",
     "text": [
      "/usr/local/lib/python3.6/dist-packages/statsmodels/tsa/statespace/sarimax.py:1006: UserWarning:\n",
      "\n",
      "Non-invertible starting seasonal moving average Using zeros as starting parameters.\n",
      "\n"
     ]
    },
    {
     "data": {
      "text/html": [
       "<table class=\"simpletable\">\n",
       "<caption>SARIMAX Results</caption>\n",
       "<tr>\n",
       "  <th>Dep. Variable:</th>              <td>India_AQI</td>           <th>  No. Observations:  </th>    <td>41</td>   \n",
       "</tr>\n",
       "<tr>\n",
       "  <th>Model:</th>           <td>SARIMAX(1, 1, 1)x(1, 0, 1, 12)</td> <th>  Log Likelihood     </th> <td>-204.793</td>\n",
       "</tr>\n",
       "<tr>\n",
       "  <th>Date:</th>                   <td>Wed, 27 May 2020</td>        <th>  AIC                </th>  <td>419.586</td>\n",
       "</tr>\n",
       "<tr>\n",
       "  <th>Time:</th>                       <td>18:45:40</td>            <th>  BIC                </th>  <td>428.030</td>\n",
       "</tr>\n",
       "<tr>\n",
       "  <th>Sample:</th>                    <td>01-01-2015</td>           <th>  HQIC               </th>  <td>422.639</td>\n",
       "</tr>\n",
       "<tr>\n",
       "  <th></th>                          <td>- 05-01-2018</td>          <th>                     </th>     <td> </td>   \n",
       "</tr>\n",
       "<tr>\n",
       "  <th>Covariance Type:</th>               <td>opg</td>              <th>                     </th>     <td> </td>   \n",
       "</tr>\n",
       "</table>\n",
       "<table class=\"simpletable\">\n",
       "<tr>\n",
       "      <td></td>        <th>coef</th>     <th>std err</th>      <th>z</th>      <th>P>|z|</th>  <th>[0.025</th>    <th>0.975]</th>  \n",
       "</tr>\n",
       "<tr>\n",
       "  <th>ar.L1</th>    <td>   -0.6708</td> <td>    0.203</td> <td>   -3.312</td> <td> 0.001</td> <td>   -1.068</td> <td>   -0.274</td>\n",
       "</tr>\n",
       "<tr>\n",
       "  <th>ma.L1</th>    <td>    0.9996</td> <td>    5.867</td> <td>    0.170</td> <td> 0.865</td> <td>  -10.500</td> <td>   12.499</td>\n",
       "</tr>\n",
       "<tr>\n",
       "  <th>ar.S.L12</th> <td>    0.9310</td> <td>    0.266</td> <td>    3.505</td> <td> 0.000</td> <td>    0.410</td> <td>    1.452</td>\n",
       "</tr>\n",
       "<tr>\n",
       "  <th>ma.S.L12</th> <td>   -0.6350</td> <td>    0.693</td> <td>   -0.916</td> <td> 0.360</td> <td>   -1.994</td> <td>    0.724</td>\n",
       "</tr>\n",
       "<tr>\n",
       "  <th>sigma2</th>   <td> 1297.9758</td> <td> 7426.082</td> <td>    0.175</td> <td> 0.861</td> <td>-1.33e+04</td> <td> 1.59e+04</td>\n",
       "</tr>\n",
       "</table>\n",
       "<table class=\"simpletable\">\n",
       "<tr>\n",
       "  <th>Ljung-Box (Q):</th>          <td>48.19</td> <th>  Jarque-Bera (JB):  </th> <td>12.74</td>\n",
       "</tr>\n",
       "<tr>\n",
       "  <th>Prob(Q):</th>                <td>0.15</td>  <th>  Prob(JB):          </th> <td>0.00</td> \n",
       "</tr>\n",
       "<tr>\n",
       "  <th>Heteroskedasticity (H):</th> <td>0.29</td>  <th>  Skew:              </th> <td>-0.66</td>\n",
       "</tr>\n",
       "<tr>\n",
       "  <th>Prob(H) (two-sided):</th>    <td>0.04</td>  <th>  Kurtosis:          </th> <td>5.43</td> \n",
       "</tr>\n",
       "</table><br/><br/>Warnings:<br/>[1] Covariance matrix calculated using the outer product of gradients (complex-step)."
      ],
      "text/plain": [
       "<class 'statsmodels.iolib.summary.Summary'>\n",
       "\"\"\"\n",
       "                                     SARIMAX Results                                      \n",
       "==========================================================================================\n",
       "Dep. Variable:                          India_AQI   No. Observations:                   41\n",
       "Model:             SARIMAX(1, 1, 1)x(1, 0, 1, 12)   Log Likelihood                -204.793\n",
       "Date:                            Wed, 27 May 2020   AIC                            419.586\n",
       "Time:                                    18:45:40   BIC                            428.030\n",
       "Sample:                                01-01-2015   HQIC                           422.639\n",
       "                                     - 05-01-2018                                         \n",
       "Covariance Type:                              opg                                         \n",
       "==============================================================================\n",
       "                 coef    std err          z      P>|z|      [0.025      0.975]\n",
       "------------------------------------------------------------------------------\n",
       "ar.L1         -0.6708      0.203     -3.312      0.001      -1.068      -0.274\n",
       "ma.L1          0.9996      5.867      0.170      0.865     -10.500      12.499\n",
       "ar.S.L12       0.9310      0.266      3.505      0.000       0.410       1.452\n",
       "ma.S.L12      -0.6350      0.693     -0.916      0.360      -1.994       0.724\n",
       "sigma2      1297.9758   7426.082      0.175      0.861   -1.33e+04    1.59e+04\n",
       "===================================================================================\n",
       "Ljung-Box (Q):                       48.19   Jarque-Bera (JB):                12.74\n",
       "Prob(Q):                              0.15   Prob(JB):                         0.00\n",
       "Heteroskedasticity (H):               0.29   Skew:                            -0.66\n",
       "Prob(H) (two-sided):                  0.04   Kurtosis:                         5.43\n",
       "===================================================================================\n",
       "\n",
       "Warnings:\n",
       "[1] Covariance matrix calculated using the outer product of gradients (complex-step).\n",
       "\"\"\""
      ]
     },
     "execution_count": 57,
     "metadata": {
      "tags": []
     },
     "output_type": "execute_result"
    }
   ],
   "source": [
    "model=SARIMAX(train,order=(1,1,1),seasonal_order=(1,0,1,12),)\n",
    "results=model.fit()\n",
    "results.summary()"
   ]
  },
  {
   "cell_type": "markdown",
   "metadata": {
    "colab_type": "text",
    "id": "WydNPZSlMzla"
   },
   "source": [
    "Obtaining predicted values:"
   ]
  },
  {
   "cell_type": "code",
   "execution_count": 0,
   "metadata": {
    "colab": {},
    "colab_type": "code",
    "id": "8RYuVapT9dZZ"
   },
   "outputs": [],
   "source": [
    "predictions = results.predict(start=42, end=53, typ='levels').rename('Predictions')"
   ]
  },
  {
   "cell_type": "markdown",
   "metadata": {
    "colab_type": "text",
    "id": "OaegA14PM57a"
   },
   "source": [
    "Plotting predicted values against the true values:"
   ]
  },
  {
   "cell_type": "code",
   "execution_count": 0,
   "metadata": {
    "colab": {
     "base_uri": "https://localhost:8080/",
     "height": 277
    },
    "colab_type": "code",
    "id": "xbpgXyfK9hIn",
    "outputId": "abf8c956-6127-453a-879f-ab0562597788"
   },
   "outputs": [
    {
     "data": {
      "image/png": "[encoded data removed]",
      "text/plain": [
       "<Figure size 432x288 with 1 Axes>"
      ]
     },
     "metadata": {
      "needs_background": "light",
      "tags": []
     },
     "output_type": "display_data"
    }
   ],
   "source": [
    "predictions.plot(legend=True)\n",
    "test.plot(legend=True);"
   ]
  },
  {
   "cell_type": "code",
   "execution_count": 0,
   "metadata": {
    "colab": {
     "base_uri": "https://localhost:8080/",
     "height": 54
    },
    "colab_type": "code",
    "id": "Hlcqi5Go9kd6",
    "outputId": "c1481f1d-9c5b-4507-d50d-c6e73da857b5"
   },
   "outputs": [
    {
     "name": "stdout",
     "output_type": "stream",
     "text": [
      "RMSE =  20.69607069599271\n",
      "Mean AQI 176.68763588530942\n"
     ]
    }
   ],
   "source": [
    "from sklearn.metrics import mean_squared_error\n",
    "RMSE=np.sqrt(mean_squared_error(predictions,test))\n",
    "print('RMSE = ',RMSE)\n",
    "print('Mean AQI',test.mean())"
   ]
  },
  {
   "cell_type": "markdown",
   "metadata": {
    "colab_type": "text",
    "id": "YxMWykKoNNHZ"
   },
   "source": [
    "Trying differnt parameters just to check"
   ]
  },
  {
   "cell_type": "code",
   "execution_count": 0,
   "metadata": {
    "colab": {
     "base_uri": "https://localhost:8080/",
     "height": 277
    },
    "colab_type": "code",
    "id": "tpHD34-89r7V",
    "outputId": "da04e548-8879-4ae2-88da-b9edb7e80ec6"
   },
   "outputs": [
    {
     "data": {
      "image/png": "[encoded data removed]",
      "text/plain": [
       "<Figure size 432x288 with 1 Axes>"
      ]
     },
     "metadata": {
      "needs_background": "light",
      "tags": []
     },
     "output_type": "display_data"
    }
   ],
   "source": [
    "#dividing into train and test:\n",
    "train=India_AQI[:53]\n",
    "test=India_AQI[54:]\n",
    "# Forming the model:\n",
    "model=SARIMAX(train,order=(1,1,1),seasonal_order=(1,0,1,12),)\n",
    "results=model.fit()\n",
    "results.summary()\n",
    "#Obtaining predicted values:\n",
    "predictions = results.predict(start=54, end=64, typ='levels').rename('Predictions')\n",
    "#Plotting predicted values against the true values:\n",
    "predictions.plot(legend=True)\n",
    "test.plot(legend=True);"
   ]
  },
  {
   "cell_type": "code",
   "execution_count": 0,
   "metadata": {
    "colab": {
     "base_uri": "https://localhost:8080/",
     "height": 54
    },
    "colab_type": "code",
    "id": "7VJS4LwL-LWs",
    "outputId": "08e29647-34c1-4077-84e7-467af64996e1"
   },
   "outputs": [
    {
     "name": "stdout",
     "output_type": "stream",
     "text": [
      "RMSE =  43.95748314220997\n",
      "Mean AQI 133.55768465497644\n"
     ]
    }
   ],
   "source": [
    "#Finding RMSE:\n",
    "from sklearn.metrics import mean_squared_error\n",
    "RMSE=np.sqrt(mean_squared_error(predictions,test))\n",
    "print('RMSE = ',RMSE)\n",
    "print('Mean AQI',test.mean())"
   ]
  },
  {
   "cell_type": "markdown",
   "metadata": {
    "colab_type": "text",
    "id": "xRChzIJTNgey"
   },
   "source": [
    "Predicting the future"
   ]
  },
  {
   "cell_type": "code",
   "execution_count": 0,
   "metadata": {
    "colab": {
     "base_uri": "https://localhost:8080/",
     "height": 556
    },
    "colab_type": "code",
    "id": "g2hg8LNW-Q3d",
    "outputId": "ff06f045-f6f6-42d0-ea3b-2194fb14974f"
   },
   "outputs": [
    {
     "name": "stderr",
     "output_type": "stream",
     "text": [
      "/usr/local/lib/python3.6/dist-packages/statsmodels/base/model.py:568: ConvergenceWarning:\n",
      "\n",
      "Maximum Likelihood optimization failed to converge. Check mle_retvals\n",
      "\n"
     ]
    },
    {
     "data": {
      "image/png": "[encoded data removed]",
      "text/plain": [
       "<Figure size 864x576 with 1 Axes>"
      ]
     },
     "metadata": {
      "needs_background": "light",
      "tags": []
     },
     "output_type": "display_data"
    }
   ],
   "source": [
    "model=SARIMAX(India_AQI,order=(1,1,1),seasonal_order=(1,0,1,12))\n",
    "results=model.fit()\n",
    "results.summary()\n",
    "predictions = results.predict(start=64, end=77, typ='levels').rename('Predictions')\n",
    "predictions.plot(legend=True)\n",
    "India_AQI.plot(legend=True,figsize=(12,8),grid=True);"
   ]
  },
  {
   "cell_type": "markdown",
   "metadata": {
    "colab_type": "text",
    "id": "56NW0bl1NoL3"
   },
   "source": [
    "Forecasting using Facebook's Prophet."
   ]
  },
  {
   "cell_type": "code",
   "execution_count": 0,
   "metadata": {
    "colab": {},
    "colab_type": "code",
    "id": "JKcwtXJXJmhE"
   },
   "outputs": [],
   "source": [
    "from fbprophet import Prophet"
   ]
  },
  {
   "cell_type": "code",
   "execution_count": 0,
   "metadata": {
    "colab": {},
    "colab_type": "code",
    "id": "Q5VTcWz_dXoF"
   },
   "outputs": [],
   "source": [
    "#Formatting necessary to Prophet:\n",
    "India_AQI=India_AQI.reset_index()\n",
    "India_AQI.columns=['ds','y']"
   ]
  },
  {
   "cell_type": "code",
   "execution_count": 0,
   "metadata": {
    "colab": {
     "base_uri": "https://localhost:8080/",
     "height": 72
    },
    "colab_type": "code",
    "id": "w7B0ng4MddYj",
    "outputId": "0ba9c8b6-6642-4e7a-c5e4-12a2fad32be8"
   },
   "outputs": [
    {
     "name": "stderr",
     "output_type": "stream",
     "text": [
      "INFO:fbprophet:Disabling weekly seasonality. Run prophet with weekly_seasonality=True to override this.\n",
      "INFO:fbprophet:Disabling daily seasonality. Run prophet with daily_seasonality=True to override this.\n"
     ]
    },
    {
     "data": {
      "text/plain": [
       "<fbprophet.forecaster.Prophet at 0x7f3e23f3f860>"
      ]
     },
     "execution_count": 66,
     "metadata": {
      "tags": []
     },
     "output_type": "execute_result"
    }
   ],
   "source": [
    "# Forming test/train data:\n",
    "train=India_AQI[:-24]\n",
    "test=India_AQI[-24:-12]\n",
    "m = Prophet(seasonality_mode='multiplicative')\n",
    "m.fit(train)"
   ]
  },
  {
   "cell_type": "code",
   "execution_count": 0,
   "metadata": {
    "colab": {},
    "colab_type": "code",
    "id": "boV4ZTpvdifY"
   },
   "outputs": [],
   "source": [
    "future = m.make_future_dataframe(periods=12,freq = 'MS')"
   ]
  },
  {
   "cell_type": "code",
   "execution_count": 0,
   "metadata": {
    "colab": {
     "base_uri": "https://localhost:8080/",
     "height": 441
    },
    "colab_type": "code",
    "id": "i6U-kFhudqW8",
    "outputId": "ed749245-62de-47cf-912a-5096f3cbdaa1"
   },
   "outputs": [
    {
     "data": {
      "image/png": "[encoded data removed]",
      "text/plain": [
       "<Figure size 720x432 with 1 Axes>"
      ]
     },
     "metadata": {
      "tags": []
     },
     "output_type": "display_data"
    }
   ],
   "source": [
    "forecast = m.predict(future)\n",
    "m.plot(forecast);"
   ]
  },
  {
   "cell_type": "code",
   "execution_count": 0,
   "metadata": {
    "colab": {
     "base_uri": "https://localhost:8080/",
     "height": 54
    },
    "colab_type": "code",
    "id": "FFuOts2bd4FQ",
    "outputId": "54983112-22c0-4607-a13b-c95e582cecbf"
   },
   "outputs": [
    {
     "name": "stdout",
     "output_type": "stream",
     "text": [
      "RMSE =  22.814309479104242\n",
      "Mean AQI 178.83105077960582\n"
     ]
    }
   ],
   "source": [
    "#Finding RMSE:\n",
    "from sklearn.metrics import mean_squared_error\n",
    "RMSE=np.sqrt(mean_squared_error(forecast['yhat'][-12:],test['y']))\n",
    "print('RMSE = ',RMSE)\n",
    "print('Mean AQI',test['y'].mean())"
   ]
  },
  {
   "cell_type": "markdown",
   "metadata": {
    "colab_type": "text",
    "id": "gtyqJiBxOBzH"
   },
   "source": [
    "RMSE value is a lot higher than that of SARIMA"
   ]
  },
  {
   "cell_type": "markdown",
   "metadata": {
    "colab_type": "text",
    "id": "K3Z7WEezOKCx"
   },
   "source": [
    "Lets forecast using prophet"
   ]
  },
  {
   "cell_type": "code",
   "execution_count": 0,
   "metadata": {
    "colab": {
     "base_uri": "https://localhost:8080/",
     "height": 441
    },
    "colab_type": "code",
    "id": "wll2sUwsd_9P",
    "outputId": "dc7cf792-515f-44b3-d954-91ff667d94c3"
   },
   "outputs": [
    {
     "data": {
      "image/png": "[encoded data removed]",
      "text/plain": [
       "<Figure size 720x432 with 1 Axes>"
      ]
     },
     "metadata": {
      "tags": []
     },
     "output_type": "display_data"
    }
   ],
   "source": [
    "m = Prophet(seasonality_mode='multiplicative',weekly_seasonality=False,daily_seasonality=False)\n",
    "m.fit(India_AQI)\n",
    "future = m.make_future_dataframe(periods=12,freq = 'MS')\n",
    "forecast = m.predict(future)\n",
    "m.plot(forecast);"
   ]
  },
  {
   "cell_type": "code",
   "execution_count": 0,
   "metadata": {
    "colab": {
     "base_uri": "https://localhost:8080/",
     "height": 441
    },
    "colab_type": "code",
    "id": "0Rm_uCwseFAs",
    "outputId": "a3112695-5dff-4bdb-f4ae-46bf536f4869"
   },
   "outputs": [
    {
     "data": {
      "image/png": "[encoded data removed]",
      "text/plain": [
       "<Figure size 648x432 with 2 Axes>"
      ]
     },
     "metadata": {
      "tags": []
     },
     "output_type": "display_data"
    }
   ],
   "source": [
    "m.plot_components(forecast);"
   ]
  },
  {
   "cell_type": "markdown",
   "metadata": {
    "colab_type": "text",
    "id": "3HBxBtbpOTdw"
   },
   "source": [
    "Clearly trend is on the downside"
   ]
  },
  {
   "cell_type": "markdown",
   "metadata": {
    "colab_type": "text",
    "id": "dHvdS9LtOqG-"
   },
   "source": [
    "Now lets forecast using deep learning using LSTM,RNN"
   ]
  },
  {
   "cell_type": "code",
   "execution_count": 0,
   "metadata": {
    "colab": {},
    "colab_type": "code",
    "id": "r4dWkaaTePdK"
   },
   "outputs": [],
   "source": [
    "India_AQI=India_AQI.set_index('ds')"
   ]
  },
  {
   "cell_type": "code",
   "execution_count": 0,
   "metadata": {
    "colab": {},
    "colab_type": "code",
    "id": "OU70zHWkeVHH"
   },
   "outputs": [],
   "source": [
    "train=India_AQI[:-24]\n",
    "test=India_AQI[-24:-12]"
   ]
  },
  {
   "cell_type": "markdown",
   "metadata": {
    "colab_type": "text",
    "id": "brxOom_IOyMc"
   },
   "source": [
    "Scaling data"
   ]
  },
  {
   "cell_type": "code",
   "execution_count": 0,
   "metadata": {
    "colab": {
     "base_uri": "https://localhost:8080/",
     "height": 35
    },
    "colab_type": "code",
    "id": "ZjPJZkjSeXxq",
    "outputId": "d801e587-110d-457a-a399-ac39002c9cf0"
   },
   "outputs": [
    {
     "data": {
      "text/plain": [
       "MinMaxScaler(copy=True, feature_range=(0, 1))"
      ]
     },
     "execution_count": 74,
     "metadata": {
      "tags": []
     },
     "output_type": "execute_result"
    }
   ],
   "source": [
    "from sklearn.preprocessing import MinMaxScaler\n",
    "scaler = MinMaxScaler()\n",
    "scaler.fit(train)"
   ]
  },
  {
   "cell_type": "code",
   "execution_count": 0,
   "metadata": {
    "colab": {},
    "colab_type": "code",
    "id": "KMzHrFsCecxq"
   },
   "outputs": [],
   "source": [
    "scaled_train = scaler.transform(train)\n",
    "scaled_test = scaler.transform(test)"
   ]
  },
  {
   "cell_type": "markdown",
   "metadata": {
    "colab_type": "text",
    "id": "aZGNu-gPPCpq"
   },
   "source": [
    "Formatting data"
   ]
  },
  {
   "cell_type": "code",
   "execution_count": 0,
   "metadata": {
    "colab": {
     "base_uri": "https://localhost:8080/",
     "height": 35
    },
    "colab_type": "code",
    "id": "nxtinjutef6Z",
    "outputId": "5870be62-96df-48f0-841b-a28aa7cb899b"
   },
   "outputs": [
    {
     "name": "stderr",
     "output_type": "stream",
     "text": [
      "Using TensorFlow backend.\n"
     ]
    }
   ],
   "source": [
    "from keras.preprocessing.sequence import TimeseriesGenerator\n",
    "n_input = 24\n",
    "n_features = 1\n",
    "generator = TimeseriesGenerator(scaled_train, scaled_train, length=n_input, batch_size=1)"
   ]
  },
  {
   "cell_type": "code",
   "execution_count": 0,
   "metadata": {
    "colab": {},
    "colab_type": "code",
    "id": "vfjouIg1elDg"
   },
   "outputs": [],
   "source": [
    "#To give an idea of what generator file holds:\n",
    "X,y = generator[0]"
   ]
  },
  {
   "cell_type": "code",
   "execution_count": 0,
   "metadata": {
    "colab": {
     "base_uri": "https://localhost:8080/",
     "height": 146
    },
    "colab_type": "code",
    "id": "YyuIe5_Vensx",
    "outputId": "e64e10ca-0a02-4401-f240-42d33871c807"
   },
   "outputs": [
    {
     "name": "stdout",
     "output_type": "stream",
     "text": [
      "Given the Array: \n",
      "[0.76606002 1.         0.50372626 0.30852832 0.30774907 0.24262397\n",
      " 0.17586106 0.19605334 0.22674095 0.46158029 0.56459079 0.47485447\n",
      " 0.54636138 0.44194753 0.36353688 0.29791689 0.22695264 0.21239967\n",
      " 0.16972153 0.14206495 0.15264551 0.40414151 0.61964574 0.55269174]\n",
      "Predict this y: \n",
      " [[0.50651424]]\n"
     ]
    }
   ],
   "source": [
    "# We can see that the x array gives the list of values that we are going to predict y of:\n",
    "print(f'Given the Array: \\n{X.flatten()}')\n",
    "print(f'Predict this y: \\n {y}')"
   ]
  },
  {
   "cell_type": "markdown",
   "metadata": {
    "colab_type": "text",
    "id": "cHFs0t3WPhRo"
   },
   "source": [
    "Forming the LSTM model"
   ]
  },
  {
   "cell_type": "code",
   "execution_count": 0,
   "metadata": {
    "colab": {},
    "colab_type": "code",
    "id": "MbXmGEf1euYD"
   },
   "outputs": [],
   "source": [
    "from keras.models import Sequential\n",
    "from keras.layers import Dense\n",
    "from keras.layers import LSTM"
   ]
  },
  {
   "cell_type": "code",
   "execution_count": 0,
   "metadata": {
    "colab": {},
    "colab_type": "code",
    "id": "XuztvbiVe0qK"
   },
   "outputs": [],
   "source": [
    "model = Sequential()\n",
    "model.add(LSTM(50, activation='relu', input_shape=(n_input, n_features)))\n",
    "model.add(Dense(1))\n",
    "model.compile(optimizer='adam', loss='mse')"
   ]
  },
  {
   "cell_type": "code",
   "execution_count": 0,
   "metadata": {
    "colab": {
     "base_uri": "https://localhost:8080/",
     "height": 237
    },
    "colab_type": "code",
    "id": "XJPOFlXWe5iA",
    "outputId": "44f8ddcd-10f5-482a-b4a9-b20e2e7db236"
   },
   "outputs": [
    {
     "name": "stdout",
     "output_type": "stream",
     "text": [
      "Model: \"sequential_1\"\n",
      "_________________________________________________________________\n",
      "Layer (type)                 Output Shape              Param #   \n",
      "=================================================================\n",
      "lstm_1 (LSTM)                (None, 50)                10400     \n",
      "_________________________________________________________________\n",
      "dense_1 (Dense)              (None, 1)                 51        \n",
      "=================================================================\n",
      "Total params: 10,451\n",
      "Trainable params: 10,451\n",
      "Non-trainable params: 0\n",
      "_________________________________________________________________\n"
     ]
    }
   ],
   "source": [
    "model.summary()"
   ]
  },
  {
   "cell_type": "code",
   "execution_count": 0,
   "metadata": {
    "colab": {
     "base_uri": "https://localhost:8080/",
     "height": 1000
    },
    "colab_type": "code",
    "id": "4nf0XuEEfAke",
    "outputId": "01be44b0-86d5-4d60-b160-04f236cd341f"
   },
   "outputs": [
    {
     "name": "stdout",
     "output_type": "stream",
     "text": [
      "Epoch 1/200\n",
      "17/17 [==============================] - 1s 43ms/step - loss: 0.1141\n",
      "Epoch 2/200\n",
      "17/17 [==============================] - 0s 9ms/step - loss: 0.0648\n",
      "Epoch 3/200\n",
      "17/17 [==============================] - 0s 10ms/step - loss: 0.0329\n",
      "Epoch 4/200\n",
      "17/17 [==============================] - 0s 10ms/step - loss: 0.0366\n",
      "Epoch 5/200\n",
      "17/17 [==============================] - 0s 11ms/step - loss: 0.0336\n",
      "Epoch 6/200\n",
      "17/17 [==============================] - 0s 10ms/step - loss: 0.0329\n",
      "Epoch 7/200\n",
      "17/17 [==============================] - 0s 11ms/step - loss: 0.0313\n",
      "Epoch 8/200\n",
      "17/17 [==============================] - 0s 11ms/step - loss: 0.0321\n",
      "Epoch 9/200\n",
      "17/17 [==============================] - 0s 11ms/step - loss: 0.0315\n",
      "Epoch 10/200\n",
      "17/17 [==============================] - 0s 10ms/step - loss: 0.0333\n",
      "Epoch 11/200\n",
      "17/17 [==============================] - 0s 10ms/step - loss: 0.0312\n",
      "Epoch 12/200\n",
      "17/17 [==============================] - 0s 9ms/step - loss: 0.0296\n",
      "Epoch 13/200\n",
      "17/17 [==============================] - 0s 9ms/step - loss: 0.0309\n",
      "Epoch 14/200\n",
      "17/17 [==============================] - 0s 9ms/step - loss: 0.0303\n",
      "Epoch 15/200\n",
      "17/17 [==============================] - 0s 10ms/step - loss: 0.0305\n",
      "Epoch 16/200\n",
      "17/17 [==============================] - 0s 8ms/step - loss: 0.0300\n",
      "Epoch 17/200\n",
      "17/17 [==============================] - 0s 9ms/step - loss: 0.0297\n",
      "Epoch 18/200\n",
      "17/17 [==============================] - 0s 9ms/step - loss: 0.0302\n",
      "Epoch 19/200\n",
      "17/17 [==============================] - 0s 10ms/step - loss: 0.0328\n",
      "Epoch 20/200\n",
      "17/17 [==============================] - 0s 9ms/step - loss: 0.0281\n",
      "Epoch 21/200\n",
      "17/17 [==============================] - 0s 8ms/step - loss: 0.0292\n",
      "Epoch 22/200\n",
      "17/17 [==============================] - 0s 10ms/step - loss: 0.0295\n",
      "Epoch 23/200\n",
      "17/17 [==============================] - 0s 10ms/step - loss: 0.0267\n",
      "Epoch 24/200\n",
      "17/17 [==============================] - 0s 9ms/step - loss: 0.0283\n",
      "Epoch 25/200\n",
      "17/17 [==============================] - 0s 9ms/step - loss: 0.0284\n",
      "Epoch 26/200\n",
      "17/17 [==============================] - 0s 9ms/step - loss: 0.0276\n",
      "Epoch 27/200\n",
      "17/17 [==============================] - 0s 9ms/step - loss: 0.0248\n",
      "Epoch 28/200\n",
      "17/17 [==============================] - 0s 9ms/step - loss: 0.0256\n",
      "Epoch 29/200\n",
      "17/17 [==============================] - 0s 8ms/step - loss: 0.0268\n",
      "Epoch 30/200\n",
      "17/17 [==============================] - 0s 9ms/step - loss: 0.0235\n",
      "Epoch 31/200\n",
      "17/17 [==============================] - 0s 9ms/step - loss: 0.0235\n",
      "Epoch 32/200\n",
      "17/17 [==============================] - 0s 9ms/step - loss: 0.0287\n",
      "Epoch 33/200\n",
      "17/17 [==============================] - 0s 9ms/step - loss: 0.0284\n",
      "Epoch 34/200\n",
      "17/17 [==============================] - 0s 10ms/step - loss: 0.0277\n",
      "Epoch 35/200\n",
      "17/17 [==============================] - 0s 8ms/step - loss: 0.0228\n",
      "Epoch 36/200\n",
      "17/17 [==============================] - 0s 9ms/step - loss: 0.0200\n",
      "Epoch 37/200\n",
      "17/17 [==============================] - 0s 9ms/step - loss: 0.0199\n",
      "Epoch 38/200\n",
      "17/17 [==============================] - 0s 9ms/step - loss: 0.0233\n",
      "Epoch 39/200\n",
      "17/17 [==============================] - 0s 9ms/step - loss: 0.0195\n",
      "Epoch 40/200\n",
      "17/17 [==============================] - 0s 9ms/step - loss: 0.0374\n",
      "Epoch 41/200\n",
      "17/17 [==============================] - 0s 9ms/step - loss: 0.0317\n",
      "Epoch 42/200\n",
      "17/17 [==============================] - 0s 9ms/step - loss: 0.0265\n",
      "Epoch 43/200\n",
      "17/17 [==============================] - 0s 9ms/step - loss: 0.0257\n",
      "Epoch 44/200\n",
      "17/17 [==============================] - 0s 9ms/step - loss: 0.0262\n",
      "Epoch 45/200\n",
      "17/17 [==============================] - 0s 9ms/step - loss: 0.0238\n",
      "Epoch 46/200\n",
      "17/17 [==============================] - 0s 9ms/step - loss: 0.0260\n",
      "Epoch 47/200\n",
      "17/17 [==============================] - 0s 11ms/step - loss: 0.0238\n",
      "Epoch 48/200\n",
      "17/17 [==============================] - 0s 10ms/step - loss: 0.0247\n",
      "Epoch 49/200\n",
      "17/17 [==============================] - 0s 9ms/step - loss: 0.0201\n",
      "Epoch 50/200\n",
      "17/17 [==============================] - 0s 9ms/step - loss: 0.0201\n",
      "Epoch 51/200\n",
      "17/17 [==============================] - 0s 9ms/step - loss: 0.0210\n",
      "Epoch 52/200\n",
      "17/17 [==============================] - 0s 9ms/step - loss: 0.0181\n",
      "Epoch 53/200\n",
      "17/17 [==============================] - 0s 9ms/step - loss: 0.0167\n",
      "Epoch 54/200\n",
      "17/17 [==============================] - 0s 9ms/step - loss: 0.0155\n",
      "Epoch 55/200\n",
      "17/17 [==============================] - 0s 9ms/step - loss: 0.0172\n",
      "Epoch 56/200\n",
      "17/17 [==============================] - 0s 9ms/step - loss: 0.0134\n",
      "Epoch 57/200\n",
      "17/17 [==============================] - 0s 10ms/step - loss: 0.0176\n",
      "Epoch 58/200\n",
      "17/17 [==============================] - 0s 10ms/step - loss: 0.0304\n",
      "Epoch 59/200\n",
      "17/17 [==============================] - 0s 12ms/step - loss: 0.0218\n",
      "Epoch 60/200\n",
      "17/17 [==============================] - 0s 9ms/step - loss: 0.0168\n",
      "Epoch 61/200\n",
      "17/17 [==============================] - 0s 9ms/step - loss: 0.0150\n",
      "Epoch 62/200\n",
      "17/17 [==============================] - 0s 10ms/step - loss: 0.0141\n",
      "Epoch 63/200\n",
      "17/17 [==============================] - 0s 9ms/step - loss: 0.0127\n",
      "Epoch 64/200\n",
      "17/17 [==============================] - 0s 10ms/step - loss: 0.0119\n",
      "Epoch 65/200\n",
      "17/17 [==============================] - 0s 9ms/step - loss: 0.0113\n",
      "Epoch 66/200\n",
      "17/17 [==============================] - 0s 10ms/step - loss: 0.0101\n",
      "Epoch 67/200\n",
      "17/17 [==============================] - 0s 10ms/step - loss: 0.0120\n",
      "Epoch 68/200\n",
      "17/17 [==============================] - 0s 10ms/step - loss: 0.0118\n",
      "Epoch 69/200\n",
      "17/17 [==============================] - 0s 9ms/step - loss: 0.0194\n",
      "Epoch 70/200\n",
      "17/17 [==============================] - 0s 9ms/step - loss: 0.0116\n",
      "Epoch 71/200\n",
      "17/17 [==============================] - 0s 9ms/step - loss: 0.0108\n",
      "Epoch 72/200\n",
      "17/17 [==============================] - 0s 9ms/step - loss: 0.0108\n",
      "Epoch 73/200\n",
      "17/17 [==============================] - 0s 9ms/step - loss: 0.0102\n",
      "Epoch 74/200\n",
      "17/17 [==============================] - 0s 11ms/step - loss: 0.0092\n",
      "Epoch 75/200\n",
      "17/17 [==============================] - 0s 10ms/step - loss: 0.0099\n",
      "Epoch 76/200\n",
      "17/17 [==============================] - 0s 10ms/step - loss: 0.0090\n",
      "Epoch 77/200\n",
      "17/17 [==============================] - 0s 9ms/step - loss: 0.0089\n",
      "Epoch 78/200\n",
      "17/17 [==============================] - 0s 9ms/step - loss: 0.0098\n",
      "Epoch 79/200\n",
      "17/17 [==============================] - 0s 9ms/step - loss: 0.0080\n",
      "Epoch 80/200\n",
      "17/17 [==============================] - 0s 9ms/step - loss: 0.0090\n",
      "Epoch 81/200\n",
      "17/17 [==============================] - 0s 9ms/step - loss: 0.0082\n",
      "Epoch 82/200\n",
      "17/17 [==============================] - 0s 9ms/step - loss: 0.0076\n",
      "Epoch 83/200\n",
      "17/17 [==============================] - 0s 10ms/step - loss: 0.0073\n",
      "Epoch 84/200\n",
      "17/17 [==============================] - 0s 9ms/step - loss: 0.0096\n",
      "Epoch 85/200\n",
      "17/17 [==============================] - 0s 10ms/step - loss: 0.0075\n",
      "Epoch 86/200\n",
      "17/17 [==============================] - 0s 10ms/step - loss: 0.0071\n",
      "Epoch 87/200\n",
      "17/17 [==============================] - 0s 10ms/step - loss: 0.0101\n",
      "Epoch 88/200\n",
      "17/17 [==============================] - 0s 9ms/step - loss: 0.0118\n",
      "Epoch 89/200\n",
      "17/17 [==============================] - 0s 9ms/step - loss: 0.0093\n",
      "Epoch 90/200\n",
      "17/17 [==============================] - 0s 9ms/step - loss: 0.0091\n",
      "Epoch 91/200\n",
      "17/17 [==============================] - 0s 9ms/step - loss: 0.0084\n",
      "Epoch 92/200\n",
      "17/17 [==============================] - 0s 9ms/step - loss: 0.0078\n",
      "Epoch 93/200\n",
      "17/17 [==============================] - 0s 9ms/step - loss: 0.0103\n",
      "Epoch 94/200\n",
      "17/17 [==============================] - 0s 9ms/step - loss: 0.0077\n",
      "Epoch 95/200\n",
      "17/17 [==============================] - 0s 10ms/step - loss: 0.0082\n",
      "Epoch 96/200\n",
      "17/17 [==============================] - 0s 9ms/step - loss: 0.0089\n",
      "Epoch 97/200\n",
      "17/17 [==============================] - 0s 9ms/step - loss: 0.0066\n",
      "Epoch 98/200\n",
      "17/17 [==============================] - 0s 10ms/step - loss: 0.0073\n",
      "Epoch 99/200\n",
      "17/17 [==============================] - 0s 9ms/step - loss: 0.0088\n",
      "Epoch 100/200\n",
      "17/17 [==============================] - 0s 9ms/step - loss: 0.0070\n",
      "Epoch 101/200\n",
      "17/17 [==============================] - 0s 10ms/step - loss: 0.0068\n",
      "Epoch 102/200\n",
      "17/17 [==============================] - 0s 9ms/step - loss: 0.0072\n",
      "Epoch 103/200\n",
      "17/17 [==============================] - 0s 10ms/step - loss: 0.0066\n",
      "Epoch 104/200\n",
      "17/17 [==============================] - 0s 10ms/step - loss: 0.0070\n",
      "Epoch 105/200\n",
      "17/17 [==============================] - 0s 9ms/step - loss: 0.0089\n",
      "Epoch 106/200\n",
      "17/17 [==============================] - 0s 9ms/step - loss: 0.0078\n",
      "Epoch 107/200\n",
      "17/17 [==============================] - 0s 9ms/step - loss: 0.0069\n",
      "Epoch 108/200\n",
      "17/17 [==============================] - 0s 9ms/step - loss: 0.0073\n",
      "Epoch 109/200\n",
      "17/17 [==============================] - 0s 9ms/step - loss: 0.0067\n",
      "Epoch 110/200\n",
      "17/17 [==============================] - 0s 9ms/step - loss: 0.0065\n",
      "Epoch 111/200\n",
      "17/17 [==============================] - 0s 10ms/step - loss: 0.0079\n",
      "Epoch 112/200\n",
      "17/17 [==============================] - 0s 9ms/step - loss: 0.0083\n",
      "Epoch 113/200\n",
      "17/17 [==============================] - 0s 9ms/step - loss: 0.0073\n",
      "Epoch 114/200\n",
      "17/17 [==============================] - 0s 10ms/step - loss: 0.0068\n",
      "Epoch 115/200\n",
      "17/17 [==============================] - 0s 9ms/step - loss: 0.0076\n",
      "Epoch 116/200\n",
      "17/17 [==============================] - 0s 10ms/step - loss: 0.0063\n",
      "Epoch 117/200\n",
      "17/17 [==============================] - 0s 10ms/step - loss: 0.0069\n",
      "Epoch 118/200\n",
      "17/17 [==============================] - 0s 10ms/step - loss: 0.0059\n",
      "Epoch 119/200\n",
      "17/17 [==============================] - 0s 9ms/step - loss: 0.0066\n",
      "Epoch 120/200\n",
      "17/17 [==============================] - 0s 10ms/step - loss: 0.0062\n",
      "Epoch 121/200\n",
      "17/17 [==============================] - 0s 9ms/step - loss: 0.0068\n",
      "Epoch 122/200\n",
      "17/17 [==============================] - 0s 9ms/step - loss: 0.0059\n",
      "Epoch 123/200\n",
      "17/17 [==============================] - 0s 9ms/step - loss: 0.0058\n",
      "Epoch 124/200\n",
      "17/17 [==============================] - 0s 9ms/step - loss: 0.0054\n",
      "Epoch 125/200\n",
      "17/17 [==============================] - 0s 9ms/step - loss: 0.0059\n",
      "Epoch 126/200\n",
      "17/17 [==============================] - 0s 11ms/step - loss: 0.0056\n",
      "Epoch 127/200\n",
      "17/17 [==============================] - 0s 9ms/step - loss: 0.0062\n",
      "Epoch 128/200\n",
      "17/17 [==============================] - 0s 9ms/step - loss: 0.0054\n",
      "Epoch 129/200\n",
      "17/17 [==============================] - 0s 9ms/step - loss: 0.0063\n",
      "Epoch 130/200\n",
      "17/17 [==============================] - 0s 9ms/step - loss: 0.0072\n",
      "Epoch 131/200\n",
      "17/17 [==============================] - 0s 9ms/step - loss: 0.0062\n",
      "Epoch 132/200\n",
      "17/17 [==============================] - 0s 9ms/step - loss: 0.0056\n",
      "Epoch 133/200\n",
      "17/17 [==============================] - 0s 9ms/step - loss: 0.0054\n",
      "Epoch 134/200\n",
      "17/17 [==============================] - 0s 9ms/step - loss: 0.0054\n",
      "Epoch 135/200\n",
      "17/17 [==============================] - 0s 9ms/step - loss: 0.0050\n",
      "Epoch 136/200\n",
      "17/17 [==============================] - 0s 9ms/step - loss: 0.0048\n",
      "Epoch 137/200\n",
      "17/17 [==============================] - 0s 9ms/step - loss: 0.0059\n",
      "Epoch 138/200\n",
      "17/17 [==============================] - 0s 10ms/step - loss: 0.0060\n",
      "Epoch 139/200\n",
      "17/17 [==============================] - 0s 9ms/step - loss: 0.0047\n",
      "Epoch 140/200\n",
      "17/17 [==============================] - 0s 9ms/step - loss: 0.0049\n",
      "Epoch 141/200\n",
      "17/17 [==============================] - 0s 10ms/step - loss: 0.0044\n",
      "Epoch 142/200\n",
      "17/17 [==============================] - 0s 9ms/step - loss: 0.0065\n",
      "Epoch 143/200\n",
      "17/17 [==============================] - 0s 9ms/step - loss: 0.0073\n",
      "Epoch 144/200\n",
      "17/17 [==============================] - 0s 11ms/step - loss: 0.0061\n",
      "Epoch 145/200\n",
      "17/17 [==============================] - 0s 11ms/step - loss: 0.0049\n",
      "Epoch 146/200\n",
      "17/17 [==============================] - 0s 9ms/step - loss: 0.0044\n",
      "Epoch 147/200\n",
      "17/17 [==============================] - 0s 9ms/step - loss: 0.0045\n",
      "Epoch 148/200\n",
      "17/17 [==============================] - 0s 9ms/step - loss: 0.0045\n",
      "Epoch 149/200\n",
      "17/17 [==============================] - 0s 9ms/step - loss: 0.0055\n",
      "Epoch 150/200\n",
      "17/17 [==============================] - 0s 11ms/step - loss: 0.0046\n",
      "Epoch 151/200\n",
      "17/17 [==============================] - 0s 9ms/step - loss: 0.0045\n",
      "Epoch 152/200\n",
      "17/17 [==============================] - 0s 9ms/step - loss: 0.0047\n",
      "Epoch 153/200\n",
      "17/17 [==============================] - 0s 9ms/step - loss: 0.0038\n",
      "Epoch 154/200\n",
      "17/17 [==============================] - 0s 9ms/step - loss: 0.0041\n",
      "Epoch 155/200\n",
      "17/17 [==============================] - 0s 9ms/step - loss: 0.0040\n",
      "Epoch 156/200\n",
      "17/17 [==============================] - 0s 10ms/step - loss: 0.0039\n",
      "Epoch 157/200\n",
      "17/17 [==============================] - 0s 9ms/step - loss: 0.0041\n",
      "Epoch 158/200\n",
      "17/17 [==============================] - 0s 9ms/step - loss: 0.0042\n",
      "Epoch 159/200\n",
      "17/17 [==============================] - 0s 9ms/step - loss: 0.0041\n",
      "Epoch 160/200\n",
      "17/17 [==============================] - 0s 9ms/step - loss: 0.0037\n",
      "Epoch 161/200\n",
      "17/17 [==============================] - 0s 9ms/step - loss: 0.0038\n",
      "Epoch 162/200\n",
      "17/17 [==============================] - 0s 10ms/step - loss: 0.0034\n",
      "Epoch 163/200\n",
      "17/17 [==============================] - 0s 11ms/step - loss: 0.0042\n",
      "Epoch 164/200\n",
      "17/17 [==============================] - 0s 9ms/step - loss: 0.0035\n",
      "Epoch 165/200\n",
      "17/17 [==============================] - 0s 9ms/step - loss: 0.0037\n",
      "Epoch 166/200\n",
      "17/17 [==============================] - 0s 9ms/step - loss: 0.0035\n",
      "Epoch 167/200\n",
      "17/17 [==============================] - 0s 9ms/step - loss: 0.0034\n",
      "Epoch 168/200\n",
      "17/17 [==============================] - 0s 10ms/step - loss: 0.0035\n",
      "Epoch 169/200\n",
      "17/17 [==============================] - 0s 9ms/step - loss: 0.0032\n",
      "Epoch 170/200\n",
      "17/17 [==============================] - 0s 9ms/step - loss: 0.0040\n",
      "Epoch 171/200\n",
      "17/17 [==============================] - 0s 9ms/step - loss: 0.0042\n",
      "Epoch 172/200\n",
      "17/17 [==============================] - 0s 10ms/step - loss: 0.0035\n",
      "Epoch 173/200\n",
      "17/17 [==============================] - 0s 9ms/step - loss: 0.0036\n",
      "Epoch 174/200\n",
      "17/17 [==============================] - 0s 10ms/step - loss: 0.0033\n",
      "Epoch 175/200\n",
      "17/17 [==============================] - 0s 9ms/step - loss: 0.0033\n",
      "Epoch 176/200\n",
      "17/17 [==============================] - 0s 9ms/step - loss: 0.0033\n",
      "Epoch 177/200\n",
      "17/17 [==============================] - 0s 9ms/step - loss: 0.0036\n",
      "Epoch 178/200\n",
      "17/17 [==============================] - 0s 9ms/step - loss: 0.0035\n",
      "Epoch 179/200\n",
      "17/17 [==============================] - 0s 10ms/step - loss: 0.0029\n",
      "Epoch 180/200\n",
      "17/17 [==============================] - 0s 9ms/step - loss: 0.0031\n",
      "Epoch 181/200\n",
      "17/17 [==============================] - 0s 10ms/step - loss: 0.0031\n",
      "Epoch 182/200\n",
      "17/17 [==============================] - 0s 9ms/step - loss: 0.0030\n",
      "Epoch 183/200\n",
      "17/17 [==============================] - 0s 9ms/step - loss: 0.0029\n",
      "Epoch 184/200\n",
      "17/17 [==============================] - 0s 9ms/step - loss: 0.0029\n",
      "Epoch 185/200\n",
      "17/17 [==============================] - 0s 9ms/step - loss: 0.0027\n",
      "Epoch 186/200\n",
      "17/17 [==============================] - 0s 9ms/step - loss: 0.0029\n",
      "Epoch 187/200\n",
      "17/17 [==============================] - 0s 9ms/step - loss: 0.0031\n",
      "Epoch 188/200\n",
      "17/17 [==============================] - 0s 9ms/step - loss: 0.0039\n",
      "Epoch 189/200\n",
      "17/17 [==============================] - 0s 9ms/step - loss: 0.0030\n",
      "Epoch 190/200\n",
      "17/17 [==============================] - 0s 9ms/step - loss: 0.0028\n",
      "Epoch 191/200\n",
      "17/17 [==============================] - 0s 9ms/step - loss: 0.0029\n",
      "Epoch 192/200\n",
      "17/17 [==============================] - 0s 9ms/step - loss: 0.0031\n",
      "Epoch 193/200\n",
      "17/17 [==============================] - 0s 10ms/step - loss: 0.0029\n",
      "Epoch 194/200\n",
      "17/17 [==============================] - 0s 9ms/step - loss: 0.0028\n",
      "Epoch 195/200\n",
      "17/17 [==============================] - 0s 9ms/step - loss: 0.0028\n",
      "Epoch 196/200\n",
      "17/17 [==============================] - 0s 9ms/step - loss: 0.0027\n",
      "Epoch 197/200\n",
      "17/17 [==============================] - 0s 9ms/step - loss: 0.0029\n",
      "Epoch 198/200\n",
      "17/17 [==============================] - 0s 9ms/step - loss: 0.0029\n",
      "Epoch 199/200\n",
      "17/17 [==============================] - 0s 9ms/step - loss: 0.0026\n",
      "Epoch 200/200\n",
      "17/17 [==============================] - 0s 9ms/step - loss: 0.0028\n"
     ]
    },
    {
     "data": {
      "text/plain": [
       "<keras.callbacks.callbacks.History at 0x7f3e099ab748>"
      ]
     },
     "execution_count": 82,
     "metadata": {
      "tags": []
     },
     "output_type": "execute_result"
    }
   ],
   "source": [
    "model.fit_generator(generator,epochs=200)"
   ]
  },
  {
   "cell_type": "markdown",
   "metadata": {
    "colab_type": "text",
    "id": "m59FKl4gPqXY"
   },
   "source": [
    "Plotting the loss"
   ]
  },
  {
   "cell_type": "code",
   "execution_count": 0,
   "metadata": {
    "colab": {
     "base_uri": "https://localhost:8080/",
     "height": 283
    },
    "colab_type": "code",
    "id": "DJhZNAo5fJY8",
    "outputId": "117a92ab-8a75-469f-ee55-18d269481dc3"
   },
   "outputs": [
    {
     "data": {
      "text/plain": [
       "[<matplotlib.lines.Line2D at 0x7f3dc3d6d940>]"
      ]
     },
     "execution_count": 83,
     "metadata": {
      "tags": []
     },
     "output_type": "execute_result"
    },
    {
     "data": {
      "image/png": "[encoded data removed]",
      "text/plain": [
       "<Figure size 432x288 with 1 Axes>"
      ]
     },
     "metadata": {
      "needs_background": "light",
      "tags": []
     },
     "output_type": "display_data"
    }
   ],
   "source": [
    "loss_per_epoch = model.history.history['loss']\n",
    "plt.plot(range(len(loss_per_epoch)),loss_per_epoch)"
   ]
  },
  {
   "cell_type": "code",
   "execution_count": 0,
   "metadata": {
    "colab": {},
    "colab_type": "code",
    "id": "1ouOQlkefXh5"
   },
   "outputs": [],
   "source": [
    "test_predictions = []\n",
    "\n",
    "first_eval_batch = scaled_train[-n_input:]\n",
    "current_batch = first_eval_batch.reshape((1, n_input, n_features))\n",
    "\n",
    "for i in range(len(test)):\n",
    "    \n",
    "    \n",
    "    current_pred = model.predict(current_batch)[0]\n",
    "    \n",
    "    \n",
    "    test_predictions.append(current_pred) \n",
    "    \n",
    "    \n",
    "    current_batch = np.append(current_batch[:,1:,:],[[current_pred]],axis=1)"
   ]
  },
  {
   "cell_type": "code",
   "execution_count": 0,
   "metadata": {
    "colab": {},
    "colab_type": "code",
    "id": "DsQvFwoufcjE"
   },
   "outputs": [],
   "source": [
    "true_predictions = scaler.inverse_transform(test_predictions)"
   ]
  },
  {
   "cell_type": "code",
   "execution_count": 0,
   "metadata": {
    "colab": {
     "base_uri": "https://localhost:8080/",
     "height": 184
    },
    "colab_type": "code",
    "id": "um4kGVDmfhaW",
    "outputId": "119fe71b-eaf5-45cf-b993-6824763d6d18"
   },
   "outputs": [
    {
     "name": "stderr",
     "output_type": "stream",
     "text": [
      "/usr/local/lib/python3.6/dist-packages/ipykernel_launcher.py:1: SettingWithCopyWarning:\n",
      "\n",
      "\n",
      "A value is trying to be set on a copy of a slice from a DataFrame.\n",
      "Try using .loc[row_indexer,col_indexer] = value instead\n",
      "\n",
      "See the caveats in the documentation: https://pandas.pydata.org/pandas-docs/stable/user_guide/indexing.html#returning-a-view-versus-a-copy\n",
      "\n"
     ]
    }
   ],
   "source": [
    "test['Predictions'] = true_predictions"
   ]
  },
  {
   "cell_type": "code",
   "execution_count": 0,
   "metadata": {
    "colab": {
     "base_uri": "https://localhost:8080/",
     "height": 526
    },
    "colab_type": "code",
    "id": "3PEab-6nfkFl",
    "outputId": "488f83ab-5a33-4757-809e-1d14949410fc"
   },
   "outputs": [
    {
     "data": {
      "text/plain": [
       "[<matplotlib.lines.Line2D at 0x7f3e07ff9f98>]"
      ]
     },
     "execution_count": 87,
     "metadata": {
      "tags": []
     },
     "output_type": "execute_result"
    },
    {
     "data": {
      "image/png": "[encoded data removed]",
      "text/plain": [
       "<Figure size 864x576 with 1 Axes>"
      ]
     },
     "metadata": {
      "needs_background": "light",
      "tags": []
     },
     "output_type": "display_data"
    }
   ],
   "source": [
    "test.plot(figsize=(12,8))\n",
    "plt.plot(true_predictions)"
   ]
  },
  {
   "cell_type": "code",
   "execution_count": 0,
   "metadata": {
    "colab": {
     "base_uri": "https://localhost:8080/",
     "height": 54
    },
    "colab_type": "code",
    "id": "So1l9cWsfpTE",
    "outputId": "a0455858-f154-4a33-bfcb-b0ebda5e4416"
   },
   "outputs": [
    {
     "name": "stdout",
     "output_type": "stream",
     "text": [
      "RMSE =  16.370820649533652\n",
      "India_AQI= 188.32307331319683\n"
     ]
    }
   ],
   "source": [
    "RMSE=np.sqrt(mean_squared_error(test['y'],test['Predictions']))\n",
    "print('RMSE = ',RMSE)\n",
    "print('India_AQI=',India_AQI['y'].mean())"
   ]
  },
  {
   "cell_type": "markdown",
   "metadata": {
    "colab_type": "text",
    "id": "Zz3qMH9MTaMC"
   },
   "source": [
    "Forecasting with RNN"
   ]
  },
  {
   "cell_type": "code",
   "execution_count": 0,
   "metadata": {
    "colab": {},
    "colab_type": "code",
    "id": "Qs2Ft97ffvCv"
   },
   "outputs": [],
   "source": [
    "scaler.fit(India_AQI)\n",
    "scaled_India_AQI=scaler.transform(India_AQI)"
   ]
  },
  {
   "cell_type": "code",
   "execution_count": 0,
   "metadata": {
    "colab": {},
    "colab_type": "code",
    "id": "GdurmQamf0Fs"
   },
   "outputs": [],
   "source": [
    "generator = TimeseriesGenerator(scaled_India_AQI, scaled_India_AQI, length=n_input, batch_size=1)"
   ]
  },
  {
   "cell_type": "code",
   "execution_count": 0,
   "metadata": {
    "colab": {
     "base_uri": "https://localhost:8080/",
     "height": 1000
    },
    "colab_type": "code",
    "id": "_nO8IBz8f4fc",
    "outputId": "d58a75b4-df3d-4035-f956-db7a3ff45d77"
   },
   "outputs": [
    {
     "name": "stdout",
     "output_type": "stream",
     "text": [
      "Epoch 1/250\n",
      "41/41 [==============================] - 0s 10ms/step - loss: 0.0101\n",
      "Epoch 2/250\n",
      "41/41 [==============================] - 0s 9ms/step - loss: 0.0068\n",
      "Epoch 3/250\n",
      "41/41 [==============================] - 0s 10ms/step - loss: 0.0089\n",
      "Epoch 4/250\n",
      "41/41 [==============================] - 0s 9ms/step - loss: 0.0058\n",
      "Epoch 5/250\n",
      "41/41 [==============================] - 0s 9ms/step - loss: 0.0061\n",
      "Epoch 6/250\n",
      "41/41 [==============================] - 0s 10ms/step - loss: 0.0061\n",
      "Epoch 7/250\n",
      "41/41 [==============================] - 0s 10ms/step - loss: 0.0054\n",
      "Epoch 8/250\n",
      "41/41 [==============================] - 0s 9ms/step - loss: 0.0051\n",
      "Epoch 9/250\n",
      "41/41 [==============================] - 0s 9ms/step - loss: 0.0049\n",
      "Epoch 10/250\n",
      "41/41 [==============================] - 0s 9ms/step - loss: 0.0055\n",
      "Epoch 11/250\n",
      "41/41 [==============================] - 0s 9ms/step - loss: 0.0044\n",
      "Epoch 12/250\n",
      "41/41 [==============================] - 0s 9ms/step - loss: 0.0041\n",
      "Epoch 13/250\n",
      "41/41 [==============================] - 0s 10ms/step - loss: 0.0053\n",
      "Epoch 14/250\n",
      "41/41 [==============================] - 0s 9ms/step - loss: 0.0043\n",
      "Epoch 15/250\n",
      "41/41 [==============================] - 0s 9ms/step - loss: 0.0037\n",
      "Epoch 16/250\n",
      "41/41 [==============================] - 0s 9ms/step - loss: 0.0050\n",
      "Epoch 17/250\n",
      "41/41 [==============================] - 0s 9ms/step - loss: 0.0048\n",
      "Epoch 18/250\n",
      "41/41 [==============================] - 0s 9ms/step - loss: 0.0045\n",
      "Epoch 19/250\n",
      "41/41 [==============================] - 0s 9ms/step - loss: 0.0043\n",
      "Epoch 20/250\n",
      "41/41 [==============================] - 0s 10ms/step - loss: 0.0040\n",
      "Epoch 21/250\n",
      "41/41 [==============================] - 0s 9ms/step - loss: 0.0036\n",
      "Epoch 22/250\n",
      "41/41 [==============================] - 0s 9ms/step - loss: 0.0034\n",
      "Epoch 23/250\n",
      "41/41 [==============================] - 0s 10ms/step - loss: 0.0040\n",
      "Epoch 24/250\n",
      "41/41 [==============================] - 0s 10ms/step - loss: 0.0037\n",
      "Epoch 25/250\n",
      "41/41 [==============================] - 0s 9ms/step - loss: 0.0037\n",
      "Epoch 26/250\n",
      "41/41 [==============================] - 0s 9ms/step - loss: 0.0034\n",
      "Epoch 27/250\n",
      "41/41 [==============================] - 0s 9ms/step - loss: 0.0043\n",
      "Epoch 28/250\n",
      "41/41 [==============================] - 0s 9ms/step - loss: 0.0039\n",
      "Epoch 29/250\n",
      "41/41 [==============================] - 0s 9ms/step - loss: 0.0036\n",
      "Epoch 30/250\n",
      "41/41 [==============================] - 0s 9ms/step - loss: 0.0038\n",
      "Epoch 31/250\n",
      "41/41 [==============================] - 0s 9ms/step - loss: 0.0036\n",
      "Epoch 32/250\n",
      "41/41 [==============================] - 0s 9ms/step - loss: 0.0035\n",
      "Epoch 33/250\n",
      "41/41 [==============================] - 0s 10ms/step - loss: 0.0034\n",
      "Epoch 34/250\n",
      "41/41 [==============================] - 0s 9ms/step - loss: 0.0036\n",
      "Epoch 35/250\n",
      "41/41 [==============================] - 0s 9ms/step - loss: 0.0037\n",
      "Epoch 36/250\n",
      "41/41 [==============================] - 0s 9ms/step - loss: 0.0029\n",
      "Epoch 37/250\n",
      "41/41 [==============================] - 0s 9ms/step - loss: 0.0033\n",
      "Epoch 38/250\n",
      "41/41 [==============================] - 0s 10ms/step - loss: 0.0038\n",
      "Epoch 39/250\n",
      "41/41 [==============================] - 0s 10ms/step - loss: 0.0033\n",
      "Epoch 40/250\n",
      "41/41 [==============================] - 0s 10ms/step - loss: 0.0040\n",
      "Epoch 41/250\n",
      "41/41 [==============================] - 0s 10ms/step - loss: 0.0035\n",
      "Epoch 42/250\n",
      "41/41 [==============================] - 0s 9ms/step - loss: 0.0028\n",
      "Epoch 43/250\n",
      "41/41 [==============================] - 0s 9ms/step - loss: 0.0030\n",
      "Epoch 44/250\n",
      "41/41 [==============================] - 0s 9ms/step - loss: 0.0028\n",
      "Epoch 45/250\n",
      "41/41 [==============================] - 0s 10ms/step - loss: 0.0026\n",
      "Epoch 46/250\n",
      "41/41 [==============================] - 0s 9ms/step - loss: 0.0032\n",
      "Epoch 47/250\n",
      "41/41 [==============================] - 0s 9ms/step - loss: 0.0038\n",
      "Epoch 48/250\n",
      "41/41 [==============================] - 0s 9ms/step - loss: 0.0028\n",
      "Epoch 49/250\n",
      "41/41 [==============================] - 0s 9ms/step - loss: 0.0024\n",
      "Epoch 50/250\n",
      "41/41 [==============================] - 0s 9ms/step - loss: 0.0029\n",
      "Epoch 51/250\n",
      "41/41 [==============================] - 0s 10ms/step - loss: 0.0031\n",
      "Epoch 52/250\n",
      "41/41 [==============================] - 0s 9ms/step - loss: 0.0034\n",
      "Epoch 53/250\n",
      "41/41 [==============================] - 0s 10ms/step - loss: 0.0031\n",
      "Epoch 54/250\n",
      "41/41 [==============================] - 0s 9ms/step - loss: 0.0028\n",
      "Epoch 55/250\n",
      "41/41 [==============================] - 0s 9ms/step - loss: 0.0023\n",
      "Epoch 56/250\n",
      "41/41 [==============================] - 0s 10ms/step - loss: 0.0032\n",
      "Epoch 57/250\n",
      "41/41 [==============================] - 0s 9ms/step - loss: 0.0026\n",
      "Epoch 58/250\n",
      "41/41 [==============================] - 0s 11ms/step - loss: 0.0024\n",
      "Epoch 59/250\n",
      "41/41 [==============================] - 0s 9ms/step - loss: 0.0020\n",
      "Epoch 60/250\n",
      "41/41 [==============================] - 0s 10ms/step - loss: 0.0036\n",
      "Epoch 61/250\n",
      "41/41 [==============================] - 0s 10ms/step - loss: 0.0033\n",
      "Epoch 62/250\n",
      "41/41 [==============================] - 0s 10ms/step - loss: 0.0022\n",
      "Epoch 63/250\n",
      "41/41 [==============================] - 0s 10ms/step - loss: 0.0024\n",
      "Epoch 64/250\n",
      "41/41 [==============================] - 0s 10ms/step - loss: 0.0024\n",
      "Epoch 65/250\n",
      "41/41 [==============================] - 0s 10ms/step - loss: 0.0022\n",
      "Epoch 66/250\n",
      "41/41 [==============================] - 0s 10ms/step - loss: 0.0020\n",
      "Epoch 67/250\n",
      "41/41 [==============================] - 0s 9ms/step - loss: 0.0031\n",
      "Epoch 68/250\n",
      "41/41 [==============================] - 0s 10ms/step - loss: 0.0026\n",
      "Epoch 69/250\n",
      "41/41 [==============================] - 0s 9ms/step - loss: 0.0032\n",
      "Epoch 70/250\n",
      "41/41 [==============================] - 0s 9ms/step - loss: 0.0023\n",
      "Epoch 71/250\n",
      "41/41 [==============================] - 0s 9ms/step - loss: 0.0024\n",
      "Epoch 72/250\n",
      "41/41 [==============================] - 0s 9ms/step - loss: 0.0026\n",
      "Epoch 73/250\n",
      "41/41 [==============================] - 0s 9ms/step - loss: 0.0029\n",
      "Epoch 74/250\n",
      "41/41 [==============================] - 0s 9ms/step - loss: 0.0027\n",
      "Epoch 75/250\n",
      "41/41 [==============================] - 0s 10ms/step - loss: 0.0026\n",
      "Epoch 76/250\n",
      "41/41 [==============================] - 0s 10ms/step - loss: 0.0019\n",
      "Epoch 77/250\n",
      "41/41 [==============================] - 0s 12ms/step - loss: 0.0032\n",
      "Epoch 78/250\n",
      "41/41 [==============================] - 0s 9ms/step - loss: 0.0020\n",
      "Epoch 79/250\n",
      "41/41 [==============================] - 0s 9ms/step - loss: 0.0018\n",
      "Epoch 80/250\n",
      "41/41 [==============================] - 0s 10ms/step - loss: 0.0022\n",
      "Epoch 81/250\n",
      "41/41 [==============================] - 0s 9ms/step - loss: 0.0020\n",
      "Epoch 82/250\n",
      "41/41 [==============================] - 0s 11ms/step - loss: 0.0020\n",
      "Epoch 83/250\n",
      "41/41 [==============================] - 0s 9ms/step - loss: 0.0018\n",
      "Epoch 84/250\n",
      "41/41 [==============================] - 0s 9ms/step - loss: 0.0030\n",
      "Epoch 85/250\n",
      "41/41 [==============================] - 0s 10ms/step - loss: 0.0018\n",
      "Epoch 86/250\n",
      "41/41 [==============================] - 0s 9ms/step - loss: 0.0017\n",
      "Epoch 87/250\n",
      "41/41 [==============================] - 0s 9ms/step - loss: 0.0025\n",
      "Epoch 88/250\n",
      "41/41 [==============================] - 0s 9ms/step - loss: 0.0023\n",
      "Epoch 89/250\n",
      "41/41 [==============================] - 0s 10ms/step - loss: 0.0022\n",
      "Epoch 90/250\n",
      "41/41 [==============================] - 0s 10ms/step - loss: 0.0024\n",
      "Epoch 91/250\n",
      "41/41 [==============================] - 0s 9ms/step - loss: 0.0030\n",
      "Epoch 92/250\n",
      "41/41 [==============================] - 0s 9ms/step - loss: 0.0032\n",
      "Epoch 93/250\n",
      "41/41 [==============================] - 0s 9ms/step - loss: 0.0023\n",
      "Epoch 94/250\n",
      "41/41 [==============================] - 0s 9ms/step - loss: 0.0021\n",
      "Epoch 95/250\n",
      "41/41 [==============================] - 0s 10ms/step - loss: 0.0018\n",
      "Epoch 96/250\n",
      "41/41 [==============================] - 0s 9ms/step - loss: 0.0021\n",
      "Epoch 97/250\n",
      "41/41 [==============================] - 0s 9ms/step - loss: 0.0020\n",
      "Epoch 98/250\n",
      "41/41 [==============================] - 0s 9ms/step - loss: 0.0017\n",
      "Epoch 99/250\n",
      "41/41 [==============================] - 0s 9ms/step - loss: 0.0019\n",
      "Epoch 100/250\n",
      "41/41 [==============================] - 0s 10ms/step - loss: 0.0022\n",
      "Epoch 101/250\n",
      "41/41 [==============================] - 0s 9ms/step - loss: 0.0027\n",
      "Epoch 102/250\n",
      "41/41 [==============================] - 0s 9ms/step - loss: 0.0036\n",
      "Epoch 103/250\n",
      "41/41 [==============================] - 0s 10ms/step - loss: 0.0020\n",
      "Epoch 104/250\n",
      "41/41 [==============================] - 0s 10ms/step - loss: 0.0020\n",
      "Epoch 105/250\n",
      "41/41 [==============================] - 0s 10ms/step - loss: 0.0027\n",
      "Epoch 106/250\n",
      "41/41 [==============================] - 0s 10ms/step - loss: 0.0034\n",
      "Epoch 107/250\n",
      "41/41 [==============================] - 0s 9ms/step - loss: 0.0022\n",
      "Epoch 108/250\n",
      "41/41 [==============================] - 0s 9ms/step - loss: 0.0017\n",
      "Epoch 109/250\n",
      "41/41 [==============================] - 0s 9ms/step - loss: 0.0020\n",
      "Epoch 110/250\n",
      "41/41 [==============================] - 0s 10ms/step - loss: 0.0020\n",
      "Epoch 111/250\n",
      "41/41 [==============================] - 0s 10ms/step - loss: 0.0017\n",
      "Epoch 112/250\n",
      "41/41 [==============================] - 0s 10ms/step - loss: 0.0019\n",
      "Epoch 113/250\n",
      "41/41 [==============================] - 0s 10ms/step - loss: 0.0027\n",
      "Epoch 114/250\n",
      "41/41 [==============================] - 0s 10ms/step - loss: 0.0022\n",
      "Epoch 115/250\n",
      "41/41 [==============================] - 0s 10ms/step - loss: 0.0046\n",
      "Epoch 116/250\n",
      "41/41 [==============================] - 0s 10ms/step - loss: 0.0027\n",
      "Epoch 117/250\n",
      "41/41 [==============================] - 0s 10ms/step - loss: 0.0018\n",
      "Epoch 118/250\n",
      "41/41 [==============================] - 0s 10ms/step - loss: 0.0021\n",
      "Epoch 119/250\n",
      "41/41 [==============================] - 0s 9ms/step - loss: 0.0018\n",
      "Epoch 120/250\n",
      "41/41 [==============================] - 0s 10ms/step - loss: 0.0017\n",
      "Epoch 121/250\n",
      "41/41 [==============================] - 0s 10ms/step - loss: 0.0019\n",
      "Epoch 122/250\n",
      "41/41 [==============================] - 0s 10ms/step - loss: 0.0015\n",
      "Epoch 123/250\n",
      "41/41 [==============================] - 0s 9ms/step - loss: 0.0014\n",
      "Epoch 124/250\n",
      "41/41 [==============================] - 0s 9ms/step - loss: 0.0018\n",
      "Epoch 125/250\n",
      "41/41 [==============================] - 0s 10ms/step - loss: 0.0015\n",
      "Epoch 126/250\n",
      "41/41 [==============================] - 0s 9ms/step - loss: 0.0026\n",
      "Epoch 127/250\n",
      "41/41 [==============================] - 0s 9ms/step - loss: 0.0028\n",
      "Epoch 128/250\n",
      "41/41 [==============================] - 0s 11ms/step - loss: 0.0025\n",
      "Epoch 129/250\n",
      "41/41 [==============================] - 0s 10ms/step - loss: 0.0024\n",
      "Epoch 130/250\n",
      "41/41 [==============================] - 0s 10ms/step - loss: 0.0020\n",
      "Epoch 131/250\n",
      "41/41 [==============================] - 0s 9ms/step - loss: 0.0022\n",
      "Epoch 132/250\n",
      "41/41 [==============================] - 0s 10ms/step - loss: 0.0019\n",
      "Epoch 133/250\n",
      "41/41 [==============================] - 0s 10ms/step - loss: 0.0015\n",
      "Epoch 134/250\n",
      "41/41 [==============================] - 0s 9ms/step - loss: 0.0015\n",
      "Epoch 135/250\n",
      "41/41 [==============================] - 0s 10ms/step - loss: 0.0019\n",
      "Epoch 136/250\n",
      "41/41 [==============================] - 0s 10ms/step - loss: 0.0024\n",
      "Epoch 137/250\n",
      "41/41 [==============================] - 0s 10ms/step - loss: 0.0016\n",
      "Epoch 138/250\n",
      "41/41 [==============================] - 0s 10ms/step - loss: 0.0016\n",
      "Epoch 139/250\n",
      "41/41 [==============================] - 0s 10ms/step - loss: 0.0020\n",
      "Epoch 140/250\n",
      "41/41 [==============================] - 0s 10ms/step - loss: 0.0022\n",
      "Epoch 141/250\n",
      "41/41 [==============================] - 0s 10ms/step - loss: 0.0023\n",
      "Epoch 142/250\n",
      "41/41 [==============================] - 0s 10ms/step - loss: 0.0016\n",
      "Epoch 143/250\n",
      "41/41 [==============================] - 0s 9ms/step - loss: 0.0018\n",
      "Epoch 144/250\n",
      "41/41 [==============================] - 0s 9ms/step - loss: 0.0016\n",
      "Epoch 145/250\n",
      "41/41 [==============================] - 0s 10ms/step - loss: 0.0014\n",
      "Epoch 146/250\n",
      "41/41 [==============================] - 0s 9ms/step - loss: 0.0019\n",
      "Epoch 147/250\n",
      "41/41 [==============================] - 0s 9ms/step - loss: 0.0020\n",
      "Epoch 148/250\n",
      "41/41 [==============================] - 0s 9ms/step - loss: 0.0015\n",
      "Epoch 149/250\n",
      "41/41 [==============================] - 0s 9ms/step - loss: 0.0015\n",
      "Epoch 150/250\n",
      "41/41 [==============================] - 0s 9ms/step - loss: 0.0016\n",
      "Epoch 151/250\n",
      "41/41 [==============================] - 0s 9ms/step - loss: 0.0019\n",
      "Epoch 152/250\n",
      "41/41 [==============================] - 0s 9ms/step - loss: 0.0014\n",
      "Epoch 153/250\n",
      "41/41 [==============================] - 0s 10ms/step - loss: 0.0015\n",
      "Epoch 154/250\n",
      "41/41 [==============================] - 0s 10ms/step - loss: 0.0017\n",
      "Epoch 155/250\n",
      "41/41 [==============================] - 0s 9ms/step - loss: 0.0013\n",
      "Epoch 156/250\n",
      "41/41 [==============================] - 0s 9ms/step - loss: 0.0014\n",
      "Epoch 157/250\n",
      "41/41 [==============================] - 0s 10ms/step - loss: 0.0013\n",
      "Epoch 158/250\n",
      "41/41 [==============================] - 0s 9ms/step - loss: 0.0016\n",
      "Epoch 159/250\n",
      "41/41 [==============================] - 0s 9ms/step - loss: 0.0014\n",
      "Epoch 160/250\n",
      "41/41 [==============================] - 0s 9ms/step - loss: 0.0014\n",
      "Epoch 161/250\n",
      "41/41 [==============================] - 0s 9ms/step - loss: 0.0016\n",
      "Epoch 162/250\n",
      "41/41 [==============================] - 0s 9ms/step - loss: 0.0013\n",
      "Epoch 163/250\n",
      "41/41 [==============================] - 0s 9ms/step - loss: 0.0013\n",
      "Epoch 164/250\n",
      "41/41 [==============================] - 0s 9ms/step - loss: 0.0014\n",
      "Epoch 165/250\n",
      "41/41 [==============================] - 0s 9ms/step - loss: 0.0018\n",
      "Epoch 166/250\n",
      "41/41 [==============================] - 0s 9ms/step - loss: 0.0017\n",
      "Epoch 167/250\n",
      "41/41 [==============================] - 0s 9ms/step - loss: 0.0019\n",
      "Epoch 168/250\n",
      "41/41 [==============================] - 0s 10ms/step - loss: 0.0018\n",
      "Epoch 169/250\n",
      "41/41 [==============================] - 0s 10ms/step - loss: 0.0018\n",
      "Epoch 170/250\n",
      "41/41 [==============================] - 0s 10ms/step - loss: 0.0018\n",
      "Epoch 171/250\n",
      "41/41 [==============================] - 0s 10ms/step - loss: 0.0024\n",
      "Epoch 172/250\n",
      "41/41 [==============================] - 0s 10ms/step - loss: 0.0015\n",
      "Epoch 173/250\n",
      "41/41 [==============================] - 0s 11ms/step - loss: 0.0019\n",
      "Epoch 174/250\n",
      "41/41 [==============================] - 0s 11ms/step - loss: 0.0014\n",
      "Epoch 175/250\n",
      "41/41 [==============================] - 0s 11ms/step - loss: 0.0021\n",
      "Epoch 176/250\n",
      "41/41 [==============================] - 0s 10ms/step - loss: 0.0022\n",
      "Epoch 177/250\n",
      "41/41 [==============================] - 0s 9ms/step - loss: 0.0014\n",
      "Epoch 178/250\n",
      "41/41 [==============================] - 0s 10ms/step - loss: 0.0014\n",
      "Epoch 179/250\n",
      "41/41 [==============================] - 0s 10ms/step - loss: 0.0017\n",
      "Epoch 180/250\n",
      "41/41 [==============================] - 0s 10ms/step - loss: 0.0014\n",
      "Epoch 181/250\n",
      "41/41 [==============================] - 0s 10ms/step - loss: 0.0012\n",
      "Epoch 182/250\n",
      "41/41 [==============================] - 0s 10ms/step - loss: 9.7425e-04\n",
      "Epoch 183/250\n",
      "41/41 [==============================] - 0s 10ms/step - loss: 9.8922e-04\n",
      "Epoch 184/250\n",
      "41/41 [==============================] - 0s 10ms/step - loss: 0.0013\n",
      "Epoch 185/250\n",
      "41/41 [==============================] - 0s 9ms/step - loss: 0.0015\n",
      "Epoch 186/250\n",
      "41/41 [==============================] - 0s 9ms/step - loss: 0.0011\n",
      "Epoch 187/250\n",
      "41/41 [==============================] - 0s 10ms/step - loss: 0.0013\n",
      "Epoch 188/250\n",
      "41/41 [==============================] - 0s 9ms/step - loss: 0.0018\n",
      "Epoch 189/250\n",
      "41/41 [==============================] - 0s 9ms/step - loss: 0.0013\n",
      "Epoch 190/250\n",
      "41/41 [==============================] - 0s 9ms/step - loss: 0.0016\n",
      "Epoch 191/250\n",
      "41/41 [==============================] - 0s 9ms/step - loss: 0.0027\n",
      "Epoch 192/250\n",
      "41/41 [==============================] - 0s 10ms/step - loss: 0.0029\n",
      "Epoch 193/250\n",
      "41/41 [==============================] - 0s 9ms/step - loss: 0.0017\n",
      "Epoch 194/250\n",
      "41/41 [==============================] - 0s 9ms/step - loss: 0.0019\n",
      "Epoch 195/250\n",
      "41/41 [==============================] - 0s 9ms/step - loss: 0.0014\n",
      "Epoch 196/250\n",
      "41/41 [==============================] - 0s 9ms/step - loss: 0.0012\n",
      "Epoch 197/250\n",
      "41/41 [==============================] - 0s 10ms/step - loss: 0.0012\n",
      "Epoch 198/250\n",
      "41/41 [==============================] - 0s 9ms/step - loss: 0.0013\n",
      "Epoch 199/250\n",
      "41/41 [==============================] - 0s 9ms/step - loss: 0.0012\n",
      "Epoch 200/250\n",
      "41/41 [==============================] - 0s 9ms/step - loss: 9.3997e-04\n",
      "Epoch 201/250\n",
      "41/41 [==============================] - 0s 9ms/step - loss: 0.0013\n",
      "Epoch 202/250\n",
      "41/41 [==============================] - 0s 9ms/step - loss: 0.0014\n",
      "Epoch 203/250\n",
      "41/41 [==============================] - 0s 10ms/step - loss: 0.0010\n",
      "Epoch 204/250\n",
      "41/41 [==============================] - 0s 9ms/step - loss: 0.0013\n",
      "Epoch 205/250\n",
      "41/41 [==============================] - 0s 9ms/step - loss: 0.0012\n",
      "Epoch 206/250\n",
      "41/41 [==============================] - 0s 10ms/step - loss: 0.0011\n",
      "Epoch 207/250\n",
      "41/41 [==============================] - 0s 12ms/step - loss: 0.0013\n",
      "Epoch 208/250\n",
      "41/41 [==============================] - 0s 9ms/step - loss: 7.9231e-04\n",
      "Epoch 209/250\n",
      "41/41 [==============================] - 0s 9ms/step - loss: 0.0010\n",
      "Epoch 210/250\n",
      "41/41 [==============================] - 0s 9ms/step - loss: 0.0013\n",
      "Epoch 211/250\n",
      "41/41 [==============================] - 0s 9ms/step - loss: 0.0011\n",
      "Epoch 212/250\n",
      "41/41 [==============================] - 0s 9ms/step - loss: 8.9340e-04\n",
      "Epoch 213/250\n",
      "41/41 [==============================] - 0s 9ms/step - loss: 8.7898e-04\n",
      "Epoch 214/250\n",
      "41/41 [==============================] - 0s 9ms/step - loss: 0.0011\n",
      "Epoch 215/250\n",
      "41/41 [==============================] - 0s 10ms/step - loss: 0.0015\n",
      "Epoch 216/250\n",
      "41/41 [==============================] - 0s 9ms/step - loss: 0.0020\n",
      "Epoch 217/250\n",
      "41/41 [==============================] - 0s 9ms/step - loss: 0.0011\n",
      "Epoch 218/250\n",
      "41/41 [==============================] - 0s 10ms/step - loss: 9.5778e-04\n",
      "Epoch 219/250\n",
      "41/41 [==============================] - 0s 10ms/step - loss: 9.9920e-04\n",
      "Epoch 220/250\n",
      "41/41 [==============================] - 0s 10ms/step - loss: 0.0024\n",
      "Epoch 221/250\n",
      "41/41 [==============================] - 0s 9ms/step - loss: 0.0025\n",
      "Epoch 222/250\n",
      "41/41 [==============================] - 0s 9ms/step - loss: 0.0021\n",
      "Epoch 223/250\n",
      "41/41 [==============================] - 0s 9ms/step - loss: 0.0011\n",
      "Epoch 224/250\n",
      "41/41 [==============================] - 0s 9ms/step - loss: 9.6351e-04\n",
      "Epoch 225/250\n",
      "41/41 [==============================] - 0s 9ms/step - loss: 0.0014\n",
      "Epoch 226/250\n",
      "41/41 [==============================] - 0s 10ms/step - loss: 8.5748e-04\n",
      "Epoch 227/250\n",
      "41/41 [==============================] - 0s 9ms/step - loss: 0.0019\n",
      "Epoch 228/250\n",
      "41/41 [==============================] - 0s 9ms/step - loss: 0.0012\n",
      "Epoch 229/250\n",
      "41/41 [==============================] - 0s 9ms/step - loss: 0.0017\n",
      "Epoch 230/250\n",
      "41/41 [==============================] - 0s 9ms/step - loss: 0.0013\n",
      "Epoch 231/250\n",
      "41/41 [==============================] - 0s 9ms/step - loss: 8.0580e-04\n",
      "Epoch 232/250\n",
      "41/41 [==============================] - 0s 9ms/step - loss: 0.0011\n",
      "Epoch 233/250\n",
      "41/41 [==============================] - 0s 10ms/step - loss: 0.0016\n",
      "Epoch 234/250\n",
      "41/41 [==============================] - 0s 9ms/step - loss: 0.0016\n",
      "Epoch 235/250\n",
      "41/41 [==============================] - 0s 9ms/step - loss: 0.0011\n",
      "Epoch 236/250\n",
      "41/41 [==============================] - 0s 10ms/step - loss: 0.0010\n",
      "Epoch 237/250\n",
      "41/41 [==============================] - 0s 10ms/step - loss: 9.4463e-04\n",
      "Epoch 238/250\n",
      "41/41 [==============================] - 0s 9ms/step - loss: 0.0011\n",
      "Epoch 239/250\n",
      "41/41 [==============================] - 0s 9ms/step - loss: 0.0013\n",
      "Epoch 240/250\n",
      "41/41 [==============================] - 0s 9ms/step - loss: 9.4636e-04\n",
      "Epoch 241/250\n",
      "41/41 [==============================] - 0s 10ms/step - loss: 9.8006e-04\n",
      "Epoch 242/250\n",
      "41/41 [==============================] - 0s 9ms/step - loss: 7.8797e-04\n",
      "Epoch 243/250\n",
      "41/41 [==============================] - 0s 9ms/step - loss: 9.6213e-04\n",
      "Epoch 244/250\n",
      "41/41 [==============================] - 0s 9ms/step - loss: 8.6911e-04\n",
      "Epoch 245/250\n",
      "41/41 [==============================] - 0s 9ms/step - loss: 0.0011\n",
      "Epoch 246/250\n",
      "41/41 [==============================] - 0s 10ms/step - loss: 8.4344e-04\n",
      "Epoch 247/250\n",
      "41/41 [==============================] - 0s 9ms/step - loss: 7.5510e-04\n",
      "Epoch 248/250\n",
      "41/41 [==============================] - 0s 10ms/step - loss: 0.0025\n",
      "Epoch 249/250\n",
      "41/41 [==============================] - 0s 10ms/step - loss: 9.5678e-04\n",
      "Epoch 250/250\n",
      "41/41 [==============================] - 0s 9ms/step - loss: 0.0018\n"
     ]
    },
    {
     "data": {
      "text/plain": [
       "<keras.callbacks.callbacks.History at 0x7f3dc3da7080>"
      ]
     },
     "execution_count": 91,
     "metadata": {
      "tags": []
     },
     "output_type": "execute_result"
    }
   ],
   "source": [
    "model.fit_generator(generator,epochs=250)"
   ]
  },
  {
   "cell_type": "code",
   "execution_count": 0,
   "metadata": {
    "colab": {},
    "colab_type": "code",
    "id": "zgntnsyhf7p2"
   },
   "outputs": [],
   "source": [
    "test_predictions = []\n",
    "\n",
    "first_eval_batch = scaled_India_AQI[-n_input:]\n",
    "current_batch = first_eval_batch.reshape((1, n_input, n_features))\n",
    "\n",
    "for i in range(len(test)):\n",
    "    \n",
    "    \n",
    "    current_pred = model.predict(current_batch)[0]\n",
    "    \n",
    "    \n",
    "    test_predictions.append(current_pred) \n",
    "    \n",
    "    \n",
    "    current_batch = np.append(current_batch[:,1:,:],[[current_pred]],axis=1)"
   ]
  },
  {
   "cell_type": "code",
   "execution_count": 0,
   "metadata": {
    "colab": {},
    "colab_type": "code",
    "id": "gpa1J6mSgdfv"
   },
   "outputs": [],
   "source": [
    "true_predictions = scaler.inverse_transform(test_predictions)"
   ]
  },
  {
   "cell_type": "code",
   "execution_count": 0,
   "metadata": {
    "colab": {},
    "colab_type": "code",
    "id": "At3bcZc2gjiy"
   },
   "outputs": [],
   "source": [
    "true_predictions=true_predictions.flatten()"
   ]
  },
  {
   "cell_type": "code",
   "execution_count": 0,
   "metadata": {
    "colab": {},
    "colab_type": "code",
    "id": "022kiJ_UglgG"
   },
   "outputs": [],
   "source": [
    "true_preds=pd.DataFrame(true_predictions,columns=['Forecast'])\n",
    "true_preds=true_preds.set_index(pd.date_range('2020-06-01',periods=12,freq='MS'))"
   ]
  },
  {
   "cell_type": "code",
   "execution_count": 0,
   "metadata": {
    "colab": {
     "base_uri": "https://localhost:8080/",
     "height": 426
    },
    "colab_type": "code",
    "id": "nBH5F7B2gnIL",
    "outputId": "ace7fa15-0973-4707-a62d-61450600514c"
   },
   "outputs": [
    {
     "data": {
      "text/html": [
       "<div>\n",
       "<style scoped>\n",
       "    .dataframe tbody tr th:only-of-type {\n",
       "        vertical-align: middle;\n",
       "    }\n",
       "\n",
       "    .dataframe tbody tr th {\n",
       "        vertical-align: top;\n",
       "    }\n",
       "\n",
       "    .dataframe thead th {\n",
       "        text-align: right;\n",
       "    }\n",
       "</style>\n",
       "<table border=\"1\" class=\"dataframe\">\n",
       "  <thead>\n",
       "    <tr style=\"text-align: right;\">\n",
       "      <th></th>\n",
       "      <th>Forecast</th>\n",
       "    </tr>\n",
       "  </thead>\n",
       "  <tbody>\n",
       "    <tr>\n",
       "      <th>2020-06-01</th>\n",
       "      <td>80.423996</td>\n",
       "    </tr>\n",
       "    <tr>\n",
       "      <th>2020-07-01</th>\n",
       "      <td>77.103314</td>\n",
       "    </tr>\n",
       "    <tr>\n",
       "      <th>2020-08-01</th>\n",
       "      <td>74.019906</td>\n",
       "    </tr>\n",
       "    <tr>\n",
       "      <th>2020-09-01</th>\n",
       "      <td>67.555448</td>\n",
       "    </tr>\n",
       "    <tr>\n",
       "      <th>2020-10-01</th>\n",
       "      <td>62.487108</td>\n",
       "    </tr>\n",
       "    <tr>\n",
       "      <th>2020-11-01</th>\n",
       "      <td>82.894801</td>\n",
       "    </tr>\n",
       "    <tr>\n",
       "      <th>2020-12-01</th>\n",
       "      <td>63.007698</td>\n",
       "    </tr>\n",
       "    <tr>\n",
       "      <th>2021-01-01</th>\n",
       "      <td>48.415523</td>\n",
       "    </tr>\n",
       "    <tr>\n",
       "      <th>2021-02-01</th>\n",
       "      <td>10.436885</td>\n",
       "    </tr>\n",
       "    <tr>\n",
       "      <th>2021-03-01</th>\n",
       "      <td>-10.493219</td>\n",
       "    </tr>\n",
       "    <tr>\n",
       "      <th>2021-04-01</th>\n",
       "      <td>-34.024754</td>\n",
       "    </tr>\n",
       "    <tr>\n",
       "      <th>2021-05-01</th>\n",
       "      <td>-64.839335</td>\n",
       "    </tr>\n",
       "  </tbody>\n",
       "</table>\n",
       "</div>"
      ],
      "text/plain": [
       "             Forecast\n",
       "2020-06-01  80.423996\n",
       "2020-07-01  77.103314\n",
       "2020-08-01  74.019906\n",
       "2020-09-01  67.555448\n",
       "2020-10-01  62.487108\n",
       "2020-11-01  82.894801\n",
       "2020-12-01  63.007698\n",
       "2021-01-01  48.415523\n",
       "2021-02-01  10.436885\n",
       "2021-03-01 -10.493219\n",
       "2021-04-01 -34.024754\n",
       "2021-05-01 -64.839335"
      ]
     },
     "execution_count": 96,
     "metadata": {
      "tags": []
     },
     "output_type": "execute_result"
    }
   ],
   "source": [
    "true_preds"
   ]
  },
  {
   "cell_type": "code",
   "execution_count": 0,
   "metadata": {
    "colab": {
     "base_uri": "https://localhost:8080/",
     "height": 413
    },
    "colab_type": "code",
    "id": "a3FBPzvPgqmJ",
    "outputId": "2f5bbcea-8b44-4eca-c6ef-6b3ecfee7d84"
   },
   "outputs": [
    {
     "data": {
      "text/plain": [
       "[<matplotlib.lines.Line2D at 0x7f3dc3c969b0>]"
      ]
     },
     "execution_count": 97,
     "metadata": {
      "tags": []
     },
     "output_type": "execute_result"
    },
    {
     "data": {
      "image/png": "[encoded data removed]",
      "text/plain": [
       "<Figure size 1440x576 with 1 Axes>"
      ]
     },
     "metadata": {
      "needs_background": "light",
      "tags": []
     },
     "output_type": "display_data"
    }
   ],
   "source": [
    "plt.figure(figsize=(20,8))\n",
    "plt.grid(True)\n",
    "plt.plot( true_preds['Forecast'])\n",
    "plt.plot( India_AQI['y'])"
   ]
  }
 ],
 "metadata": {
  "colab": {
   "collapsed_sections": [],
   "name": "internship.ipynb",
   "provenance": [],
   "toc_visible": true
  },
  "kernelspec": {
   "display_name": "Python 3",
   "language": "python",
   "name": "python3"
  },
  "language_info": {
   "codemirror_mode": {
    "name": "ipython",
    "version": 3
   },
   "file_extension": ".py",
   "mimetype": "text/x-python",
   "name": "python",
   "nbconvert_exporter": "python",
   "pygments_lexer": "ipython3",
   "version": "3.7.1"
  }
 },
 "nbformat": 4,
 "nbformat_minor": 1
}
